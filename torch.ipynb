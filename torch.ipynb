{
 "cells": [
  {
   "cell_type": "code",
   "execution_count": 1,
   "metadata": {
    "scrolled": true
   },
   "outputs": [
    {
     "name": "stdout",
     "output_type": "stream",
     "text": [
      "cpu\n"
     ]
    }
   ],
   "source": [
    "import torch\n",
    "import torch.nn as nn\n",
    "from torch.nn import functional as F\n",
    "import numpy as np\n",
    "import time\n",
    "device = 'cuda' if torch.cuda.is_available() else 'cpu'\n",
    "print(device)"
   ]
  },
  {
   "cell_type": "code",
   "execution_count": 2,
   "metadata": {
    "scrolled": true
   },
   "outputs": [
    {
     "name": "stdout",
     "output_type": "stream",
     "text": [
      "0.02092099\n",
      "CPU times: total: 0 ns\n",
      "Wall time: 20.9 ms\n"
     ]
    }
   ],
   "source": [
    "%%time\n",
    "start_time = time.time()\n",
    "# matrix operations here\n",
    "zeros = torch.zeros(1, 1)\n",
    "end_time = time.time()\n",
    "\n",
    "elapsed_time = end_time - start_time\n",
    "print(f\"{elapsed_time:.8f}\")"
   ]
  },
  {
   "cell_type": "markdown",
   "metadata": {},
   "source": [
    "using the time library to record execution time\n",
    "%%time to record the time taken for the cell to execute"
   ]
  },
  {
   "cell_type": "code",
   "execution_count": 3,
   "metadata": {},
   "outputs": [
    {
     "name": "stdout",
     "output_type": "stream",
     "text": [
      "6.07140398\n",
      "1.82920790\n"
     ]
    }
   ],
   "source": [
    "torch_rand1 = torch.rand(100, 100, 100, 100).to(device)\n",
    "torch_rand2 = torch.rand(100, 100, 100, 100).to(device)\n",
    "np_rand1 = torch.rand(100, 100, 100, 100)\n",
    "np_rand2 = torch.rand(100, 100, 100, 100)\n",
    "\n",
    "start_time = time.time()\n",
    "\n",
    "rand = (torch_rand1 @ torch_rand2)\n",
    "\n",
    "end_time = time.time()\n",
    "\n",
    "elapsed_time = end_time - start_time\n",
    "print(f\"{elapsed_time:.8f}\")\n",
    "\n",
    "\n",
    "start_time = time.time()\n",
    "\n",
    "rand = np.multiply(np_rand1, np_rand2)\n",
    "end_time = time.time()\n",
    "elapsed_time = end_time - start_time\n",
    "print(f\"{elapsed_time:.8f}\")"
   ]
  },
  {
   "cell_type": "code",
   "execution_count": 4,
   "metadata": {},
   "outputs": [
    {
     "name": "stdout",
     "output_type": "stream",
     "text": [
      "tensor([1, 1, 1, 1, 1, 1, 1, 1, 1, 1])\n"
     ]
    }
   ],
   "source": [
    "# embeddings, torch.stack, torch.multinomial, torch.tril, torch.triu, input.T / input.transpose, nn.Linear, torch.cat, F.softmax (show all the examples of functions/methods with pytorch docs)\n",
    "\n",
    "\n",
    "# Define a probability tensor\n",
    "probabilities = torch.tensor([0.1, 0.9])\n",
    "# 10% or 0.1 => 0, 90% or 0.9 => 1. each probability points to the index of the probability in the tensor\n",
    "# Draw 5 samples from the multinomial distribution\n",
    "samples = torch.multinomial(probabilities, num_samples=10, replacement=True)\n",
    "print(samples)\n"
   ]
  },
  {
   "cell_type": "code",
   "execution_count": 5,
   "metadata": {
    "scrolled": true
   },
   "outputs": [
    {
     "data": {
      "text/plain": [
       "tensor([1, 2, 3, 4, 5])"
      ]
     },
     "execution_count": 5,
     "metadata": {},
     "output_type": "execute_result"
    }
   ],
   "source": [
    "tensor = torch.tensor([1, 2, 3, 4])\n",
    "out = torch.cat((tensor, torch.tensor([5])), dim=0)\n",
    "out"
   ]
  },
  {
   "cell_type": "code",
   "execution_count": 6,
   "metadata": {
    "scrolled": true
   },
   "outputs": [
    {
     "data": {
      "text/plain": [
       "tensor([[1., 0., 0., 0., 0.],\n",
       "        [1., 1., 0., 0., 0.],\n",
       "        [1., 1., 1., 0., 0.],\n",
       "        [1., 1., 1., 1., 0.],\n",
       "        [1., 1., 1., 1., 1.]])"
      ]
     },
     "execution_count": 6,
     "metadata": {},
     "output_type": "execute_result"
    }
   ],
   "source": [
    "out = torch.tril(torch.ones(5, 5))\n",
    "out"
   ]
  },
  {
   "cell_type": "code",
   "execution_count": 7,
   "metadata": {},
   "outputs": [
    {
     "data": {
      "text/plain": [
       "tensor([[1., 1., 1., 1., 1.],\n",
       "        [0., 1., 1., 1., 1.],\n",
       "        [0., 0., 1., 1., 1.],\n",
       "        [0., 0., 0., 1., 1.],\n",
       "        [0., 0., 0., 0., 1.]])"
      ]
     },
     "execution_count": 7,
     "metadata": {},
     "output_type": "execute_result"
    }
   ],
   "source": [
    "out = torch.triu(torch.ones(5, 5))\n",
    "out"
   ]
  },
  {
   "cell_type": "code",
   "execution_count": 8,
   "metadata": {
    "scrolled": false
   },
   "outputs": [
    {
     "data": {
      "text/plain": [
       "tensor([[0., -inf, -inf, -inf, -inf],\n",
       "        [0., 0., -inf, -inf, -inf],\n",
       "        [0., 0., 0., -inf, -inf],\n",
       "        [0., 0., 0., 0., -inf],\n",
       "        [0., 0., 0., 0., 0.]])"
      ]
     },
     "execution_count": 8,
     "metadata": {},
     "output_type": "execute_result"
    }
   ],
   "source": [
    "out = torch.zeros(5, 5).masked_fill(torch.tril(torch.ones(5, 5)) == 0, float('-inf'))\n",
    "out"
   ]
  },
  {
   "cell_type": "code",
   "execution_count": 9,
   "metadata": {},
   "outputs": [
    {
     "data": {
      "text/plain": [
       "tensor([[1., 0., 0., 0., 0.],\n",
       "        [1., 1., 0., 0., 0.],\n",
       "        [1., 1., 1., 0., 0.],\n",
       "        [1., 1., 1., 1., 0.],\n",
       "        [1., 1., 1., 1., 1.]])"
      ]
     },
     "execution_count": 9,
     "metadata": {},
     "output_type": "execute_result"
    }
   ],
   "source": [
    "torch.exp(out)"
   ]
  },
  {
   "cell_type": "code",
   "execution_count": 10,
   "metadata": {},
   "outputs": [
    {
     "name": "stdout",
     "output_type": "stream",
     "text": [
      "torch.Size([3, 2, 4])\n",
      "torch.Size([2, 4, 3])\n"
     ]
    }
   ],
   "source": [
    "input = torch.zeros(2, 3, 4)\n",
    "out1 = input.transpose(0, 1)\n",
    "out2 = input.transpose(-2,-1)\n",
    "print(out1.shape)\n",
    "print(out2.shape)\n",
    "# torch.permute works the same but you provide the new order of dimensions instead of the dimensions you'd like to swap."
   ]
  },
  {
   "cell_type": "code",
   "execution_count": 11,
   "metadata": {},
   "outputs": [
    {
     "data": {
      "text/plain": [
       "tensor([[1, 2, 3],\n",
       "        [4, 5, 6],\n",
       "        [7, 8, 9]])"
      ]
     },
     "execution_count": 11,
     "metadata": {},
     "output_type": "execute_result"
    }
   ],
   "source": [
    "tensor1 = torch.tensor([1, 2, 3])\n",
    "tensor2 = torch.tensor([4, 5, 6])\n",
    "tensor3 = torch.tensor([7, 8, 9])\n",
    "\n",
    "# Stack the tensors along a new dimension\n",
    "stacked_tensor = torch.stack([tensor1, tensor2, tensor3])\n",
    "stacked_tensor\n"
   ]
  },
  {
   "cell_type": "code",
   "execution_count": 12,
   "metadata": {},
   "outputs": [
    {
     "name": "stdout",
     "output_type": "stream",
     "text": [
      "tensor([-5.0826,  1.1012,  8.0399], grad_fn=<SqueezeBackward3>)\n"
     ]
    }
   ],
   "source": [
    "import torch.nn as nn\n",
    "sample = torch.tensor([10.,10.,10.])\n",
    "linear = nn.Linear(3, 3, bias=False)\n",
    "print(linear(sample))"
   ]
  },
  {
   "cell_type": "code",
   "execution_count": 13,
   "metadata": {
    "scrolled": true
   },
   "outputs": [
    {
     "name": "stdout",
     "output_type": "stream",
     "text": [
      "tensor([0.0900, 0.2447, 0.6652])\n"
     ]
    }
   ],
   "source": [
    "import torch.nn.functional as F\n",
    "\n",
    "# Create a tensor\n",
    "tensor1 = torch.tensor([1.0, 2.0, 3.0])\n",
    "\n",
    "# Apply softmax using torch.nn.functional.softmax()\n",
    "softmax_output = F.softmax(tensor1, dim=0)\n",
    "\n",
    "print(softmax_output)"
   ]
  },
  {
   "cell_type": "code",
   "execution_count": 14,
   "metadata": {
    "scrolled": true
   },
   "outputs": [
    {
     "name": "stdout",
     "output_type": "stream",
     "text": [
      "torch.Size([4, 6])\n",
      "tensor([[ 1.0703, -2.5958,  0.4688,  0.6772, -0.1866,  1.3917],\n",
      "        [-0.6210, -0.9659,  0.1781, -0.0952, -1.4306, -1.0788],\n",
      "        [-0.7538, -0.0753,  1.7664, -1.2912,  0.6219, -1.7374],\n",
      "        [-2.3825, -0.6614, -0.0274,  0.3788, -0.0222, -0.8563]],\n",
      "       grad_fn=<EmbeddingBackward0>)\n"
     ]
    }
   ],
   "source": [
    "# Initialize an embedding layer\n",
    "vocab_size = 80\n",
    "embedding_dim = 6\n",
    "embedding = nn.Embedding(vocab_size, embedding_dim)\n",
    "\n",
    "# Create some input indices\n",
    "input_indices = torch.LongTensor([1, 5, 3, 2])\n",
    "\n",
    "# Apply the embedding layer\n",
    "embedded_output = embedding(input_indices)\n",
    "\n",
    "# The output will be a tensor of shape (4, 100), where 4 is the number of inputs\n",
    "# and 100 is the dimensionality of the embedding vectors\n",
    "print(embedded_output.shape)\n",
    "print(embedded_output)\n"
   ]
  },
  {
   "cell_type": "code",
   "execution_count": 15,
   "metadata": {
    "scrolled": true
   },
   "outputs": [
    {
     "name": "stdout",
     "output_type": "stream",
     "text": [
      "tensor([[ 27,  30,  33],\n",
      "        [ 61,  68,  75],\n",
      "        [ 95, 106, 117]])\n"
     ]
    }
   ],
   "source": [
    "a = torch.tensor([[1,2],[3,4],[5,6]])\n",
    "b = torch.tensor([[7,8,9],[10,11,12]])\n",
    "# print(a @ b)\n",
    "print(torch.matmul(a, b))"
   ]
  },
  {
   "cell_type": "code",
   "execution_count": 16,
   "metadata": {},
   "outputs": [
    {
     "name": "stdout",
     "output_type": "stream",
     "text": [
      "tensor([[0., 0., 0.],\n",
      "        [0., 0., 0.],\n",
      "        [0., 0., 0.]])\n"
     ]
    }
   ],
   "source": [
    "int_64 = torch.randint(1, (3, 2)).float()\n",
    "#type int64\n",
    "float_32 = torch.rand(2,3)\n",
    "#type float32\n",
    "# print(int_64.dtype, float_32.dtype)\n",
    "result = torch.matmul(int_64, float_32)\n",
    "print(result)"
   ]
  },
  {
   "cell_type": "code",
   "execution_count": 17,
   "metadata": {},
   "outputs": [
    {
     "name": "stdout",
     "output_type": "stream",
     "text": [
      "torch.Size([2, 3, 5])\n",
      "torch.Size([2, 3, 5])\n"
     ]
    }
   ],
   "source": [
    "a = torch.rand(2, 3, 5)\n",
    "print(a.shape)\n",
    "x, y, z = a.shape\n",
    "a = a.view(x,y,z)\n",
    "# print(x, y, z)\n",
    "print(a.shape)"
   ]
  },
  {
   "cell_type": "code",
   "execution_count": 19,
   "metadata": {
    "scrolled": true
   },
   "outputs": [
    {
     "name": "stdout",
     "output_type": "stream",
     "text": [
      "tensor([[0.1129, 0.9581, 0.2429, 0.8192, 0.1517, 0.0162, 0.9593, 0.1545, 0.6883,\n",
      "         0.9313],\n",
      "        [0.0533, 0.1668, 0.7850, 0.9014, 0.9240, 0.1299, 0.2002, 0.5155, 0.5907,\n",
      "         0.6552],\n",
      "        [0.9584, 0.5567, 0.9970, 0.3406, 0.3231, 0.5162, 0.1158, 0.5620, 0.7770,\n",
      "         0.8606],\n",
      "        [0.1730, 0.6153, 0.7899, 0.9145, 0.2500, 0.5700, 0.4544, 0.8071, 0.4372,\n",
      "         0.6967],\n",
      "        [0.5653, 0.5565, 0.8720, 0.0333, 0.8883, 0.6052, 0.6082, 0.6632, 0.8965,\n",
      "         0.5100],\n",
      "        [0.5984, 0.9171, 0.4032, 0.0477, 0.4321, 0.3638, 0.9640, 0.0831, 0.0093,\n",
      "         0.1782],\n",
      "        [0.2339, 0.6810, 0.9266, 0.0209, 0.7958, 0.6332, 0.3488, 0.9486, 0.2902,\n",
      "         0.1348],\n",
      "        [0.7754, 0.9617, 0.2125, 0.0999, 0.1640, 0.3500, 0.0373, 0.6148, 0.0295,\n",
      "         0.4750],\n",
      "        [0.9649, 0.3338, 0.4410, 0.3058, 0.1363, 0.3041, 0.6334, 0.6569, 0.6380,\n",
      "         0.8347],\n",
      "        [0.9533, 0.8713, 0.7295, 0.7817, 0.6801, 0.5920, 0.3887, 0.4258, 0.3829,\n",
      "         0.2251],\n",
      "        [0.5050, 0.7987, 0.4287, 0.5498, 0.6174, 0.4897, 0.6639, 0.9655, 0.6525,\n",
      "         0.7887],\n",
      "        [0.9599, 0.0890, 0.0583, 0.5051, 0.0419, 0.1805, 0.2401, 0.4754, 0.4797,\n",
      "         0.2921],\n",
      "        [0.2104, 0.4205, 0.2532, 0.7511, 0.7888, 0.1157, 0.0467, 0.9371, 0.3588,\n",
      "         0.7037],\n",
      "        [0.4077, 0.8211, 0.7185, 0.6367, 0.5853, 0.5015, 0.2204, 0.8974, 0.6787,\n",
      "         0.3267],\n",
      "        [0.1537, 0.3305, 0.1074, 0.1308, 0.9291, 0.0825, 0.2423, 0.4983, 0.5660,\n",
      "         0.7690],\n",
      "        [0.3893, 0.5244, 0.9408, 0.5780, 0.2321, 0.8195, 0.8257, 0.3911, 0.3070,\n",
      "         0.2234],\n",
      "        [0.9356, 0.1963, 0.2858, 0.6154, 0.2248, 0.2171, 0.0820, 0.7974, 0.9208,\n",
      "         0.8926],\n",
      "        [0.2777, 0.4209, 0.3852, 0.1178, 0.1946, 0.6834, 0.3276, 0.8860, 0.2112,\n",
      "         0.7947],\n",
      "        [0.4485, 0.1573, 0.1449, 0.0542, 0.5619, 0.2380, 0.3544, 0.6929, 0.8232,\n",
      "         0.6405],\n",
      "        [0.1171, 0.6634, 0.3253, 0.3567, 0.7346, 0.8833, 0.2872, 0.5818, 0.4039,\n",
      "         0.9233],\n",
      "        [0.1218, 0.1411, 0.6746, 0.1805, 0.6104, 0.7961, 0.9646, 0.7728, 0.7049,\n",
      "         0.3017],\n",
      "        [0.3706, 0.5614, 0.2902, 0.2785, 0.5692, 0.2062, 0.8466, 0.3714, 0.8860,\n",
      "         0.0734],\n",
      "        [0.6219, 0.0239, 0.1765, 0.6724, 0.0072, 0.7150, 0.0020, 0.9646, 0.1541,\n",
      "         0.6447],\n",
      "        [0.1069, 0.5208, 0.2136, 0.9636, 0.7142, 0.9481, 0.4312, 0.9800, 0.4239,\n",
      "         0.3827],\n",
      "        [0.2234, 0.9819, 0.4830, 0.4883, 0.1968, 0.6667, 0.2348, 0.5236, 0.3186,\n",
      "         0.5962],\n",
      "        [0.4085, 0.2589, 0.0602, 0.2174, 0.6178, 0.5319, 0.6992, 0.9232, 0.1246,\n",
      "         0.5754],\n",
      "        [0.7419, 0.3839, 0.3737, 0.5184, 0.1796, 0.3743, 0.1426, 0.8807, 0.3053,\n",
      "         0.3373],\n",
      "        [0.9374, 0.5846, 0.3782, 0.0269, 0.1593, 0.4518, 0.5605, 0.3900, 0.9812,\n",
      "         0.6836],\n",
      "        [0.2548, 0.9502, 0.2540, 0.7147, 0.2760, 0.6757, 0.5665, 0.0481, 0.4909,\n",
      "         0.4260],\n",
      "        [0.6605, 0.8618, 0.7068, 0.9045, 0.9280, 0.6936, 0.9702, 0.6589, 0.2176,\n",
      "         0.2451],\n",
      "        [0.7994, 0.7718, 0.5706, 0.1409, 0.7199, 0.1704, 0.6397, 0.8630, 0.8016,\n",
      "         0.7326],\n",
      "        [0.9695, 0.0199, 0.3176, 0.2147, 0.7859, 0.8459, 0.3336, 0.0376, 0.1499,\n",
      "         0.6046]])\n",
      "tensor([0.9695, 0.0199, 0.3176, 0.2147, 0.7859, 0.8459, 0.3336, 0.0376, 0.1499,\n",
      "        0.6046])\n"
     ]
    }
   ],
   "source": [
    "input = torch.rand((4, 8, 10))\n",
    "B, T, C = input.shape\n",
    "output = input.view(B*T, C)\n",
    "print(output)\n",
    "# print(input)\n",
    "print(output[-1, :])"
   ]
  },
  {
   "cell_type": "code",
   "execution_count": 20,
   "metadata": {
    "scrolled": true
   },
   "outputs": [
    {
     "name": "stdout",
     "output_type": "stream",
     "text": [
      "tensor([1.])\n"
     ]
    },
    {
     "name": "stderr",
     "output_type": "stream",
     "text": [
      "C:\\Users\\aarza\\anaconda3\\lib\\site-packages\\torch\\nn\\functional.py:1949: UserWarning: nn.functional.tanh is deprecated. Use torch.tanh instead.\n",
      "  warnings.warn(\"nn.functional.tanh is deprecated. Use torch.tanh instead.\")\n"
     ]
    }
   ],
   "source": [
    "x = torch.tensor([10], dtype=torch.float32)\n",
    "y = F.tanh(x)\n",
    "print(y)"
   ]
  },
  {
   "cell_type": "code",
   "execution_count": null,
   "metadata": {},
   "outputs": [],
   "source": []
  },
  {
   "cell_type": "code",
   "execution_count": null,
   "metadata": {},
   "outputs": [],
   "source": []
  }
 ],
 "metadata": {
  "kernelspec": {
   "display_name": "Python 3 (ipykernel)",
   "language": "python",
   "name": "python3"
  },
  "language_info": {
   "codemirror_mode": {
    "name": "ipython",
    "version": 3
   },
   "file_extension": ".py",
   "mimetype": "text/x-python",
   "name": "python",
   "nbconvert_exporter": "python",
   "pygments_lexer": "ipython3",
   "version": "3.10.9"
  }
 },
 "nbformat": 4,
 "nbformat_minor": 2
}
