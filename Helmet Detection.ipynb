{
 "cells": [
  {
   "cell_type": "code",
   "execution_count": 1,
   "id": "ef562f5d",
   "metadata": {},
   "outputs": [
    {
     "ename": "error",
     "evalue": "OpenCV(4.8.0) D:\\a\\opencv-python\\opencv-python\\opencv\\modules\\imgproc\\src\\resize.cpp:4062: error: (-215:Assertion failed) !ssize.empty() in function 'cv::resize'\n",
     "output_type": "error",
     "traceback": [
      "\u001b[1;31m---------------------------------------------------------------------------\u001b[0m",
      "\u001b[1;31merror\u001b[0m                                     Traceback (most recent call last)",
      "Cell \u001b[1;32mIn[1], line 18\u001b[0m\n\u001b[0;32m     15\u001b[0m _, imageFrame \u001b[38;5;241m=\u001b[39m webcam\u001b[38;5;241m.\u001b[39mread()\n\u001b[0;32m     17\u001b[0m \u001b[38;5;66;03m# Resize the frame to the desired width and height\u001b[39;00m\n\u001b[1;32m---> 18\u001b[0m imageFrame \u001b[38;5;241m=\u001b[39m \u001b[43mcv2\u001b[49m\u001b[38;5;241;43m.\u001b[39;49m\u001b[43mresize\u001b[49m\u001b[43m(\u001b[49m\u001b[43mimageFrame\u001b[49m\u001b[43m,\u001b[49m\u001b[43m \u001b[49m\u001b[43m(\u001b[49m\u001b[43mframe_width\u001b[49m\u001b[43m,\u001b[49m\u001b[43m \u001b[49m\u001b[43mframe_height\u001b[49m\u001b[43m)\u001b[49m\u001b[43m)\u001b[49m\n\u001b[0;32m     20\u001b[0m \u001b[38;5;66;03m# Convert the BGR image to HSV color space for better color detection\u001b[39;00m\n\u001b[0;32m     21\u001b[0m hsvFrame \u001b[38;5;241m=\u001b[39m cv2\u001b[38;5;241m.\u001b[39mcvtColor(imageFrame, cv2\u001b[38;5;241m.\u001b[39mCOLOR_BGR2HSV)\n",
      "\u001b[1;31merror\u001b[0m: OpenCV(4.8.0) D:\\a\\opencv-python\\opencv-python\\opencv\\modules\\imgproc\\src\\resize.cpp:4062: error: (-215:Assertion failed) !ssize.empty() in function 'cv::resize'\n"
     ]
    }
   ],
   "source": [
    "import cv2\n",
    "import numpy as np\n",
    "\n",
    "# Create a VideoCapture object to access the video file\n",
    "video_file_path = r\"C:\\Users\\aarza\\Desktop\\python\\DeepLearning\\helmet\\pexels-mikael-blomkvist-8965567 (1080p).mp4\"\n",
    "webcam = cv2.VideoCapture(video_file_path)\n",
    "\n",
    "# Define the desired frame width and height for resizing\n",
    "frame_width = 540  # You can adjust this as needed\n",
    "frame_height = 680  # You can adjust this as needed\n",
    "\n",
    "# Start an infinite loop to continuously process frames from the video\n",
    "while True:\n",
    "    # Read a frame from the video\n",
    "    _, imageFrame = webcam.read()\n",
    "\n",
    "    # Resize the frame to the desired width and height\n",
    "    imageFrame = cv2.resize(imageFrame, (frame_width, frame_height))\n",
    "    \n",
    "    # Convert the BGR image to HSV color space for better color detection\n",
    "    hsvFrame = cv2.cvtColor(imageFrame, cv2.COLOR_BGR2HSV)\n",
    "\n",
    "    # Define more precise lower and upper bounds for yellow color in HSV\n",
    "    helmet_lower = np.array([25, 100, 150], np.uint8)\n",
    "    helmet_upper = np.array([35, 255, 255], np.uint8)\n",
    "    \n",
    "    # Create a mask for detecting yellow color in the frame\n",
    "    helmet_mask = cv2.inRange(hsvFrame, helmet_lower, helmet_upper)\n",
    "    \n",
    "    # Define a kernel for morphological operations\n",
    "    kernel = np.ones((5, 5), \"uint8\")\n",
    "    \n",
    "    # Dilate the yellow mask to make the yellow regions more prominent\n",
    "    helmet_mask = cv2.dilate(helmet_mask, kernel)\n",
    "    \n",
    "    # Apply the yellow mask to the original frame to highlight yellow regions\n",
    "    res_helmet = cv2.bitwise_and(imageFrame, imageFrame, mask=helmet_mask)\n",
    "    \n",
    "    # Find contours in the yellow mask\n",
    "    contours, hierarchy = cv2.findContours(helmet_mask, cv2.RETR_TREE, cv2.CHAIN_APPROX_SIMPLE)\n",
    "    \n",
    "    # Loop through the detected contours for the yellow color\n",
    "    for pic, contour in enumerate(contours):\n",
    "        area = cv2.contourArea(contour)\n",
    "        if area > 300:\n",
    "            x, y, w, h = cv2.boundingRect(contour)\n",
    "            # Draw a bounding box and label it as \"Yellow Colour\"\n",
    "            imageFrame = cv2.rectangle(imageFrame, (x, y), (x + w, y + h), (0, 255, 255), 2)\n",
    "            cv2.putText(imageFrame, \"Helmet\", (x, y), cv2.FONT_HERSHEY_DUPLEX, 1.0, (0, 255, 255))\n",
    "\n",
    "    # Display the resulting resized frame with the precise yellow color detection\n",
    "    cv2.imshow(\"Precise Yellow Color Detection\", imageFrame)\n",
    "    \n",
    "    # Break the loop when 'q' is pressed\n",
    "    if cv2.waitKey(10) & 0xFF == ord('q'):\n",
    "        break\n",
    "\n",
    "# Release the video file and close all windows\n",
    "webcam.release()\n",
    "cv2.destroyAllWindows()\n"
   ]
  },
  {
   "cell_type": "code",
   "execution_count": null,
   "id": "35028e4a",
   "metadata": {},
   "outputs": [],
   "source": []
  }
 ],
 "metadata": {
  "kernelspec": {
   "display_name": "Python 3 (ipykernel)",
   "language": "python",
   "name": "python3"
  },
  "language_info": {
   "codemirror_mode": {
    "name": "ipython",
    "version": 3
   },
   "file_extension": ".py",
   "mimetype": "text/x-python",
   "name": "python",
   "nbconvert_exporter": "python",
   "pygments_lexer": "ipython3",
   "version": "3.10.9"
  }
 },
 "nbformat": 4,
 "nbformat_minor": 5
}
