{
 "cells": [
  {
   "cell_type": "markdown",
   "id": "5aaf1061",
   "metadata": {},
   "source": [
    "# BASIC OF NUMPY"
   ]
  },
  {
   "cell_type": "code",
   "execution_count": 1,
   "id": "d2231155",
   "metadata": {},
   "outputs": [],
   "source": [
    "## Numpy is used for numerical operations"
   ]
  },
  {
   "cell_type": "code",
   "execution_count": 2,
   "id": "0878e1a6",
   "metadata": {},
   "outputs": [],
   "source": [
    "## array is a collection of data ....array is like list but array is n dimensional"
   ]
  },
  {
   "cell_type": "code",
   "execution_count": 3,
   "id": "c40e0013",
   "metadata": {},
   "outputs": [],
   "source": [
    "## size is known as shape in array, shape means dimension.."
   ]
  },
  {
   "cell_type": "code",
   "execution_count": 4,
   "id": "852ed0e4",
   "metadata": {},
   "outputs": [],
   "source": [
    "## (x,x) first is always row and second is always column ## [Row,Column]"
   ]
  },
  {
   "cell_type": "code",
   "execution_count": 5,
   "id": "7faaa527",
   "metadata": {},
   "outputs": [],
   "source": [
    "## array is strictly n dimensional and matrix is 2 dimensional"
   ]
  },
  {
   "cell_type": "code",
   "execution_count": 2,
   "id": "a5a5d0b9",
   "metadata": {},
   "outputs": [],
   "source": [
    "import numpy as np"
   ]
  },
  {
   "cell_type": "code",
   "execution_count": 7,
   "id": "6d0b8a3b",
   "metadata": {},
   "outputs": [
    {
     "data": {
      "text/plain": [
       "array([1, 2, 3, 4, 5])"
      ]
     },
     "execution_count": 7,
     "metadata": {},
     "output_type": "execute_result"
    }
   ],
   "source": [
    "## define an 1d array\n",
    "arr1 = np.array([1,2,3,4,5])\n",
    "arr1"
   ]
  },
  {
   "cell_type": "code",
   "execution_count": 8,
   "id": "e7bfdc37",
   "metadata": {},
   "outputs": [
    {
     "data": {
      "text/plain": [
       "numpy.ndarray"
      ]
     },
     "execution_count": 8,
     "metadata": {},
     "output_type": "execute_result"
    }
   ],
   "source": [
    "type(arr1)"
   ]
  },
  {
   "cell_type": "code",
   "execution_count": 9,
   "id": "ca4d3564",
   "metadata": {},
   "outputs": [
    {
     "data": {
      "text/plain": [
       "(5,)"
      ]
     },
     "execution_count": 9,
     "metadata": {},
     "output_type": "execute_result"
    }
   ],
   "source": [
    "## Checking the shape\n",
    "arr1.shape"
   ]
  },
  {
   "cell_type": "code",
   "execution_count": 10,
   "id": "57c3125c",
   "metadata": {},
   "outputs": [],
   "source": [
    "## operation on 1d array"
   ]
  },
  {
   "cell_type": "code",
   "execution_count": 11,
   "id": "02d41dba",
   "metadata": {},
   "outputs": [
    {
     "data": {
      "text/plain": [
       "15"
      ]
     },
     "execution_count": 11,
     "metadata": {},
     "output_type": "execute_result"
    }
   ],
   "source": [
    "## sum \n",
    "arr1.sum() ## sum the entire array"
   ]
  },
  {
   "cell_type": "code",
   "execution_count": 12,
   "id": "5b9b3f27",
   "metadata": {},
   "outputs": [
    {
     "data": {
      "text/plain": [
       "3.0"
      ]
     },
     "execution_count": 12,
     "metadata": {},
     "output_type": "execute_result"
    }
   ],
   "source": [
    "arr1.mean() ## mean of the array"
   ]
  },
  {
   "cell_type": "code",
   "execution_count": 13,
   "id": "6660e964",
   "metadata": {},
   "outputs": [
    {
     "data": {
      "text/plain": [
       "1.4142135623730951"
      ]
     },
     "execution_count": 13,
     "metadata": {},
     "output_type": "execute_result"
    }
   ],
   "source": [
    "arr1.std()"
   ]
  },
  {
   "cell_type": "code",
   "execution_count": 14,
   "id": "8120d192",
   "metadata": {},
   "outputs": [],
   "source": [
    "## create an 2d array"
   ]
  },
  {
   "cell_type": "code",
   "execution_count": 19,
   "id": "dcac1431",
   "metadata": {},
   "outputs": [
    {
     "data": {
      "text/plain": [
       "array([1, 2, 3, 4, 5])"
      ]
     },
     "execution_count": 19,
     "metadata": {},
     "output_type": "execute_result"
    }
   ],
   "source": [
    "arr2 = np.array([1,2,3,4,5])\n",
    "arr2"
   ]
  },
  {
   "cell_type": "code",
   "execution_count": 20,
   "id": "84ef3fb1",
   "metadata": {},
   "outputs": [
    {
     "data": {
      "text/plain": [
       "(5,)"
      ]
     },
     "execution_count": 20,
     "metadata": {},
     "output_type": "execute_result"
    }
   ],
   "source": [
    "arr2.shape ## (row,column)"
   ]
  },
  {
   "cell_type": "code",
   "execution_count": 22,
   "id": "097c939a",
   "metadata": {},
   "outputs": [],
   "source": [
    "arr3 = np.array([[1,2,3],[4,5,6]])"
   ]
  },
  {
   "cell_type": "code",
   "execution_count": 23,
   "id": "910e510b",
   "metadata": {},
   "outputs": [
    {
     "data": {
      "text/plain": [
       "array([[1, 2, 3],\n",
       "       [4, 5, 6]])"
      ]
     },
     "execution_count": 23,
     "metadata": {},
     "output_type": "execute_result"
    }
   ],
   "source": [
    "arr3"
   ]
  },
  {
   "cell_type": "code",
   "execution_count": 25,
   "id": "026a1054",
   "metadata": {},
   "outputs": [
    {
     "data": {
      "text/plain": [
       "array([[1, 2, 3],\n",
       "       [4, 5, 6]])"
      ]
     },
     "execution_count": 25,
     "metadata": {},
     "output_type": "execute_result"
    }
   ],
   "source": [
    "arr3[:] ## entire arr all rows all columns arr3[row,column]"
   ]
  },
  {
   "cell_type": "code",
   "execution_count": 26,
   "id": "eeffa85d",
   "metadata": {},
   "outputs": [
    {
     "data": {
      "text/plain": [
       "(2, 3)"
      ]
     },
     "execution_count": 26,
     "metadata": {},
     "output_type": "execute_result"
    }
   ],
   "source": [
    "arr3.shape"
   ]
  },
  {
   "cell_type": "code",
   "execution_count": 27,
   "id": "06b8cecf",
   "metadata": {},
   "outputs": [
    {
     "data": {
      "text/plain": [
       "array([[4, 5, 6, 7, 8],\n",
       "       [9, 8, 7, 6, 5]])"
      ]
     },
     "execution_count": 27,
     "metadata": {},
     "output_type": "execute_result"
    }
   ],
   "source": [
    "arr4 = np.array([[4,5,6,7,8,],[9,8,7,6,5]])\n",
    "arr4"
   ]
  },
  {
   "cell_type": "code",
   "execution_count": 28,
   "id": "3188bf5c",
   "metadata": {},
   "outputs": [
    {
     "data": {
      "text/plain": [
       "(2, 5)"
      ]
     },
     "execution_count": 28,
     "metadata": {},
     "output_type": "execute_result"
    }
   ],
   "source": [
    "arr4.shape"
   ]
  },
  {
   "cell_type": "code",
   "execution_count": 29,
   "id": "95126013",
   "metadata": {},
   "outputs": [],
   "source": [
    "## [:] means select all"
   ]
  },
  {
   "cell_type": "code",
   "execution_count": 32,
   "id": "786217c7",
   "metadata": {},
   "outputs": [
    {
     "data": {
      "text/plain": [
       "array([[1, 2, 3],\n",
       "       [4, 5, 6]])"
      ]
     },
     "execution_count": 32,
     "metadata": {},
     "output_type": "execute_result"
    }
   ],
   "source": [
    "arr3[:] ## Entire arr all rows all columns arr3[rows,column]"
   ]
  },
  {
   "cell_type": "code",
   "execution_count": 33,
   "id": "1c2dcba1",
   "metadata": {},
   "outputs": [
    {
     "data": {
      "text/plain": [
       "array([1, 4])"
      ]
     },
     "execution_count": 33,
     "metadata": {},
     "output_type": "execute_result"
    }
   ],
   "source": [
    "arr3[:,0] ## All rows of 1st index column : >all rows, 1 > mean column at 1 index"
   ]
  },
  {
   "cell_type": "code",
   "execution_count": 34,
   "id": "ce126883",
   "metadata": {},
   "outputs": [
    {
     "data": {
      "text/plain": [
       "array([1, 2, 3])"
      ]
     },
     "execution_count": 34,
     "metadata": {},
     "output_type": "execute_result"
    }
   ],
   "source": [
    "arr3[0,:] ## 0=> 0th row and all columns"
   ]
  },
  {
   "cell_type": "code",
   "execution_count": 35,
   "id": "7761e96f",
   "metadata": {},
   "outputs": [],
   "source": [
    "arr3[0,2] = 99 ## postion 0,2"
   ]
  },
  {
   "cell_type": "code",
   "execution_count": 36,
   "id": "2d9384b3",
   "metadata": {},
   "outputs": [
    {
     "data": {
      "text/plain": [
       "array([[ 1,  2, 99],\n",
       "       [ 4,  5,  6]])"
      ]
     },
     "execution_count": 36,
     "metadata": {},
     "output_type": "execute_result"
    }
   ],
   "source": [
    "arr3"
   ]
  },
  {
   "cell_type": "code",
   "execution_count": 37,
   "id": "1adcfbfb",
   "metadata": {},
   "outputs": [
    {
     "data": {
      "text/plain": [
       "(2, 3)"
      ]
     },
     "execution_count": 37,
     "metadata": {},
     "output_type": "execute_result"
    }
   ],
   "source": [
    "arr3.shape"
   ]
  },
  {
   "cell_type": "code",
   "execution_count": 38,
   "id": "38f67bd8",
   "metadata": {},
   "outputs": [],
   "source": [
    "## row is known by axis=1, column is known by axis = 0"
   ]
  },
  {
   "cell_type": "code",
   "execution_count": 39,
   "id": "7fed7c67",
   "metadata": {},
   "outputs": [],
   "source": [
    "## if you want to add,sum,mean,max etc column wise or row wise you have to use axis"
   ]
  },
  {
   "cell_type": "code",
   "execution_count": 40,
   "id": "1b1c002c",
   "metadata": {},
   "outputs": [],
   "source": [
    "## mean output is always in float"
   ]
  },
  {
   "cell_type": "code",
   "execution_count": 41,
   "id": "18e68532",
   "metadata": {},
   "outputs": [
    {
     "data": {
      "text/plain": [
       "array([  5,   7, 105])"
      ]
     },
     "execution_count": 41,
     "metadata": {},
     "output_type": "execute_result"
    }
   ],
   "source": [
    "arr3.sum(axis=0)"
   ]
  },
  {
   "cell_type": "code",
   "execution_count": 42,
   "id": "cac8c8fe",
   "metadata": {},
   "outputs": [
    {
     "data": {
      "text/plain": [
       "array([102,  15])"
      ]
     },
     "execution_count": 42,
     "metadata": {},
     "output_type": "execute_result"
    }
   ],
   "source": [
    "arr3.sum(axis=1)"
   ]
  },
  {
   "cell_type": "code",
   "execution_count": 43,
   "id": "6458052f",
   "metadata": {},
   "outputs": [
    {
     "data": {
      "text/plain": [
       "array([ 2.5,  3.5, 52.5])"
      ]
     },
     "execution_count": 43,
     "metadata": {},
     "output_type": "execute_result"
    }
   ],
   "source": [
    "arr3.mean(axis=0)"
   ]
  },
  {
   "cell_type": "code",
   "execution_count": 44,
   "id": "5813834b",
   "metadata": {},
   "outputs": [
    {
     "data": {
      "text/plain": [
       "array([34.,  5.])"
      ]
     },
     "execution_count": 44,
     "metadata": {},
     "output_type": "execute_result"
    }
   ],
   "source": [
    "arr3.mean(axis=1)"
   ]
  },
  {
   "cell_type": "code",
   "execution_count": 45,
   "id": "f2efeb26",
   "metadata": {},
   "outputs": [
    {
     "data": {
      "text/plain": [
       "array([99,  6])"
      ]
     },
     "execution_count": 45,
     "metadata": {},
     "output_type": "execute_result"
    }
   ],
   "source": [
    "arr3.max(axis=1)"
   ]
  },
  {
   "cell_type": "code",
   "execution_count": 46,
   "id": "3eea215a",
   "metadata": {},
   "outputs": [
    {
     "data": {
      "text/plain": [
       "array([ 4,  5, 99])"
      ]
     },
     "execution_count": 46,
     "metadata": {},
     "output_type": "execute_result"
    }
   ],
   "source": [
    "arr3.max(axis=0)"
   ]
  },
  {
   "cell_type": "code",
   "execution_count": 47,
   "id": "070b9568",
   "metadata": {},
   "outputs": [
    {
     "data": {
      "text/plain": [
       "array([[ 1,  2, 99],\n",
       "       [ 4,  5,  6]])"
      ]
     },
     "execution_count": 47,
     "metadata": {},
     "output_type": "execute_result"
    }
   ],
   "source": [
    "arr3"
   ]
  },
  {
   "cell_type": "code",
   "execution_count": 48,
   "id": "db003f4f",
   "metadata": {},
   "outputs": [
    {
     "data": {
      "text/plain": [
       "array([1, 1, 0], dtype=int64)"
      ]
     },
     "execution_count": 48,
     "metadata": {},
     "output_type": "execute_result"
    }
   ],
   "source": [
    "arr3.argmax(axis=0) ## gives index of maximum value in each column"
   ]
  },
  {
   "cell_type": "code",
   "execution_count": 50,
   "id": "76573b64",
   "metadata": {},
   "outputs": [
    {
     "data": {
      "text/plain": [
       "array([2, 2], dtype=int64)"
      ]
     },
     "execution_count": 50,
     "metadata": {},
     "output_type": "execute_result"
    }
   ],
   "source": [
    "arr3.argmax(axis=1) ## gives index of maximum value in each row"
   ]
  },
  {
   "cell_type": "code",
   "execution_count": 51,
   "id": "12c01b96",
   "metadata": {},
   "outputs": [
    {
     "data": {
      "text/plain": [
       "array([1, 2, 6])"
      ]
     },
     "execution_count": 51,
     "metadata": {},
     "output_type": "execute_result"
    }
   ],
   "source": [
    "arr3.min(axis=0)"
   ]
  },
  {
   "cell_type": "code",
   "execution_count": 52,
   "id": "adfabdfb",
   "metadata": {},
   "outputs": [
    {
     "data": {
      "text/plain": [
       "array([1, 4])"
      ]
     },
     "execution_count": 52,
     "metadata": {},
     "output_type": "execute_result"
    }
   ],
   "source": [
    "arr3.min(axis=1)"
   ]
  },
  {
   "cell_type": "code",
   "execution_count": 53,
   "id": "d38286cf",
   "metadata": {},
   "outputs": [
    {
     "data": {
      "text/plain": [
       "array([0, 0, 1], dtype=int64)"
      ]
     },
     "execution_count": 53,
     "metadata": {},
     "output_type": "execute_result"
    }
   ],
   "source": [
    "arr3.argmin(axis=0) ## gives index of minimum value in each column"
   ]
  },
  {
   "cell_type": "code",
   "execution_count": 54,
   "id": "51bc00b9",
   "metadata": {},
   "outputs": [
    {
     "data": {
      "text/plain": [
       "array([[0.6451589 , 0.63021014, 0.70291725, 0.9058149 ],\n",
       "       [0.03193094, 0.53877613, 0.59858039, 0.13285459],\n",
       "       [0.92061344, 0.63761073, 0.07398183, 0.86489128]])"
      ]
     },
     "execution_count": 54,
     "metadata": {},
     "output_type": "execute_result"
    }
   ],
   "source": [
    "arr4 = np.random.rand(3,4)\n",
    "arr4"
   ]
  },
  {
   "cell_type": "code",
   "execution_count": 55,
   "id": "bda9d5a5",
   "metadata": {},
   "outputs": [
    {
     "data": {
      "text/plain": [
       "array([[0.6451589 , 0.63021014, 0.70291725],\n",
       "       [0.9058149 , 0.03193094, 0.53877613],\n",
       "       [0.59858039, 0.13285459, 0.92061344],\n",
       "       [0.63761073, 0.07398183, 0.86489128]])"
      ]
     },
     "execution_count": 55,
     "metadata": {},
     "output_type": "execute_result"
    }
   ],
   "source": [
    "arr4.reshape(4,3) ## arr.reshape(row,column) ## while reshape the multiply should be same for eg now the multiply is 12"
   ]
  },
  {
   "cell_type": "code",
   "execution_count": 56,
   "id": "b1a695c6",
   "metadata": {},
   "outputs": [
    {
     "data": {
      "text/plain": [
       "array([[0.6451589 , 0.63021014, 0.70291725, 0.9058149 , 0.03193094,\n",
       "        0.53877613, 0.59858039, 0.13285459, 0.92061344, 0.63761073,\n",
       "        0.07398183, 0.86489128]])"
      ]
     },
     "execution_count": 56,
     "metadata": {},
     "output_type": "execute_result"
    }
   ],
   "source": [
    "arr4.reshape(1,-1) ## change shape to 1 row and adjust element auto"
   ]
  },
  {
   "cell_type": "code",
   "execution_count": 57,
   "id": "19e0ed57",
   "metadata": {},
   "outputs": [
    {
     "data": {
      "text/plain": [
       "array([[0.6451589 ],\n",
       "       [0.63021014],\n",
       "       [0.70291725],\n",
       "       [0.9058149 ],\n",
       "       [0.03193094],\n",
       "       [0.53877613],\n",
       "       [0.59858039],\n",
       "       [0.13285459],\n",
       "       [0.92061344],\n",
       "       [0.63761073],\n",
       "       [0.07398183],\n",
       "       [0.86489128]])"
      ]
     },
     "execution_count": 57,
     "metadata": {},
     "output_type": "execute_result"
    }
   ],
   "source": [
    "arr4.reshape(-1,1) ## -1 means nothing"
   ]
  },
  {
   "cell_type": "markdown",
   "id": "3e5db9b8",
   "metadata": {},
   "source": [
    "# SCALER OPERATION ON ARRAY"
   ]
  },
  {
   "cell_type": "code",
   "execution_count": 58,
   "id": "84af8317",
   "metadata": {},
   "outputs": [
    {
     "data": {
      "text/plain": [
       "array([[64.51589005, 63.02101435, 70.29172535, 90.58149049],\n",
       "       [ 3.19309406, 53.8776129 , 59.85803928, 13.28545852],\n",
       "       [92.06134404, 63.7610727 ,  7.39818342, 86.48912824]])"
      ]
     },
     "execution_count": 58,
     "metadata": {},
     "output_type": "execute_result"
    }
   ],
   "source": [
    "arr4*100"
   ]
  },
  {
   "cell_type": "code",
   "execution_count": 59,
   "id": "e934a909",
   "metadata": {},
   "outputs": [
    {
     "data": {
      "text/plain": [
       "array([[0.00645159, 0.0063021 , 0.00702917, 0.00905815],\n",
       "       [0.00031931, 0.00538776, 0.0059858 , 0.00132855],\n",
       "       [0.00920613, 0.00637611, 0.00073982, 0.00864891]])"
      ]
     },
     "execution_count": 59,
     "metadata": {},
     "output_type": "execute_result"
    }
   ],
   "source": [
    "arr4/100"
   ]
  },
  {
   "cell_type": "code",
   "execution_count": 60,
   "id": "89eede83",
   "metadata": {},
   "outputs": [
    {
     "data": {
      "text/plain": [
       "array([[-0.27545454, -0.2904033 , -0.21769619, -0.01479854],\n",
       "       [-0.8886825 , -0.38183731, -0.32203305, -0.78775886],\n",
       "       [ 0.        , -0.28300271, -0.84663161, -0.05572216]])"
      ]
     },
     "execution_count": 60,
     "metadata": {},
     "output_type": "execute_result"
    }
   ],
   "source": [
    "arr4 - arr4.max()"
   ]
  },
  {
   "cell_type": "code",
   "execution_count": 61,
   "id": "e7d941b7",
   "metadata": {},
   "outputs": [
    {
     "data": {
      "text/plain": [
       "array([[1, 2, 3],\n",
       "       [4, 5, 6],\n",
       "       [7, 8, 9]])"
      ]
     },
     "execution_count": 61,
     "metadata": {},
     "output_type": "execute_result"
    }
   ],
   "source": [
    "arr5 = np.array([[1,2,3],[4,5,6],[7,8,9]])\n",
    "arr5"
   ]
  },
  {
   "cell_type": "code",
   "execution_count": 62,
   "id": "a42cbfd7",
   "metadata": {},
   "outputs": [
    {
     "data": {
      "text/plain": [
       "array([[1, 2],\n",
       "       [3, 4],\n",
       "       [5, 6]])"
      ]
     },
     "execution_count": 62,
     "metadata": {},
     "output_type": "execute_result"
    }
   ],
   "source": [
    "arr6 = np.array([[1,2],[3,4],[5,6]])\n",
    "arr6"
   ]
  },
  {
   "cell_type": "code",
   "execution_count": 64,
   "id": "54157c48",
   "metadata": {},
   "outputs": [
    {
     "ename": "ValueError",
     "evalue": "operands could not be broadcast together with shapes (3,3) (3,2) ",
     "output_type": "error",
     "traceback": [
      "\u001b[1;31m---------------------------------------------------------------------------\u001b[0m",
      "\u001b[1;31mValueError\u001b[0m                                Traceback (most recent call last)",
      "\u001b[1;32m~\\AppData\\Local\\Temp\\ipykernel_14356\\2253583828.py\u001b[0m in \u001b[0;36m<module>\u001b[1;34m\u001b[0m\n\u001b[1;32m----> 1\u001b[1;33m \u001b[0marr5\u001b[0m\u001b[1;33m+\u001b[0m\u001b[0marr6\u001b[0m \u001b[1;31m## error cause dimensions should be same\u001b[0m\u001b[1;33m\u001b[0m\u001b[1;33m\u001b[0m\u001b[0m\n\u001b[0m",
      "\u001b[1;31mValueError\u001b[0m: operands could not be broadcast together with shapes (3,3) (3,2) "
     ]
    }
   ],
   "source": [
    "arr5+arr6 ## error cause dimensions should be same"
   ]
  },
  {
   "cell_type": "code",
   "execution_count": 65,
   "id": "49945569",
   "metadata": {},
   "outputs": [
    {
     "data": {
      "text/plain": [
       "array([[1, 2, 5],\n",
       "       [3, 4, 5],\n",
       "       [5, 6, 8]])"
      ]
     },
     "execution_count": 65,
     "metadata": {},
     "output_type": "execute_result"
    }
   ],
   "source": [
    "arr6 = np.array([[1,2,5],[3,4,5],[5,6,8]])\n",
    "arr6"
   ]
  },
  {
   "cell_type": "code",
   "execution_count": 66,
   "id": "6746c9e0",
   "metadata": {},
   "outputs": [
    {
     "data": {
      "text/plain": [
       "array([[ 2,  4,  8],\n",
       "       [ 7,  9, 11],\n",
       "       [12, 14, 17]])"
      ]
     },
     "execution_count": 66,
     "metadata": {},
     "output_type": "execute_result"
    }
   ],
   "source": [
    "arr5 + arr6"
   ]
  },
  {
   "cell_type": "code",
   "execution_count": 67,
   "id": "da44ec2c",
   "metadata": {},
   "outputs": [
    {
     "data": {
      "text/plain": [
       "array([[ 1,  4, 15],\n",
       "       [12, 20, 30],\n",
       "       [35, 48, 72]])"
      ]
     },
     "execution_count": 67,
     "metadata": {},
     "output_type": "execute_result"
    }
   ],
   "source": [
    "arr5*arr6"
   ]
  },
  {
   "cell_type": "code",
   "execution_count": 68,
   "id": "81c6b771",
   "metadata": {},
   "outputs": [
    {
     "data": {
      "text/plain": [
       "array([[ 0,  0, -2],\n",
       "       [ 1,  1,  1],\n",
       "       [ 2,  2,  1]])"
      ]
     },
     "execution_count": 68,
     "metadata": {},
     "output_type": "execute_result"
    }
   ],
   "source": [
    "arr5 - arr6"
   ]
  },
  {
   "cell_type": "code",
   "execution_count": 69,
   "id": "533edfbd",
   "metadata": {},
   "outputs": [
    {
     "data": {
      "text/plain": [
       "array([[ 1,  4,  9],\n",
       "       [16, 25, 36],\n",
       "       [49, 64, 81]], dtype=int32)"
      ]
     },
     "execution_count": 69,
     "metadata": {},
     "output_type": "execute_result"
    }
   ],
   "source": [
    "arr5**2"
   ]
  },
  {
   "cell_type": "markdown",
   "id": "6cd974be",
   "metadata": {},
   "source": [
    "# TRIGNOMETRIC OPERATION"
   ]
  },
  {
   "cell_type": "code",
   "execution_count": 70,
   "id": "8d9d8f01",
   "metadata": {},
   "outputs": [
    {
     "data": {
      "text/plain": [
       "3.141592653589793"
      ]
     },
     "execution_count": 70,
     "metadata": {},
     "output_type": "execute_result"
    }
   ],
   "source": [
    "np.pi"
   ]
  },
  {
   "cell_type": "code",
   "execution_count": 71,
   "id": "a43ce26d",
   "metadata": {},
   "outputs": [
    {
     "data": {
      "text/plain": [
       "0.0"
      ]
     },
     "execution_count": 71,
     "metadata": {},
     "output_type": "execute_result"
    }
   ],
   "source": [
    "np.sin(0)"
   ]
  },
  {
   "cell_type": "code",
   "execution_count": 72,
   "id": "0756bd84",
   "metadata": {},
   "outputs": [
    {
     "data": {
      "text/plain": [
       "0.0"
      ]
     },
     "execution_count": 72,
     "metadata": {},
     "output_type": "execute_result"
    }
   ],
   "source": [
    "np.sin(0) ## radian"
   ]
  },
  {
   "cell_type": "code",
   "execution_count": 73,
   "id": "a56f1259",
   "metadata": {},
   "outputs": [
    {
     "data": {
      "text/plain": [
       "1.0"
      ]
     },
     "execution_count": 73,
     "metadata": {},
     "output_type": "execute_result"
    }
   ],
   "source": [
    "np.sin(90*(np.pi/180)) ## degree"
   ]
  },
  {
   "cell_type": "code",
   "execution_count": 74,
   "id": "d0843ee6",
   "metadata": {},
   "outputs": [
    {
     "data": {
      "text/plain": [
       "1.0"
      ]
     },
     "execution_count": 74,
     "metadata": {},
     "output_type": "execute_result"
    }
   ],
   "source": [
    "np.cos(0)"
   ]
  },
  {
   "cell_type": "code",
   "execution_count": 75,
   "id": "ee140093",
   "metadata": {},
   "outputs": [
    {
     "data": {
      "text/plain": [
       "-0.9510565162951536"
      ]
     },
     "execution_count": 75,
     "metadata": {},
     "output_type": "execute_result"
    }
   ],
   "source": [
    "np.cos(90*(np.pi/100)) ## approximate equals to 0 since np.pi is a irrational number"
   ]
  },
  {
   "cell_type": "code",
   "execution_count": 76,
   "id": "5a727542",
   "metadata": {},
   "outputs": [
    {
     "data": {
      "text/plain": [
       "1.0"
      ]
     },
     "execution_count": 76,
     "metadata": {},
     "output_type": "execute_result"
    }
   ],
   "source": [
    "np.sin(np.deg2rad(90)) ## Direct fn to convert degree to rad"
   ]
  },
  {
   "cell_type": "code",
   "execution_count": 77,
   "id": "ae8c1bc7",
   "metadata": {},
   "outputs": [
    {
     "data": {
      "text/plain": [
       "6.123233995736766e-17"
      ]
     },
     "execution_count": 77,
     "metadata": {},
     "output_type": "execute_result"
    }
   ],
   "source": [
    "np.cos(np.deg2rad(90))"
   ]
  },
  {
   "cell_type": "code",
   "execution_count": 78,
   "id": "f8a88f38",
   "metadata": {},
   "outputs": [
    {
     "data": {
      "text/plain": [
       "0.9999999999999999"
      ]
     },
     "execution_count": 78,
     "metadata": {},
     "output_type": "execute_result"
    }
   ],
   "source": [
    "np.tan(np.deg2rad(45))"
   ]
  },
  {
   "cell_type": "code",
   "execution_count": 79,
   "id": "3e7436d8",
   "metadata": {},
   "outputs": [
    {
     "data": {
      "text/plain": [
       "1.0"
      ]
     },
     "execution_count": 79,
     "metadata": {},
     "output_type": "execute_result"
    }
   ],
   "source": [
    "np.sin(np.deg2rad(45))/np.cos(np.deg2rad(45))"
   ]
  },
  {
   "cell_type": "markdown",
   "id": "484be4ba",
   "metadata": {},
   "source": [
    "# ROUNDING OPERATION"
   ]
  },
  {
   "cell_type": "code",
   "execution_count": 80,
   "id": "c5d70ac4",
   "metadata": {},
   "outputs": [],
   "source": [
    "a = 1.27935\n",
    "b = -1.2578"
   ]
  },
  {
   "cell_type": "code",
   "execution_count": 81,
   "id": "f16e68a0",
   "metadata": {},
   "outputs": [
    {
     "data": {
      "text/plain": [
       "1.2578"
      ]
     },
     "execution_count": 81,
     "metadata": {},
     "output_type": "execute_result"
    }
   ],
   "source": [
    "np.abs(b)"
   ]
  },
  {
   "cell_type": "code",
   "execution_count": 83,
   "id": "3458bbc0",
   "metadata": {},
   "outputs": [
    {
     "data": {
      "text/plain": [
       "1.28"
      ]
     },
     "execution_count": 83,
     "metadata": {},
     "output_type": "execute_result"
    }
   ],
   "source": [
    "np.round(a,2) ## Round to 2 decisions places"
   ]
  },
  {
   "cell_type": "code",
   "execution_count": 84,
   "id": "fd9b2900",
   "metadata": {},
   "outputs": [
    {
     "data": {
      "text/plain": [
       "-1.26"
      ]
     },
     "execution_count": 84,
     "metadata": {},
     "output_type": "execute_result"
    }
   ],
   "source": [
    "np.round(b,2)"
   ]
  },
  {
   "cell_type": "code",
   "execution_count": 86,
   "id": "da253d9b",
   "metadata": {},
   "outputs": [
    {
     "data": {
      "text/plain": [
       "2.0"
      ]
     },
     "execution_count": 86,
     "metadata": {},
     "output_type": "execute_result"
    }
   ],
   "source": [
    "np.ceil(a) ## Ceil to next higher integer"
   ]
  },
  {
   "cell_type": "code",
   "execution_count": 87,
   "id": "373ae2ea",
   "metadata": {},
   "outputs": [
    {
     "data": {
      "text/plain": [
       "1.0"
      ]
     },
     "execution_count": 87,
     "metadata": {},
     "output_type": "execute_result"
    }
   ],
   "source": [
    "np.trunc(a) ## ceil to previous lower integer"
   ]
  },
  {
   "cell_type": "code",
   "execution_count": 88,
   "id": "5f3836b5",
   "metadata": {},
   "outputs": [
    {
     "data": {
      "text/plain": [
       "-1.0"
      ]
     },
     "execution_count": 88,
     "metadata": {},
     "output_type": "execute_result"
    }
   ],
   "source": [
    "np.trunc(b) ## negative"
   ]
  },
  {
   "cell_type": "code",
   "execution_count": 89,
   "id": "a97e0fab",
   "metadata": {},
   "outputs": [
    {
     "data": {
      "text/plain": [
       "-1.0"
      ]
     },
     "execution_count": 89,
     "metadata": {},
     "output_type": "execute_result"
    }
   ],
   "source": [
    "np.ceil(b)"
   ]
  },
  {
   "cell_type": "code",
   "execution_count": 90,
   "id": "e0f56f41",
   "metadata": {},
   "outputs": [],
   "source": [
    "## to take help on a function use below methods"
   ]
  },
  {
   "cell_type": "code",
   "execution_count": 91,
   "id": "71711bb2",
   "metadata": {},
   "outputs": [
    {
     "name": "stdout",
     "output_type": "stream",
     "text": [
      "Help on function sum in module numpy:\n",
      "\n",
      "sum(a, axis=None, dtype=None, out=None, keepdims=<no value>, initial=<no value>, where=<no value>)\n",
      "    Sum of array elements over a given axis.\n",
      "    \n",
      "    Parameters\n",
      "    ----------\n",
      "    a : array_like\n",
      "        Elements to sum.\n",
      "    axis : None or int or tuple of ints, optional\n",
      "        Axis or axes along which a sum is performed.  The default,\n",
      "        axis=None, will sum all of the elements of the input array.  If\n",
      "        axis is negative it counts from the last to the first axis.\n",
      "    \n",
      "        .. versionadded:: 1.7.0\n",
      "    \n",
      "        If axis is a tuple of ints, a sum is performed on all of the axes\n",
      "        specified in the tuple instead of a single axis or all the axes as\n",
      "        before.\n",
      "    dtype : dtype, optional\n",
      "        The type of the returned array and of the accumulator in which the\n",
      "        elements are summed.  The dtype of `a` is used by default unless `a`\n",
      "        has an integer dtype of less precision than the default platform\n",
      "        integer.  In that case, if `a` is signed then the platform integer\n",
      "        is used while if `a` is unsigned then an unsigned integer of the\n",
      "        same precision as the platform integer is used.\n",
      "    out : ndarray, optional\n",
      "        Alternative output array in which to place the result. It must have\n",
      "        the same shape as the expected output, but the type of the output\n",
      "        values will be cast if necessary.\n",
      "    keepdims : bool, optional\n",
      "        If this is set to True, the axes which are reduced are left\n",
      "        in the result as dimensions with size one. With this option,\n",
      "        the result will broadcast correctly against the input array.\n",
      "    \n",
      "        If the default value is passed, then `keepdims` will not be\n",
      "        passed through to the `sum` method of sub-classes of\n",
      "        `ndarray`, however any non-default value will be.  If the\n",
      "        sub-class' method does not implement `keepdims` any\n",
      "        exceptions will be raised.\n",
      "    initial : scalar, optional\n",
      "        Starting value for the sum. See `~numpy.ufunc.reduce` for details.\n",
      "    \n",
      "        .. versionadded:: 1.15.0\n",
      "    \n",
      "    where : array_like of bool, optional\n",
      "        Elements to include in the sum. See `~numpy.ufunc.reduce` for details.\n",
      "    \n",
      "        .. versionadded:: 1.17.0\n",
      "    \n",
      "    Returns\n",
      "    -------\n",
      "    sum_along_axis : ndarray\n",
      "        An array with the same shape as `a`, with the specified\n",
      "        axis removed.   If `a` is a 0-d array, or if `axis` is None, a scalar\n",
      "        is returned.  If an output array is specified, a reference to\n",
      "        `out` is returned.\n",
      "    \n",
      "    See Also\n",
      "    --------\n",
      "    ndarray.sum : Equivalent method.\n",
      "    \n",
      "    add.reduce : Equivalent functionality of `add`.\n",
      "    \n",
      "    cumsum : Cumulative sum of array elements.\n",
      "    \n",
      "    trapz : Integration of array values using the composite trapezoidal rule.\n",
      "    \n",
      "    mean, average\n",
      "    \n",
      "    Notes\n",
      "    -----\n",
      "    Arithmetic is modular when using integer types, and no error is\n",
      "    raised on overflow.\n",
      "    \n",
      "    The sum of an empty array is the neutral element 0:\n",
      "    \n",
      "    >>> np.sum([])\n",
      "    0.0\n",
      "    \n",
      "    For floating point numbers the numerical precision of sum (and\n",
      "    ``np.add.reduce``) is in general limited by directly adding each number\n",
      "    individually to the result causing rounding errors in every step.\n",
      "    However, often numpy will use a  numerically better approach (partial\n",
      "    pairwise summation) leading to improved precision in many use-cases.\n",
      "    This improved precision is always provided when no ``axis`` is given.\n",
      "    When ``axis`` is given, it will depend on which axis is summed.\n",
      "    Technically, to provide the best speed possible, the improved precision\n",
      "    is only used when the summation is along the fast axis in memory.\n",
      "    Note that the exact precision may vary depending on other parameters.\n",
      "    In contrast to NumPy, Python's ``math.fsum`` function uses a slower but\n",
      "    more precise approach to summation.\n",
      "    Especially when summing a large number of lower precision floating point\n",
      "    numbers, such as ``float32``, numerical errors can become significant.\n",
      "    In such cases it can be advisable to use `dtype=\"float64\"` to use a higher\n",
      "    precision for the output.\n",
      "    \n",
      "    Examples\n",
      "    --------\n",
      "    >>> np.sum([0.5, 1.5])\n",
      "    2.0\n",
      "    >>> np.sum([0.5, 0.7, 0.2, 1.5], dtype=np.int32)\n",
      "    1\n",
      "    >>> np.sum([[0, 1], [0, 5]])\n",
      "    6\n",
      "    >>> np.sum([[0, 1], [0, 5]], axis=0)\n",
      "    array([0, 6])\n",
      "    >>> np.sum([[0, 1], [0, 5]], axis=1)\n",
      "    array([1, 5])\n",
      "    >>> np.sum([[0, 1], [np.nan, 5]], where=[False, True], axis=1)\n",
      "    array([1., 5.])\n",
      "    \n",
      "    If the accumulator is too small, overflow occurs:\n",
      "    \n",
      "    >>> np.ones(128, dtype=np.int8).sum(dtype=np.int8)\n",
      "    -128\n",
      "    \n",
      "    You can also start the sum with a value other than zero:\n",
      "    \n",
      "    >>> np.sum([10], initial=5)\n",
      "    15\n",
      "\n"
     ]
    }
   ],
   "source": [
    "help(np.sum)"
   ]
  },
  {
   "cell_type": "markdown",
   "id": "f60c82a1",
   "metadata": {},
   "source": [
    "# MATRIX OPERATIONS"
   ]
  },
  {
   "cell_type": "code",
   "execution_count": 4,
   "id": "f258c871",
   "metadata": {},
   "outputs": [],
   "source": [
    "m1 = np.matrix([[1,2,3],[4,5,6],[2,4,6]])\n",
    "m2 = np.matrix([[9,8,7],[8,3,2],[2,3,4]])"
   ]
  },
  {
   "cell_type": "code",
   "execution_count": 5,
   "id": "e7d8445b",
   "metadata": {},
   "outputs": [
    {
     "data": {
      "text/plain": [
       "matrix([[1, 2, 3],\n",
       "        [4, 5, 6],\n",
       "        [2, 4, 6]])"
      ]
     },
     "execution_count": 5,
     "metadata": {},
     "output_type": "execute_result"
    }
   ],
   "source": [
    "m1"
   ]
  },
  {
   "cell_type": "code",
   "execution_count": 6,
   "id": "81a0ff15",
   "metadata": {},
   "outputs": [
    {
     "data": {
      "text/plain": [
       "matrix([[9, 8, 7],\n",
       "        [8, 3, 2],\n",
       "        [2, 3, 4]])"
      ]
     },
     "execution_count": 6,
     "metadata": {},
     "output_type": "execute_result"
    }
   ],
   "source": [
    "m2"
   ]
  },
  {
   "cell_type": "code",
   "execution_count": 7,
   "id": "62870c8b",
   "metadata": {},
   "outputs": [
    {
     "data": {
      "text/plain": [
       "numpy.matrix"
      ]
     },
     "execution_count": 7,
     "metadata": {},
     "output_type": "execute_result"
    }
   ],
   "source": [
    "type(m1)"
   ]
  },
  {
   "cell_type": "code",
   "execution_count": 8,
   "id": "18aafd6b",
   "metadata": {},
   "outputs": [
    {
     "data": {
      "text/plain": [
       "(3, 3)"
      ]
     },
     "execution_count": 8,
     "metadata": {},
     "output_type": "execute_result"
    }
   ],
   "source": [
    "m1.shape"
   ]
  },
  {
   "cell_type": "code",
   "execution_count": 9,
   "id": "f06fe7c0",
   "metadata": {},
   "outputs": [
    {
     "data": {
      "text/plain": [
       "matrix([[31, 23, 23],\n",
       "        [88, 65, 62],\n",
       "        [62, 46, 46]])"
      ]
     },
     "execution_count": 9,
     "metadata": {},
     "output_type": "execute_result"
    }
   ],
   "source": [
    "m1*m2"
   ]
  },
  {
   "cell_type": "code",
   "execution_count": 10,
   "id": "20e2a545",
   "metadata": {},
   "outputs": [
    {
     "data": {
      "text/plain": [
       "matrix([[-8, -6, -4],\n",
       "        [-4,  2,  4],\n",
       "        [ 0,  1,  2]])"
      ]
     },
     "execution_count": 10,
     "metadata": {},
     "output_type": "execute_result"
    }
   ],
   "source": [
    "m1 - m2"
   ]
  },
  {
   "cell_type": "code",
   "execution_count": 11,
   "id": "2a01c95c",
   "metadata": {},
   "outputs": [
    {
     "data": {
      "text/plain": [
       "matrix([[10, 10, 10],\n",
       "        [12,  8,  8],\n",
       "        [ 4,  7, 10]])"
      ]
     },
     "execution_count": 11,
     "metadata": {},
     "output_type": "execute_result"
    }
   ],
   "source": [
    "m1 + m2"
   ]
  },
  {
   "cell_type": "code",
   "execution_count": 12,
   "id": "4b68cc44",
   "metadata": {},
   "outputs": [
    {
     "data": {
      "text/plain": [
       "matrix([[ 2,  4,  6],\n",
       "        [ 8, 10, 12],\n",
       "        [ 4,  8, 12]])"
      ]
     },
     "execution_count": 12,
     "metadata": {},
     "output_type": "execute_result"
    }
   ],
   "source": [
    "m1 * 2"
   ]
  },
  {
   "cell_type": "code",
   "execution_count": 14,
   "id": "1f0fa9c7",
   "metadata": {},
   "outputs": [
    {
     "data": {
      "text/plain": [
       "matrix([[31, 23, 23],\n",
       "        [88, 65, 62],\n",
       "        [62, 46, 46]])"
      ]
     },
     "execution_count": 14,
     "metadata": {},
     "output_type": "execute_result"
    }
   ],
   "source": [
    "np.matmul(m1,m2)"
   ]
  },
  {
   "cell_type": "code",
   "execution_count": 19,
   "id": "11efed17",
   "metadata": {},
   "outputs": [
    {
     "data": {
      "text/plain": [
       "matrix([[1, 4, 2],\n",
       "        [2, 5, 4],\n",
       "        [3, 6, 6]])"
      ]
     },
     "execution_count": 19,
     "metadata": {},
     "output_type": "execute_result"
    }
   ],
   "source": [
    "m1.T"
   ]
  },
  {
   "cell_type": "code",
   "execution_count": 17,
   "id": "654f4280",
   "metadata": {},
   "outputs": [
    {
     "data": {
      "text/plain": [
       "matrix([[9, 8, 2],\n",
       "        [8, 3, 3],\n",
       "        [7, 2, 4]])"
      ]
     },
     "execution_count": 17,
     "metadata": {},
     "output_type": "execute_result"
    }
   ],
   "source": [
    "m2.T"
   ]
  },
  {
   "cell_type": "code",
   "execution_count": 20,
   "id": "1a8db5ba",
   "metadata": {},
   "outputs": [
    {
     "data": {
      "text/plain": [
       "0.0"
      ]
     },
     "execution_count": 20,
     "metadata": {},
     "output_type": "execute_result"
    }
   ],
   "source": [
    "np.linalg.det(m1)"
   ]
  },
  {
   "cell_type": "code",
   "execution_count": 21,
   "id": "1de72062",
   "metadata": {},
   "outputs": [
    {
     "data": {
      "text/plain": [
       "-44.000000000000014"
      ]
     },
     "execution_count": 21,
     "metadata": {},
     "output_type": "execute_result"
    }
   ],
   "source": [
    "np.linalg.det(m2)"
   ]
  },
  {
   "cell_type": "code",
   "execution_count": 22,
   "id": "9177d171",
   "metadata": {},
   "outputs": [],
   "source": [
    "m3 = np.matrix([[1,2,3],[1,1,0],[1,2,1]])"
   ]
  },
  {
   "cell_type": "code",
   "execution_count": 23,
   "id": "3b60b3fb",
   "metadata": {},
   "outputs": [
    {
     "data": {
      "text/plain": [
       "matrix([[1, 2, 3],\n",
       "        [1, 1, 0],\n",
       "        [1, 2, 1]])"
      ]
     },
     "execution_count": 23,
     "metadata": {},
     "output_type": "execute_result"
    }
   ],
   "source": [
    "m3"
   ]
  },
  {
   "cell_type": "code",
   "execution_count": 24,
   "id": "b336f4f6",
   "metadata": {},
   "outputs": [
    {
     "data": {
      "text/plain": [
       "matrix([[ 0.5,  2. , -1.5],\n",
       "        [-0.5, -1. ,  1.5],\n",
       "        [ 0.5, -0. , -0.5]])"
      ]
     },
     "execution_count": 24,
     "metadata": {},
     "output_type": "execute_result"
    }
   ],
   "source": [
    "np.linalg.inv(m3)#"
   ]
  },
  {
   "cell_type": "code",
   "execution_count": 25,
   "id": "22f724be",
   "metadata": {},
   "outputs": [
    {
     "data": {
      "text/plain": [
       "2.0"
      ]
     },
     "execution_count": 25,
     "metadata": {},
     "output_type": "execute_result"
    }
   ],
   "source": [
    "np.linalg.det(m3)"
   ]
  },
  {
   "cell_type": "code",
   "execution_count": 27,
   "id": "64176e42",
   "metadata": {},
   "outputs": [],
   "source": [
    "## Some more on matrices"
   ]
  },
  {
   "cell_type": "code",
   "execution_count": 28,
   "id": "3db3f8dc",
   "metadata": {},
   "outputs": [
    {
     "data": {
      "text/plain": [
       "matrix([[1, 4],\n",
       "        [3, 2]])"
      ]
     },
     "execution_count": 28,
     "metadata": {},
     "output_type": "execute_result"
    }
   ],
   "source": [
    "m = np.matrix([[1,4],[3,2]])\n",
    "m"
   ]
  },
  {
   "cell_type": "code",
   "execution_count": 29,
   "id": "842203cd",
   "metadata": {},
   "outputs": [
    {
     "data": {
      "text/plain": [
       "array([-2.,  5.])"
      ]
     },
     "execution_count": 29,
     "metadata": {},
     "output_type": "execute_result"
    }
   ],
   "source": [
    "np.linalg.eigvals(m) ## Getting Eigne Values"
   ]
  },
  {
   "cell_type": "code",
   "execution_count": 30,
   "id": "4888b6a7",
   "metadata": {},
   "outputs": [
    {
     "data": {
      "text/plain": [
       "matrix([[2, 0, 0],\n",
       "        [0, 4, 5],\n",
       "        [0, 4, 3]])"
      ]
     },
     "execution_count": 30,
     "metadata": {},
     "output_type": "execute_result"
    }
   ],
   "source": [
    "m = np.matrix([[2,0,0],[0,4,5],[0,4,3]])\n",
    "m"
   ]
  },
  {
   "cell_type": "code",
   "execution_count": 31,
   "id": "d6e2a155",
   "metadata": {},
   "outputs": [
    {
     "data": {
      "text/plain": [
       "(array([-1.,  8.,  2.]),\n",
       " matrix([[ 0.        ,  0.        ,  1.        ],\n",
       "         [ 0.70710678, -0.78086881,  0.        ],\n",
       "         [-0.70710678, -0.62469505,  0.        ]]))"
      ]
     },
     "execution_count": 31,
     "metadata": {},
     "output_type": "execute_result"
    }
   ],
   "source": [
    "np.linalg.eig(m)"
   ]
  },
  {
   "cell_type": "code",
   "execution_count": 32,
   "id": "ec4ce85f",
   "metadata": {},
   "outputs": [],
   "source": [
    "## Rank of matrix"
   ]
  },
  {
   "cell_type": "code",
   "execution_count": 33,
   "id": "fcd4899d",
   "metadata": {},
   "outputs": [],
   "source": [
    "## Rank = no. of non zeros rows"
   ]
  },
  {
   "cell_type": "code",
   "execution_count": 34,
   "id": "c191dc4a",
   "metadata": {},
   "outputs": [
    {
     "data": {
      "text/plain": [
       "2"
      ]
     },
     "execution_count": 34,
     "metadata": {},
     "output_type": "execute_result"
    }
   ],
   "source": [
    "np.linalg.matrix_rank(m1)"
   ]
  },
  {
   "cell_type": "code",
   "execution_count": 35,
   "id": "41701e27",
   "metadata": {},
   "outputs": [
    {
     "data": {
      "text/plain": [
       "matrix([[1, 2, 3],\n",
       "        [2, 4, 6],\n",
       "        [5, 7, 8]])"
      ]
     },
     "execution_count": 35,
     "metadata": {},
     "output_type": "execute_result"
    }
   ],
   "source": [
    "m2 = np.matrix([[1,2,3],[2,4,6],[5,7,8]])\n",
    "m2"
   ]
  },
  {
   "cell_type": "code",
   "execution_count": 36,
   "id": "4731c163",
   "metadata": {},
   "outputs": [
    {
     "data": {
      "text/plain": [
       "2"
      ]
     },
     "execution_count": 36,
     "metadata": {},
     "output_type": "execute_result"
    }
   ],
   "source": [
    "np.linalg.matrix_rank(m2)"
   ]
  },
  {
   "cell_type": "code",
   "execution_count": 37,
   "id": "f3c9974c",
   "metadata": {},
   "outputs": [
    {
     "data": {
      "text/plain": [
       "array([[1., 1., 1.],\n",
       "       [1., 1., 1.],\n",
       "       [1., 1., 1.]])"
      ]
     },
     "execution_count": 37,
     "metadata": {},
     "output_type": "execute_result"
    }
   ],
   "source": [
    "np.ones((3,3)) ## Creating array with all ones"
   ]
  },
  {
   "cell_type": "code",
   "execution_count": 38,
   "id": "938b4d14",
   "metadata": {},
   "outputs": [
    {
     "data": {
      "text/plain": [
       "array([[0., 0., 0.],\n",
       "       [0., 0., 0.],\n",
       "       [0., 0., 0.]])"
      ]
     },
     "execution_count": 38,
     "metadata": {},
     "output_type": "execute_result"
    }
   ],
   "source": [
    "np.zeros ((3,3)) ## Creating array with all zeros"
   ]
  },
  {
   "cell_type": "code",
   "execution_count": 39,
   "id": "7c69323a",
   "metadata": {},
   "outputs": [],
   "source": [
    "arr = np.array([[1,2,3],[4,5,6],[2,4,6]])"
   ]
  },
  {
   "cell_type": "code",
   "execution_count": 40,
   "id": "31823e27",
   "metadata": {},
   "outputs": [
    {
     "data": {
      "text/plain": [
       "0.0"
      ]
     },
     "execution_count": 40,
     "metadata": {},
     "output_type": "execute_result"
    }
   ],
   "source": [
    "np.linalg.det(arr)"
   ]
  },
  {
   "cell_type": "code",
   "execution_count": 41,
   "id": "9d4a8c0b",
   "metadata": {},
   "outputs": [
    {
     "data": {
      "text/plain": [
       "array([[1., 0.],\n",
       "       [0., 1.]])"
      ]
     },
     "execution_count": 41,
     "metadata": {},
     "output_type": "execute_result"
    }
   ],
   "source": [
    "np.identity(2) ## Identity Matrix"
   ]
  },
  {
   "cell_type": "code",
   "execution_count": 42,
   "id": "fa51340c",
   "metadata": {},
   "outputs": [
    {
     "data": {
      "text/plain": [
       "6"
      ]
     },
     "execution_count": 42,
     "metadata": {},
     "output_type": "execute_result"
    }
   ],
   "source": [
    "np.random.choice([1,2,3,4,5,6]) ## Choose on element randomly"
   ]
  },
  {
   "cell_type": "code",
   "execution_count": 45,
   "id": "5127c2cc",
   "metadata": {},
   "outputs": [
    {
     "data": {
      "text/plain": [
       "'D'"
      ]
     },
     "execution_count": 45,
     "metadata": {},
     "output_type": "execute_result"
    }
   ],
   "source": [
    "np.random.choice([\"A\",\"B\",\"C\",\"D\"]) ## Choose an element randomly"
   ]
  },
  {
   "cell_type": "code",
   "execution_count": 47,
   "id": "3fc3be40",
   "metadata": {},
   "outputs": [
    {
     "data": {
      "text/plain": [
       "array([['1', '2', 'A'],\n",
       "       ['2', '3', 'C'],\n",
       "       ['1', '2', '3']], dtype='<U11')"
      ]
     },
     "execution_count": 47,
     "metadata": {},
     "output_type": "execute_result"
    }
   ],
   "source": [
    "np.array([[1,2,\"A\"],[2,3,\"C\"],[1,2,3]]) ## Multi datatype in array"
   ]
  },
  {
   "cell_type": "code",
   "execution_count": 48,
   "id": "1804b969",
   "metadata": {},
   "outputs": [
    {
     "data": {
      "text/plain": [
       "matrix([['1', '2', 'A'],\n",
       "        ['2', '3', 'C'],\n",
       "        ['1', '2', '3']], dtype='<U11')"
      ]
     },
     "execution_count": 48,
     "metadata": {},
     "output_type": "execute_result"
    }
   ],
   "source": [
    "np.matrix([[1,2,\"A\"],[2,3,\"C\"],[1,2,3]]) ## U11 shows unicode datatype"
   ]
  },
  {
   "cell_type": "code",
   "execution_count": null,
   "id": "cea78420",
   "metadata": {},
   "outputs": [],
   "source": []
  }
 ],
 "metadata": {
  "kernelspec": {
   "display_name": "Python 3 (ipykernel)",
   "language": "python",
   "name": "python3"
  },
  "language_info": {
   "codemirror_mode": {
    "name": "ipython",
    "version": 3
   },
   "file_extension": ".py",
   "mimetype": "text/x-python",
   "name": "python",
   "nbconvert_exporter": "python",
   "pygments_lexer": "ipython3",
   "version": "3.9.13"
  }
 },
 "nbformat": 4,
 "nbformat_minor": 5
}
