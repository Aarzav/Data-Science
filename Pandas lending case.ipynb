{
 "cells": [
  {
   "cell_type": "markdown",
   "id": "b334a03a",
   "metadata": {},
   "source": [
    "# Missing value treatment and exporatory data analysis (EDA)"
   ]
  },
  {
   "cell_type": "code",
   "execution_count": 1,
   "id": "1e08b339",
   "metadata": {},
   "outputs": [],
   "source": [
    "import pandas as pd\n",
    "import matplotlib.pyplot as plt\n",
    "import seaborn as sns\n",
    "import numpy as np\n",
    "import re # regular expression => used for pattern matching\n",
    "import calendar\n",
    "import datetime as dt\n",
    "plt.style.use('dark_background') ## using style"
   ]
  },
  {
   "cell_type": "code",
   "execution_count": 2,
   "id": "b9d3fb31",
   "metadata": {},
   "outputs": [
    {
     "name": "stderr",
     "output_type": "stream",
     "text": [
      "C:\\Users\\aarza\\AppData\\Local\\Temp\\ipykernel_14120\\21045813.py:1: DtypeWarning: Columns (47) have mixed types. Specify dtype option on import or set low_memory=False.\n",
      "  df=pd.read_csv(r\"C:\\Users\\aarza\\Desktop\\python\\Basics\\Pandas\\loan.csv\")\n"
     ]
    },
    {
     "data": {
      "text/html": [
       "<div>\n",
       "<style scoped>\n",
       "    .dataframe tbody tr th:only-of-type {\n",
       "        vertical-align: middle;\n",
       "    }\n",
       "\n",
       "    .dataframe tbody tr th {\n",
       "        vertical-align: top;\n",
       "    }\n",
       "\n",
       "    .dataframe thead th {\n",
       "        text-align: right;\n",
       "    }\n",
       "</style>\n",
       "<table border=\"1\" class=\"dataframe\">\n",
       "  <thead>\n",
       "    <tr style=\"text-align: right;\">\n",
       "      <th></th>\n",
       "      <th>id</th>\n",
       "      <th>member_id</th>\n",
       "      <th>loan_amnt</th>\n",
       "      <th>funded_amnt</th>\n",
       "      <th>funded_amnt_inv</th>\n",
       "      <th>term</th>\n",
       "      <th>int_rate</th>\n",
       "      <th>installment</th>\n",
       "      <th>grade</th>\n",
       "      <th>sub_grade</th>\n",
       "      <th>...</th>\n",
       "      <th>num_tl_90g_dpd_24m</th>\n",
       "      <th>num_tl_op_past_12m</th>\n",
       "      <th>pct_tl_nvr_dlq</th>\n",
       "      <th>percent_bc_gt_75</th>\n",
       "      <th>pub_rec_bankruptcies</th>\n",
       "      <th>tax_liens</th>\n",
       "      <th>tot_hi_cred_lim</th>\n",
       "      <th>total_bal_ex_mort</th>\n",
       "      <th>total_bc_limit</th>\n",
       "      <th>total_il_high_credit_limit</th>\n",
       "    </tr>\n",
       "  </thead>\n",
       "  <tbody>\n",
       "    <tr>\n",
       "      <th>0</th>\n",
       "      <td>1077501</td>\n",
       "      <td>1296599</td>\n",
       "      <td>5000</td>\n",
       "      <td>5000</td>\n",
       "      <td>4975.0</td>\n",
       "      <td>36 months</td>\n",
       "      <td>10.65%</td>\n",
       "      <td>162.87</td>\n",
       "      <td>B</td>\n",
       "      <td>B2</td>\n",
       "      <td>...</td>\n",
       "      <td>NaN</td>\n",
       "      <td>NaN</td>\n",
       "      <td>NaN</td>\n",
       "      <td>NaN</td>\n",
       "      <td>0.0</td>\n",
       "      <td>0.0</td>\n",
       "      <td>NaN</td>\n",
       "      <td>NaN</td>\n",
       "      <td>NaN</td>\n",
       "      <td>NaN</td>\n",
       "    </tr>\n",
       "    <tr>\n",
       "      <th>1</th>\n",
       "      <td>1077430</td>\n",
       "      <td>1314167</td>\n",
       "      <td>2500</td>\n",
       "      <td>2500</td>\n",
       "      <td>2500.0</td>\n",
       "      <td>60 months</td>\n",
       "      <td>15.27%</td>\n",
       "      <td>59.83</td>\n",
       "      <td>C</td>\n",
       "      <td>C4</td>\n",
       "      <td>...</td>\n",
       "      <td>NaN</td>\n",
       "      <td>NaN</td>\n",
       "      <td>NaN</td>\n",
       "      <td>NaN</td>\n",
       "      <td>0.0</td>\n",
       "      <td>0.0</td>\n",
       "      <td>NaN</td>\n",
       "      <td>NaN</td>\n",
       "      <td>NaN</td>\n",
       "      <td>NaN</td>\n",
       "    </tr>\n",
       "    <tr>\n",
       "      <th>2</th>\n",
       "      <td>1077175</td>\n",
       "      <td>1313524</td>\n",
       "      <td>2400</td>\n",
       "      <td>2400</td>\n",
       "      <td>2400.0</td>\n",
       "      <td>36 months</td>\n",
       "      <td>15.96%</td>\n",
       "      <td>84.33</td>\n",
       "      <td>C</td>\n",
       "      <td>C5</td>\n",
       "      <td>...</td>\n",
       "      <td>NaN</td>\n",
       "      <td>NaN</td>\n",
       "      <td>NaN</td>\n",
       "      <td>NaN</td>\n",
       "      <td>0.0</td>\n",
       "      <td>0.0</td>\n",
       "      <td>NaN</td>\n",
       "      <td>NaN</td>\n",
       "      <td>NaN</td>\n",
       "      <td>NaN</td>\n",
       "    </tr>\n",
       "    <tr>\n",
       "      <th>3</th>\n",
       "      <td>1076863</td>\n",
       "      <td>1277178</td>\n",
       "      <td>10000</td>\n",
       "      <td>10000</td>\n",
       "      <td>10000.0</td>\n",
       "      <td>36 months</td>\n",
       "      <td>13.49%</td>\n",
       "      <td>339.31</td>\n",
       "      <td>C</td>\n",
       "      <td>C1</td>\n",
       "      <td>...</td>\n",
       "      <td>NaN</td>\n",
       "      <td>NaN</td>\n",
       "      <td>NaN</td>\n",
       "      <td>NaN</td>\n",
       "      <td>0.0</td>\n",
       "      <td>0.0</td>\n",
       "      <td>NaN</td>\n",
       "      <td>NaN</td>\n",
       "      <td>NaN</td>\n",
       "      <td>NaN</td>\n",
       "    </tr>\n",
       "    <tr>\n",
       "      <th>4</th>\n",
       "      <td>1075358</td>\n",
       "      <td>1311748</td>\n",
       "      <td>3000</td>\n",
       "      <td>3000</td>\n",
       "      <td>3000.0</td>\n",
       "      <td>60 months</td>\n",
       "      <td>12.69%</td>\n",
       "      <td>67.79</td>\n",
       "      <td>B</td>\n",
       "      <td>B5</td>\n",
       "      <td>...</td>\n",
       "      <td>NaN</td>\n",
       "      <td>NaN</td>\n",
       "      <td>NaN</td>\n",
       "      <td>NaN</td>\n",
       "      <td>0.0</td>\n",
       "      <td>0.0</td>\n",
       "      <td>NaN</td>\n",
       "      <td>NaN</td>\n",
       "      <td>NaN</td>\n",
       "      <td>NaN</td>\n",
       "    </tr>\n",
       "  </tbody>\n",
       "</table>\n",
       "<p>5 rows × 111 columns</p>\n",
       "</div>"
      ],
      "text/plain": [
       "        id  member_id  loan_amnt  funded_amnt  funded_amnt_inv        term  \\\n",
       "0  1077501    1296599       5000         5000           4975.0   36 months   \n",
       "1  1077430    1314167       2500         2500           2500.0   60 months   \n",
       "2  1077175    1313524       2400         2400           2400.0   36 months   \n",
       "3  1076863    1277178      10000        10000          10000.0   36 months   \n",
       "4  1075358    1311748       3000         3000           3000.0   60 months   \n",
       "\n",
       "  int_rate  installment grade sub_grade  ... num_tl_90g_dpd_24m  \\\n",
       "0   10.65%       162.87     B        B2  ...                NaN   \n",
       "1   15.27%        59.83     C        C4  ...                NaN   \n",
       "2   15.96%        84.33     C        C5  ...                NaN   \n",
       "3   13.49%       339.31     C        C1  ...                NaN   \n",
       "4   12.69%        67.79     B        B5  ...                NaN   \n",
       "\n",
       "  num_tl_op_past_12m pct_tl_nvr_dlq  percent_bc_gt_75 pub_rec_bankruptcies  \\\n",
       "0                NaN            NaN               NaN                  0.0   \n",
       "1                NaN            NaN               NaN                  0.0   \n",
       "2                NaN            NaN               NaN                  0.0   \n",
       "3                NaN            NaN               NaN                  0.0   \n",
       "4                NaN            NaN               NaN                  0.0   \n",
       "\n",
       "  tax_liens tot_hi_cred_lim total_bal_ex_mort total_bc_limit  \\\n",
       "0       0.0             NaN               NaN            NaN   \n",
       "1       0.0             NaN               NaN            NaN   \n",
       "2       0.0             NaN               NaN            NaN   \n",
       "3       0.0             NaN               NaN            NaN   \n",
       "4       0.0             NaN               NaN            NaN   \n",
       "\n",
       "  total_il_high_credit_limit  \n",
       "0                        NaN  \n",
       "1                        NaN  \n",
       "2                        NaN  \n",
       "3                        NaN  \n",
       "4                        NaN  \n",
       "\n",
       "[5 rows x 111 columns]"
      ]
     },
     "execution_count": 2,
     "metadata": {},
     "output_type": "execute_result"
    }
   ],
   "source": [
    "df=pd.read_csv(r\"C:\\Users\\aarza\\Desktop\\python\\Basics\\Pandas\\loan.csv\")\n",
    "df.head()"
   ]
  },
  {
   "cell_type": "code",
   "execution_count": 3,
   "id": "39163809",
   "metadata": {},
   "outputs": [
    {
     "data": {
      "text/html": [
       "<div>\n",
       "<style scoped>\n",
       "    .dataframe tbody tr th:only-of-type {\n",
       "        vertical-align: middle;\n",
       "    }\n",
       "\n",
       "    .dataframe tbody tr th {\n",
       "        vertical-align: top;\n",
       "    }\n",
       "\n",
       "    .dataframe thead th {\n",
       "        text-align: right;\n",
       "    }\n",
       "</style>\n",
       "<table border=\"1\" class=\"dataframe\">\n",
       "  <thead>\n",
       "    <tr style=\"text-align: right;\">\n",
       "      <th></th>\n",
       "      <th>id</th>\n",
       "      <th>member_id</th>\n",
       "      <th>loan_amnt</th>\n",
       "      <th>funded_amnt</th>\n",
       "      <th>funded_amnt_inv</th>\n",
       "      <th>term</th>\n",
       "      <th>int_rate</th>\n",
       "      <th>installment</th>\n",
       "      <th>grade</th>\n",
       "      <th>sub_grade</th>\n",
       "      <th>...</th>\n",
       "      <th>num_tl_90g_dpd_24m</th>\n",
       "      <th>num_tl_op_past_12m</th>\n",
       "      <th>pct_tl_nvr_dlq</th>\n",
       "      <th>percent_bc_gt_75</th>\n",
       "      <th>pub_rec_bankruptcies</th>\n",
       "      <th>tax_liens</th>\n",
       "      <th>tot_hi_cred_lim</th>\n",
       "      <th>total_bal_ex_mort</th>\n",
       "      <th>total_bc_limit</th>\n",
       "      <th>total_il_high_credit_limit</th>\n",
       "    </tr>\n",
       "  </thead>\n",
       "  <tbody>\n",
       "    <tr>\n",
       "      <th>0</th>\n",
       "      <td>1077501</td>\n",
       "      <td>1296599</td>\n",
       "      <td>5000</td>\n",
       "      <td>5000</td>\n",
       "      <td>4975.0</td>\n",
       "      <td>36 months</td>\n",
       "      <td>10.65%</td>\n",
       "      <td>162.87</td>\n",
       "      <td>B</td>\n",
       "      <td>B2</td>\n",
       "      <td>...</td>\n",
       "      <td>NaN</td>\n",
       "      <td>NaN</td>\n",
       "      <td>NaN</td>\n",
       "      <td>NaN</td>\n",
       "      <td>0.0</td>\n",
       "      <td>0.0</td>\n",
       "      <td>NaN</td>\n",
       "      <td>NaN</td>\n",
       "      <td>NaN</td>\n",
       "      <td>NaN</td>\n",
       "    </tr>\n",
       "    <tr>\n",
       "      <th>1</th>\n",
       "      <td>1077430</td>\n",
       "      <td>1314167</td>\n",
       "      <td>2500</td>\n",
       "      <td>2500</td>\n",
       "      <td>2500.0</td>\n",
       "      <td>60 months</td>\n",
       "      <td>15.27%</td>\n",
       "      <td>59.83</td>\n",
       "      <td>C</td>\n",
       "      <td>C4</td>\n",
       "      <td>...</td>\n",
       "      <td>NaN</td>\n",
       "      <td>NaN</td>\n",
       "      <td>NaN</td>\n",
       "      <td>NaN</td>\n",
       "      <td>0.0</td>\n",
       "      <td>0.0</td>\n",
       "      <td>NaN</td>\n",
       "      <td>NaN</td>\n",
       "      <td>NaN</td>\n",
       "      <td>NaN</td>\n",
       "    </tr>\n",
       "    <tr>\n",
       "      <th>2</th>\n",
       "      <td>1077175</td>\n",
       "      <td>1313524</td>\n",
       "      <td>2400</td>\n",
       "      <td>2400</td>\n",
       "      <td>2400.0</td>\n",
       "      <td>36 months</td>\n",
       "      <td>15.96%</td>\n",
       "      <td>84.33</td>\n",
       "      <td>C</td>\n",
       "      <td>C5</td>\n",
       "      <td>...</td>\n",
       "      <td>NaN</td>\n",
       "      <td>NaN</td>\n",
       "      <td>NaN</td>\n",
       "      <td>NaN</td>\n",
       "      <td>0.0</td>\n",
       "      <td>0.0</td>\n",
       "      <td>NaN</td>\n",
       "      <td>NaN</td>\n",
       "      <td>NaN</td>\n",
       "      <td>NaN</td>\n",
       "    </tr>\n",
       "    <tr>\n",
       "      <th>3</th>\n",
       "      <td>1076863</td>\n",
       "      <td>1277178</td>\n",
       "      <td>10000</td>\n",
       "      <td>10000</td>\n",
       "      <td>10000.0</td>\n",
       "      <td>36 months</td>\n",
       "      <td>13.49%</td>\n",
       "      <td>339.31</td>\n",
       "      <td>C</td>\n",
       "      <td>C1</td>\n",
       "      <td>...</td>\n",
       "      <td>NaN</td>\n",
       "      <td>NaN</td>\n",
       "      <td>NaN</td>\n",
       "      <td>NaN</td>\n",
       "      <td>0.0</td>\n",
       "      <td>0.0</td>\n",
       "      <td>NaN</td>\n",
       "      <td>NaN</td>\n",
       "      <td>NaN</td>\n",
       "      <td>NaN</td>\n",
       "    </tr>\n",
       "    <tr>\n",
       "      <th>4</th>\n",
       "      <td>1075358</td>\n",
       "      <td>1311748</td>\n",
       "      <td>3000</td>\n",
       "      <td>3000</td>\n",
       "      <td>3000.0</td>\n",
       "      <td>60 months</td>\n",
       "      <td>12.69%</td>\n",
       "      <td>67.79</td>\n",
       "      <td>B</td>\n",
       "      <td>B5</td>\n",
       "      <td>...</td>\n",
       "      <td>NaN</td>\n",
       "      <td>NaN</td>\n",
       "      <td>NaN</td>\n",
       "      <td>NaN</td>\n",
       "      <td>0.0</td>\n",
       "      <td>0.0</td>\n",
       "      <td>NaN</td>\n",
       "      <td>NaN</td>\n",
       "      <td>NaN</td>\n",
       "      <td>NaN</td>\n",
       "    </tr>\n",
       "  </tbody>\n",
       "</table>\n",
       "<p>5 rows × 111 columns</p>\n",
       "</div>"
      ],
      "text/plain": [
       "        id  member_id  loan_amnt  funded_amnt  funded_amnt_inv        term  \\\n",
       "0  1077501    1296599       5000         5000           4975.0   36 months   \n",
       "1  1077430    1314167       2500         2500           2500.0   60 months   \n",
       "2  1077175    1313524       2400         2400           2400.0   36 months   \n",
       "3  1076863    1277178      10000        10000          10000.0   36 months   \n",
       "4  1075358    1311748       3000         3000           3000.0   60 months   \n",
       "\n",
       "  int_rate  installment grade sub_grade  ... num_tl_90g_dpd_24m  \\\n",
       "0   10.65%       162.87     B        B2  ...                NaN   \n",
       "1   15.27%        59.83     C        C4  ...                NaN   \n",
       "2   15.96%        84.33     C        C5  ...                NaN   \n",
       "3   13.49%       339.31     C        C1  ...                NaN   \n",
       "4   12.69%        67.79     B        B5  ...                NaN   \n",
       "\n",
       "  num_tl_op_past_12m pct_tl_nvr_dlq  percent_bc_gt_75 pub_rec_bankruptcies  \\\n",
       "0                NaN            NaN               NaN                  0.0   \n",
       "1                NaN            NaN               NaN                  0.0   \n",
       "2                NaN            NaN               NaN                  0.0   \n",
       "3                NaN            NaN               NaN                  0.0   \n",
       "4                NaN            NaN               NaN                  0.0   \n",
       "\n",
       "  tax_liens tot_hi_cred_lim total_bal_ex_mort total_bc_limit  \\\n",
       "0       0.0             NaN               NaN            NaN   \n",
       "1       0.0             NaN               NaN            NaN   \n",
       "2       0.0             NaN               NaN            NaN   \n",
       "3       0.0             NaN               NaN            NaN   \n",
       "4       0.0             NaN               NaN            NaN   \n",
       "\n",
       "  total_il_high_credit_limit  \n",
       "0                        NaN  \n",
       "1                        NaN  \n",
       "2                        NaN  \n",
       "3                        NaN  \n",
       "4                        NaN  \n",
       "\n",
       "[5 rows x 111 columns]"
      ]
     },
     "execution_count": 3,
     "metadata": {},
     "output_type": "execute_result"
    }
   ],
   "source": [
    "df=pd.read_csv(r\"C:\\Users\\aarza\\Desktop\\python\\Basics\\Pandas\\loan.csv\",low_memory=False)\n",
    "df.head()"
   ]
  },
  {
   "cell_type": "code",
   "execution_count": 4,
   "id": "bc284019",
   "metadata": {},
   "outputs": [
    {
     "data": {
      "text/plain": [
       "(39717, 111)"
      ]
     },
     "execution_count": 4,
     "metadata": {},
     "output_type": "execute_result"
    }
   ],
   "source": [
    "df.shape"
   ]
  },
  {
   "cell_type": "markdown",
   "id": "2b1cf510",
   "metadata": {},
   "source": [
    "# Missing value"
   ]
  },
  {
   "cell_type": "code",
   "execution_count": 5,
   "id": "9eb750cc",
   "metadata": {},
   "outputs": [
    {
     "data": {
      "text/html": [
       "<div>\n",
       "<style scoped>\n",
       "    .dataframe tbody tr th:only-of-type {\n",
       "        vertical-align: middle;\n",
       "    }\n",
       "\n",
       "    .dataframe tbody tr th {\n",
       "        vertical-align: top;\n",
       "    }\n",
       "\n",
       "    .dataframe thead th {\n",
       "        text-align: right;\n",
       "    }\n",
       "</style>\n",
       "<table border=\"1\" class=\"dataframe\">\n",
       "  <thead>\n",
       "    <tr style=\"text-align: right;\">\n",
       "      <th></th>\n",
       "      <th>id</th>\n",
       "      <th>member_id</th>\n",
       "      <th>loan_amnt</th>\n",
       "      <th>funded_amnt</th>\n",
       "      <th>funded_amnt_inv</th>\n",
       "      <th>term</th>\n",
       "      <th>int_rate</th>\n",
       "      <th>installment</th>\n",
       "      <th>grade</th>\n",
       "      <th>sub_grade</th>\n",
       "      <th>...</th>\n",
       "      <th>num_tl_90g_dpd_24m</th>\n",
       "      <th>num_tl_op_past_12m</th>\n",
       "      <th>pct_tl_nvr_dlq</th>\n",
       "      <th>percent_bc_gt_75</th>\n",
       "      <th>pub_rec_bankruptcies</th>\n",
       "      <th>tax_liens</th>\n",
       "      <th>tot_hi_cred_lim</th>\n",
       "      <th>total_bal_ex_mort</th>\n",
       "      <th>total_bc_limit</th>\n",
       "      <th>total_il_high_credit_limit</th>\n",
       "    </tr>\n",
       "  </thead>\n",
       "  <tbody>\n",
       "    <tr>\n",
       "      <th>0</th>\n",
       "      <td>False</td>\n",
       "      <td>False</td>\n",
       "      <td>False</td>\n",
       "      <td>False</td>\n",
       "      <td>False</td>\n",
       "      <td>False</td>\n",
       "      <td>False</td>\n",
       "      <td>False</td>\n",
       "      <td>False</td>\n",
       "      <td>False</td>\n",
       "      <td>...</td>\n",
       "      <td>True</td>\n",
       "      <td>True</td>\n",
       "      <td>True</td>\n",
       "      <td>True</td>\n",
       "      <td>False</td>\n",
       "      <td>False</td>\n",
       "      <td>True</td>\n",
       "      <td>True</td>\n",
       "      <td>True</td>\n",
       "      <td>True</td>\n",
       "    </tr>\n",
       "    <tr>\n",
       "      <th>1</th>\n",
       "      <td>False</td>\n",
       "      <td>False</td>\n",
       "      <td>False</td>\n",
       "      <td>False</td>\n",
       "      <td>False</td>\n",
       "      <td>False</td>\n",
       "      <td>False</td>\n",
       "      <td>False</td>\n",
       "      <td>False</td>\n",
       "      <td>False</td>\n",
       "      <td>...</td>\n",
       "      <td>True</td>\n",
       "      <td>True</td>\n",
       "      <td>True</td>\n",
       "      <td>True</td>\n",
       "      <td>False</td>\n",
       "      <td>False</td>\n",
       "      <td>True</td>\n",
       "      <td>True</td>\n",
       "      <td>True</td>\n",
       "      <td>True</td>\n",
       "    </tr>\n",
       "    <tr>\n",
       "      <th>2</th>\n",
       "      <td>False</td>\n",
       "      <td>False</td>\n",
       "      <td>False</td>\n",
       "      <td>False</td>\n",
       "      <td>False</td>\n",
       "      <td>False</td>\n",
       "      <td>False</td>\n",
       "      <td>False</td>\n",
       "      <td>False</td>\n",
       "      <td>False</td>\n",
       "      <td>...</td>\n",
       "      <td>True</td>\n",
       "      <td>True</td>\n",
       "      <td>True</td>\n",
       "      <td>True</td>\n",
       "      <td>False</td>\n",
       "      <td>False</td>\n",
       "      <td>True</td>\n",
       "      <td>True</td>\n",
       "      <td>True</td>\n",
       "      <td>True</td>\n",
       "    </tr>\n",
       "    <tr>\n",
       "      <th>3</th>\n",
       "      <td>False</td>\n",
       "      <td>False</td>\n",
       "      <td>False</td>\n",
       "      <td>False</td>\n",
       "      <td>False</td>\n",
       "      <td>False</td>\n",
       "      <td>False</td>\n",
       "      <td>False</td>\n",
       "      <td>False</td>\n",
       "      <td>False</td>\n",
       "      <td>...</td>\n",
       "      <td>True</td>\n",
       "      <td>True</td>\n",
       "      <td>True</td>\n",
       "      <td>True</td>\n",
       "      <td>False</td>\n",
       "      <td>False</td>\n",
       "      <td>True</td>\n",
       "      <td>True</td>\n",
       "      <td>True</td>\n",
       "      <td>True</td>\n",
       "    </tr>\n",
       "    <tr>\n",
       "      <th>4</th>\n",
       "      <td>False</td>\n",
       "      <td>False</td>\n",
       "      <td>False</td>\n",
       "      <td>False</td>\n",
       "      <td>False</td>\n",
       "      <td>False</td>\n",
       "      <td>False</td>\n",
       "      <td>False</td>\n",
       "      <td>False</td>\n",
       "      <td>False</td>\n",
       "      <td>...</td>\n",
       "      <td>True</td>\n",
       "      <td>True</td>\n",
       "      <td>True</td>\n",
       "      <td>True</td>\n",
       "      <td>False</td>\n",
       "      <td>False</td>\n",
       "      <td>True</td>\n",
       "      <td>True</td>\n",
       "      <td>True</td>\n",
       "      <td>True</td>\n",
       "    </tr>\n",
       "    <tr>\n",
       "      <th>...</th>\n",
       "      <td>...</td>\n",
       "      <td>...</td>\n",
       "      <td>...</td>\n",
       "      <td>...</td>\n",
       "      <td>...</td>\n",
       "      <td>...</td>\n",
       "      <td>...</td>\n",
       "      <td>...</td>\n",
       "      <td>...</td>\n",
       "      <td>...</td>\n",
       "      <td>...</td>\n",
       "      <td>...</td>\n",
       "      <td>...</td>\n",
       "      <td>...</td>\n",
       "      <td>...</td>\n",
       "      <td>...</td>\n",
       "      <td>...</td>\n",
       "      <td>...</td>\n",
       "      <td>...</td>\n",
       "      <td>...</td>\n",
       "      <td>...</td>\n",
       "    </tr>\n",
       "    <tr>\n",
       "      <th>39712</th>\n",
       "      <td>False</td>\n",
       "      <td>False</td>\n",
       "      <td>False</td>\n",
       "      <td>False</td>\n",
       "      <td>False</td>\n",
       "      <td>False</td>\n",
       "      <td>False</td>\n",
       "      <td>False</td>\n",
       "      <td>False</td>\n",
       "      <td>False</td>\n",
       "      <td>...</td>\n",
       "      <td>True</td>\n",
       "      <td>True</td>\n",
       "      <td>True</td>\n",
       "      <td>True</td>\n",
       "      <td>True</td>\n",
       "      <td>True</td>\n",
       "      <td>True</td>\n",
       "      <td>True</td>\n",
       "      <td>True</td>\n",
       "      <td>True</td>\n",
       "    </tr>\n",
       "    <tr>\n",
       "      <th>39713</th>\n",
       "      <td>False</td>\n",
       "      <td>False</td>\n",
       "      <td>False</td>\n",
       "      <td>False</td>\n",
       "      <td>False</td>\n",
       "      <td>False</td>\n",
       "      <td>False</td>\n",
       "      <td>False</td>\n",
       "      <td>False</td>\n",
       "      <td>False</td>\n",
       "      <td>...</td>\n",
       "      <td>True</td>\n",
       "      <td>True</td>\n",
       "      <td>True</td>\n",
       "      <td>True</td>\n",
       "      <td>True</td>\n",
       "      <td>True</td>\n",
       "      <td>True</td>\n",
       "      <td>True</td>\n",
       "      <td>True</td>\n",
       "      <td>True</td>\n",
       "    </tr>\n",
       "    <tr>\n",
       "      <th>39714</th>\n",
       "      <td>False</td>\n",
       "      <td>False</td>\n",
       "      <td>False</td>\n",
       "      <td>False</td>\n",
       "      <td>False</td>\n",
       "      <td>False</td>\n",
       "      <td>False</td>\n",
       "      <td>False</td>\n",
       "      <td>False</td>\n",
       "      <td>False</td>\n",
       "      <td>...</td>\n",
       "      <td>True</td>\n",
       "      <td>True</td>\n",
       "      <td>True</td>\n",
       "      <td>True</td>\n",
       "      <td>True</td>\n",
       "      <td>True</td>\n",
       "      <td>True</td>\n",
       "      <td>True</td>\n",
       "      <td>True</td>\n",
       "      <td>True</td>\n",
       "    </tr>\n",
       "    <tr>\n",
       "      <th>39715</th>\n",
       "      <td>False</td>\n",
       "      <td>False</td>\n",
       "      <td>False</td>\n",
       "      <td>False</td>\n",
       "      <td>False</td>\n",
       "      <td>False</td>\n",
       "      <td>False</td>\n",
       "      <td>False</td>\n",
       "      <td>False</td>\n",
       "      <td>False</td>\n",
       "      <td>...</td>\n",
       "      <td>True</td>\n",
       "      <td>True</td>\n",
       "      <td>True</td>\n",
       "      <td>True</td>\n",
       "      <td>True</td>\n",
       "      <td>True</td>\n",
       "      <td>True</td>\n",
       "      <td>True</td>\n",
       "      <td>True</td>\n",
       "      <td>True</td>\n",
       "    </tr>\n",
       "    <tr>\n",
       "      <th>39716</th>\n",
       "      <td>False</td>\n",
       "      <td>False</td>\n",
       "      <td>False</td>\n",
       "      <td>False</td>\n",
       "      <td>False</td>\n",
       "      <td>False</td>\n",
       "      <td>False</td>\n",
       "      <td>False</td>\n",
       "      <td>False</td>\n",
       "      <td>False</td>\n",
       "      <td>...</td>\n",
       "      <td>True</td>\n",
       "      <td>True</td>\n",
       "      <td>True</td>\n",
       "      <td>True</td>\n",
       "      <td>True</td>\n",
       "      <td>True</td>\n",
       "      <td>True</td>\n",
       "      <td>True</td>\n",
       "      <td>True</td>\n",
       "      <td>True</td>\n",
       "    </tr>\n",
       "  </tbody>\n",
       "</table>\n",
       "<p>39717 rows × 111 columns</p>\n",
       "</div>"
      ],
      "text/plain": [
       "          id  member_id  loan_amnt  funded_amnt  funded_amnt_inv   term  \\\n",
       "0      False      False      False        False            False  False   \n",
       "1      False      False      False        False            False  False   \n",
       "2      False      False      False        False            False  False   \n",
       "3      False      False      False        False            False  False   \n",
       "4      False      False      False        False            False  False   \n",
       "...      ...        ...        ...          ...              ...    ...   \n",
       "39712  False      False      False        False            False  False   \n",
       "39713  False      False      False        False            False  False   \n",
       "39714  False      False      False        False            False  False   \n",
       "39715  False      False      False        False            False  False   \n",
       "39716  False      False      False        False            False  False   \n",
       "\n",
       "       int_rate  installment  grade  sub_grade  ...  num_tl_90g_dpd_24m  \\\n",
       "0         False        False  False      False  ...                True   \n",
       "1         False        False  False      False  ...                True   \n",
       "2         False        False  False      False  ...                True   \n",
       "3         False        False  False      False  ...                True   \n",
       "4         False        False  False      False  ...                True   \n",
       "...         ...          ...    ...        ...  ...                 ...   \n",
       "39712     False        False  False      False  ...                True   \n",
       "39713     False        False  False      False  ...                True   \n",
       "39714     False        False  False      False  ...                True   \n",
       "39715     False        False  False      False  ...                True   \n",
       "39716     False        False  False      False  ...                True   \n",
       "\n",
       "       num_tl_op_past_12m  pct_tl_nvr_dlq  percent_bc_gt_75  \\\n",
       "0                    True            True              True   \n",
       "1                    True            True              True   \n",
       "2                    True            True              True   \n",
       "3                    True            True              True   \n",
       "4                    True            True              True   \n",
       "...                   ...             ...               ...   \n",
       "39712                True            True              True   \n",
       "39713                True            True              True   \n",
       "39714                True            True              True   \n",
       "39715                True            True              True   \n",
       "39716                True            True              True   \n",
       "\n",
       "       pub_rec_bankruptcies  tax_liens  tot_hi_cred_lim  total_bal_ex_mort  \\\n",
       "0                     False      False             True               True   \n",
       "1                     False      False             True               True   \n",
       "2                     False      False             True               True   \n",
       "3                     False      False             True               True   \n",
       "4                     False      False             True               True   \n",
       "...                     ...        ...              ...                ...   \n",
       "39712                  True       True             True               True   \n",
       "39713                  True       True             True               True   \n",
       "39714                  True       True             True               True   \n",
       "39715                  True       True             True               True   \n",
       "39716                  True       True             True               True   \n",
       "\n",
       "       total_bc_limit  total_il_high_credit_limit  \n",
       "0                True                        True  \n",
       "1                True                        True  \n",
       "2                True                        True  \n",
       "3                True                        True  \n",
       "4                True                        True  \n",
       "...               ...                         ...  \n",
       "39712            True                        True  \n",
       "39713            True                        True  \n",
       "39714            True                        True  \n",
       "39715            True                        True  \n",
       "39716            True                        True  \n",
       "\n",
       "[39717 rows x 111 columns]"
      ]
     },
     "execution_count": 5,
     "metadata": {},
     "output_type": "execute_result"
    }
   ],
   "source": [
    "df.isnull()# show whether the value is null or not by true or false"
   ]
  },
  {
   "cell_type": "code",
   "execution_count": 6,
   "id": "1bc5877a",
   "metadata": {},
   "outputs": [
    {
     "data": {
      "text/plain": [
       "id                                0\n",
       "member_id                         0\n",
       "loan_amnt                         0\n",
       "funded_amnt                       0\n",
       "funded_amnt_inv                   0\n",
       "                              ...  \n",
       "tax_liens                        39\n",
       "tot_hi_cred_lim               39717\n",
       "total_bal_ex_mort             39717\n",
       "total_bc_limit                39717\n",
       "total_il_high_credit_limit    39717\n",
       "Length: 111, dtype: int64"
      ]
     },
     "execution_count": 6,
     "metadata": {},
     "output_type": "execute_result"
    }
   ],
   "source": [
    "df.isnull().sum()# total NaN/missing value in all columns"
   ]
  },
  {
   "cell_type": "code",
   "execution_count": 7,
   "id": "60284a1b",
   "metadata": {},
   "outputs": [
    {
     "data": {
      "text/plain": [
       "id                            0.000000\n",
       "member_id                     0.000000\n",
       "loan_amnt                     0.000000\n",
       "funded_amnt                   0.000000\n",
       "funded_amnt_inv               0.000000\n",
       "                                ...   \n",
       "tax_liens                     0.000982\n",
       "tot_hi_cred_lim               1.000000\n",
       "total_bal_ex_mort             1.000000\n",
       "total_bc_limit                1.000000\n",
       "total_il_high_credit_limit    1.000000\n",
       "Length: 111, dtype: float64"
      ]
     },
     "execution_count": 7,
     "metadata": {},
     "output_type": "execute_result"
    }
   ],
   "source": [
    "df.isnull().sum()/len(df)# percent of NaN/Missing value in columns"
   ]
  },
  {
   "cell_type": "code",
   "execution_count": 8,
   "id": "aef60e11",
   "metadata": {},
   "outputs": [],
   "source": [
    "def checkmissing(x,threshold=0): #threshold ) means no missing and 1 means all missing in column\n",
    "    x=x.isnull().sum()/len(x)# calc missing value\n",
    "    x=x.sort_values(ascending =False)# arranging the missing value information in descending\n",
    "    x=x[x>threshold]# filtering all the missing value columns above  threshold\n",
    "    return x"
   ]
  },
  {
   "cell_type": "code",
   "execution_count": 9,
   "id": "290fbacf",
   "metadata": {},
   "outputs": [
    {
     "data": {
      "text/plain": [
       "verification_status_joint         1.0\n",
       "annual_inc_joint                  1.0\n",
       "mo_sin_old_rev_tl_op              1.0\n",
       "mo_sin_old_il_acct                1.0\n",
       "bc_util                           1.0\n",
       "bc_open_to_buy                    1.0\n",
       "avg_cur_bal                       1.0\n",
       "acc_open_past_24mths              1.0\n",
       "inq_last_12m                      1.0\n",
       "total_cu_tl                       1.0\n",
       "inq_fi                            1.0\n",
       "total_rev_hi_lim                  1.0\n",
       "all_util                          1.0\n",
       "max_bal_bc                        1.0\n",
       "open_rv_24m                       1.0\n",
       "open_rv_12m                       1.0\n",
       "il_util                           1.0\n",
       "total_bal_il                      1.0\n",
       "mths_since_rcnt_il                1.0\n",
       "open_il_24m                       1.0\n",
       "open_il_12m                       1.0\n",
       "open_il_6m                        1.0\n",
       "open_acc_6m                       1.0\n",
       "tot_cur_bal                       1.0\n",
       "tot_coll_amt                      1.0\n",
       "mo_sin_rcnt_rev_tl_op             1.0\n",
       "mo_sin_rcnt_tl                    1.0\n",
       "mort_acc                          1.0\n",
       "num_rev_tl_bal_gt_0               1.0\n",
       "total_bc_limit                    1.0\n",
       "total_bal_ex_mort                 1.0\n",
       "tot_hi_cred_lim                   1.0\n",
       "percent_bc_gt_75                  1.0\n",
       "pct_tl_nvr_dlq                    1.0\n",
       "num_tl_op_past_12m                1.0\n",
       "num_tl_90g_dpd_24m                1.0\n",
       "num_tl_30dpd                      1.0\n",
       "num_tl_120dpd_2m                  1.0\n",
       "num_sats                          1.0\n",
       "num_rev_accts                     1.0\n",
       "mths_since_recent_bc              1.0\n",
       "num_op_rev_tl                     1.0\n",
       "num_il_tl                         1.0\n",
       "num_bc_tl                         1.0\n",
       "num_bc_sats                       1.0\n",
       "num_actv_rev_tl                   1.0\n",
       "num_actv_bc_tl                    1.0\n",
       "num_accts_ever_120_pd             1.0\n",
       "mths_since_recent_revol_delinq    1.0\n",
       "mths_since_recent_inq             1.0\n",
       "mths_since_recent_bc_dlq          1.0\n",
       "dti_joint                         1.0\n",
       "total_il_high_credit_limit        1.0\n",
       "mths_since_last_major_derog       1.0\n",
       "dtype: float64"
      ]
     },
     "execution_count": 9,
     "metadata": {},
     "output_type": "execute_result"
    }
   ],
   "source": [
    "checkmissing(df,threshold=0.99)# checking columns with more than 99% missing value"
   ]
  },
  {
   "cell_type": "code",
   "execution_count": 10,
   "id": "817d0e6f",
   "metadata": {},
   "outputs": [
    {
     "data": {
      "text/plain": [
       "Index(['verification_status_joint', 'annual_inc_joint', 'mo_sin_old_rev_tl_op',\n",
       "       'mo_sin_old_il_acct', 'bc_util', 'bc_open_to_buy', 'avg_cur_bal',\n",
       "       'acc_open_past_24mths', 'inq_last_12m', 'total_cu_tl', 'inq_fi',\n",
       "       'total_rev_hi_lim', 'all_util', 'max_bal_bc', 'open_rv_24m',\n",
       "       'open_rv_12m', 'il_util', 'total_bal_il', 'mths_since_rcnt_il',\n",
       "       'open_il_24m', 'open_il_12m', 'open_il_6m', 'open_acc_6m',\n",
       "       'tot_cur_bal', 'tot_coll_amt', 'mo_sin_rcnt_rev_tl_op',\n",
       "       'mo_sin_rcnt_tl', 'mort_acc', 'num_rev_tl_bal_gt_0', 'total_bc_limit',\n",
       "       'total_bal_ex_mort', 'tot_hi_cred_lim', 'percent_bc_gt_75',\n",
       "       'pct_tl_nvr_dlq', 'num_tl_op_past_12m', 'num_tl_90g_dpd_24m',\n",
       "       'num_tl_30dpd', 'num_tl_120dpd_2m', 'num_sats', 'num_rev_accts',\n",
       "       'mths_since_recent_bc', 'num_op_rev_tl', 'num_il_tl', 'num_bc_tl',\n",
       "       'num_bc_sats', 'num_actv_rev_tl', 'num_actv_bc_tl',\n",
       "       'num_accts_ever_120_pd', 'mths_since_recent_revol_delinq',\n",
       "       'mths_since_recent_inq', 'mths_since_recent_bc_dlq', 'dti_joint',\n",
       "       'total_il_high_credit_limit', 'mths_since_last_major_derog'],\n",
       "      dtype='object')"
      ]
     },
     "execution_count": 10,
     "metadata": {},
     "output_type": "execute_result"
    }
   ],
   "source": [
    "## Above results are series so we will be using index value which are the columns name and 1 is value\n",
    "## series contain index and value but list only contain values\n",
    "col=checkmissing(df,threshold=0.99).index\n",
    "col"
   ]
  },
  {
   "cell_type": "code",
   "execution_count": 11,
   "id": "b1c6752f",
   "metadata": {},
   "outputs": [],
   "source": [
    "df=df.drop(col,axis=1)#Droping all columns with more than 99% missing values"
   ]
  },
  {
   "cell_type": "code",
   "execution_count": 12,
   "id": "f3886ed4",
   "metadata": {},
   "outputs": [
    {
     "data": {
      "text/plain": [
       "(39717, 57)"
      ]
     },
     "execution_count": 12,
     "metadata": {},
     "output_type": "execute_result"
    }
   ],
   "source": [
    "df.shape"
   ]
  },
  {
   "cell_type": "code",
   "execution_count": 13,
   "id": "8900cf3e",
   "metadata": {},
   "outputs": [
    {
     "data": {
      "text/plain": [
       "next_pymnt_d              0.971297\n",
       "mths_since_last_record    0.929854\n",
       "mths_since_last_delinq    0.646625\n",
       "dtype: float64"
      ]
     },
     "execution_count": 13,
     "metadata": {},
     "output_type": "execute_result"
    }
   ],
   "source": [
    "checkmissing(df,threshold=0.5)# Dropping all columns with more than 50% missing value"
   ]
  },
  {
   "cell_type": "code",
   "execution_count": 14,
   "id": "0a657218",
   "metadata": {},
   "outputs": [
    {
     "data": {
      "text/html": [
       "<div>\n",
       "<style scoped>\n",
       "    .dataframe tbody tr th:only-of-type {\n",
       "        vertical-align: middle;\n",
       "    }\n",
       "\n",
       "    .dataframe tbody tr th {\n",
       "        vertical-align: top;\n",
       "    }\n",
       "\n",
       "    .dataframe thead th {\n",
       "        text-align: right;\n",
       "    }\n",
       "</style>\n",
       "<table border=\"1\" class=\"dataframe\">\n",
       "  <thead>\n",
       "    <tr style=\"text-align: right;\">\n",
       "      <th></th>\n",
       "      <th>next_pymnt_d</th>\n",
       "      <th>mths_since_last_record</th>\n",
       "    </tr>\n",
       "  </thead>\n",
       "  <tbody>\n",
       "    <tr>\n",
       "      <th>0</th>\n",
       "      <td>NaN</td>\n",
       "      <td>NaN</td>\n",
       "    </tr>\n",
       "    <tr>\n",
       "      <th>1</th>\n",
       "      <td>NaN</td>\n",
       "      <td>NaN</td>\n",
       "    </tr>\n",
       "    <tr>\n",
       "      <th>2</th>\n",
       "      <td>NaN</td>\n",
       "      <td>NaN</td>\n",
       "    </tr>\n",
       "    <tr>\n",
       "      <th>3</th>\n",
       "      <td>NaN</td>\n",
       "      <td>NaN</td>\n",
       "    </tr>\n",
       "    <tr>\n",
       "      <th>4</th>\n",
       "      <td>Jun-16</td>\n",
       "      <td>NaN</td>\n",
       "    </tr>\n",
       "  </tbody>\n",
       "</table>\n",
       "</div>"
      ],
      "text/plain": [
       "  next_pymnt_d  mths_since_last_record\n",
       "0          NaN                     NaN\n",
       "1          NaN                     NaN\n",
       "2          NaN                     NaN\n",
       "3          NaN                     NaN\n",
       "4       Jun-16                     NaN"
      ]
     },
     "execution_count": 14,
     "metadata": {},
     "output_type": "execute_result"
    }
   ],
   "source": [
    "df[['next_pymnt_d','mths_since_last_record']].head()"
   ]
  },
  {
   "cell_type": "code",
   "execution_count": 15,
   "id": "343f8c9b",
   "metadata": {},
   "outputs": [
    {
     "data": {
      "text/plain": [
       "array([ nan, 113., 105.,  97.,  33.,  93.,  52.,  85.,  90.,  91., 114.,\n",
       "        92., 117.,  87.,  45.,  83., 118.,  38., 101., 100., 112., 110.,\n",
       "        88.,  79.,  77., 107., 102.,  98.,  95., 103.,  96., 116., 111.,\n",
       "        89., 108.,  29., 106., 115.,  53.,  86.,  57.,  63.,  94., 109.,\n",
       "        99., 104.,  76.,  61.,  28.,  23.,  75.,  47.,  82.,  21.,  62.,\n",
       "        44.,  80.,  67., 119.,  42.,  34.,  66.,  58.,  22.,  56.,  72.,\n",
       "        64.,  50.,  69.,  49.,  74.,  35.,  12.,  26.,  78.,  54.,  37.,\n",
       "        73.,  11.,  31.,  59.,  32.,  81.,  68.,  55.,  39.,  51.,  70.,\n",
       "        30.,  41.,  71.,  40.,  43.,  27.,  65.,  46.,  19.,  17.,  25.,\n",
       "        13.,  48.,  36.,   7.,  60.,  14.,   6.,  18.,   0.,  20., 120.,\n",
       "       129.,   5.])"
      ]
     },
     "execution_count": 15,
     "metadata": {},
     "output_type": "execute_result"
    }
   ],
   "source": [
    "df['mths_since_last_record'].unique()"
   ]
  },
  {
   "cell_type": "code",
   "execution_count": 16,
   "id": "dbd4cbd0",
   "metadata": {},
   "outputs": [],
   "source": [
    "df['mths_since_last_record'].fillna(999,inplace=True) ## replacing with 999 as old data and 0 means recent data"
   ]
  },
  {
   "cell_type": "code",
   "execution_count": 17,
   "id": "bbe56b3c",
   "metadata": {},
   "outputs": [
    {
     "data": {
      "text/plain": [
       "array([ nan,  35.,  38.,  61.,   8.,  20.,  18.,  68.,  45.,  48.,  41.,\n",
       "        40.,  74.,  25.,  53.,  39.,  10.,  26.,  56.,  77.,  28.,  52.,\n",
       "        24.,  16.,  60.,  54.,  23.,   9.,  11.,  13.,  65.,  19.,  80.,\n",
       "        22.,  59.,  79.,  44.,  64.,  57.,  14.,  63.,  49.,  15.,  73.,\n",
       "        70.,  29.,  51.,   5.,  75.,  55.,   2.,  30.,  47.,  33.,  69.,\n",
       "         4.,  43.,  21.,  27.,  46.,  81.,  78.,  82.,  31.,  76.,  62.,\n",
       "        72.,  42.,  50.,   3.,  12.,  67.,  36.,  34.,  58.,  17.,  71.,\n",
       "        66.,  32.,   6.,  37.,   7.,   1.,  83.,  86., 115.,  96., 103.,\n",
       "       120., 106.,  89., 107.,  85.,  97.,  95.,   0.])"
      ]
     },
     "execution_count": 17,
     "metadata": {},
     "output_type": "execute_result"
    }
   ],
   "source": [
    "df['mths_since_last_delinq'].unique()"
   ]
  },
  {
   "cell_type": "code",
   "execution_count": 18,
   "id": "0c6e7dd2",
   "metadata": {},
   "outputs": [],
   "source": [
    "df['mths_since_last_delinq'].fillna(999,inplace=True)"
   ]
  },
  {
   "cell_type": "code",
   "execution_count": 19,
   "id": "16d46efd",
   "metadata": {},
   "outputs": [],
   "source": [
    "del df['next_pymnt_d'] # we cannot get information about it "
   ]
  },
  {
   "cell_type": "code",
   "execution_count": 20,
   "id": "48cdd4d1",
   "metadata": {},
   "outputs": [
    {
     "data": {
      "text/plain": [
       "desc    0.325805\n",
       "dtype: float64"
      ]
     },
     "execution_count": 20,
     "metadata": {},
     "output_type": "execute_result"
    }
   ],
   "source": [
    "checkmissing(df,threshold=0.3)"
   ]
  },
  {
   "cell_type": "code",
   "execution_count": 21,
   "id": "e12c1762",
   "metadata": {},
   "outputs": [
    {
     "data": {
      "text/plain": [
       "array(['  Borrower added on 12/22/11 > I need to upgrade my business technologies.<br>',\n",
       "       '  Borrower added on 12/22/11 > I plan to use this money to finance the motorcycle i am looking at. I plan to have it paid off as soon as possible/when i sell my old bike. I only need this money because the deal im looking at is to good to pass up.<br><br>  Borrower added on 12/22/11 > I plan to use this money to finance the motorcycle i am looking at. I plan to have it paid off as soon as possible/when i sell my old bike.I only need this money because the deal im looking at is to good to pass up. I have finished college with an associates degree in business and its takingmeplaces<br>',\n",
       "       nan, ...,\n",
       "       'Our current gutter system on our home is old and in need of repair.    We will be using the borrowed funds to replace the gutter system on our home.',\n",
       "       'The rate of interest and fees incurred by carrying a balance on my credit card are so outrageous at this point that continuing to pay them is patently bad financial thinking.  I wish to redirect my efforts at retiring my debt via another more-reasonable means.    I have sufficient funds to direct to this end on a monthly basis, and have simply gotten tired of their being gobbled up by interest and fees.',\n",
       "       'I plan to consolidate over $7,000 of debt: a combination of credit cards and student loans.'],\n",
       "      dtype=object)"
      ]
     },
     "execution_count": 21,
     "metadata": {},
     "output_type": "execute_result"
    }
   ],
   "source": [
    "df['desc'].unique()"
   ]
  },
  {
   "cell_type": "code",
   "execution_count": 22,
   "id": "133f731b",
   "metadata": {},
   "outputs": [
    {
     "data": {
      "text/plain": [
       "26527"
      ]
     },
     "execution_count": 22,
     "metadata": {},
     "output_type": "execute_result"
    }
   ],
   "source": [
    "df['desc'].nunique()"
   ]
  },
  {
   "cell_type": "code",
   "execution_count": 23,
   "id": "e193c54d",
   "metadata": {},
   "outputs": [],
   "source": [
    "del df['desc']"
   ]
  },
  {
   "cell_type": "code",
   "execution_count": 24,
   "id": "773ca05f",
   "metadata": {},
   "outputs": [
    {
     "data": {
      "text/plain": [
       "emp_title                     0.061913\n",
       "emp_length                    0.027066\n",
       "pub_rec_bankruptcies          0.017549\n",
       "last_pymnt_d                  0.001788\n",
       "chargeoff_within_12_mths      0.001410\n",
       "collections_12_mths_ex_med    0.001410\n",
       "revol_util                    0.001259\n",
       "tax_liens                     0.000982\n",
       "title                         0.000277\n",
       "last_credit_pull_d            0.000050\n",
       "dtype: float64"
      ]
     },
     "execution_count": 24,
     "metadata": {},
     "output_type": "execute_result"
    }
   ],
   "source": [
    "checkmissing(df,threshold=0)"
   ]
  },
  {
   "cell_type": "code",
   "execution_count": 25,
   "id": "91068d31",
   "metadata": {},
   "outputs": [
    {
     "data": {
      "text/plain": [
       "0                               NaN\n",
       "1                             Ryder\n",
       "2                               NaN\n",
       "3               AIR RESOURCES BOARD\n",
       "4          University Medical Group\n",
       "                    ...            \n",
       "39712               FiSite Research\n",
       "39713    Squarewave Solutions, Ltd.\n",
       "39714                           NaN\n",
       "39715                           NaN\n",
       "39716              Evergreen Center\n",
       "Name: emp_title, Length: 39717, dtype: object"
      ]
     },
     "execution_count": 25,
     "metadata": {},
     "output_type": "execute_result"
    }
   ],
   "source": [
    "df['emp_title']"
   ]
  },
  {
   "cell_type": "code",
   "execution_count": 26,
   "id": "183fb4d9",
   "metadata": {},
   "outputs": [
    {
     "data": {
      "text/plain": [
       "28820"
      ]
     },
     "execution_count": 26,
     "metadata": {},
     "output_type": "execute_result"
    }
   ],
   "source": [
    "df['emp_title'].nunique()"
   ]
  },
  {
   "cell_type": "code",
   "execution_count": 27,
   "id": "57678876",
   "metadata": {},
   "outputs": [],
   "source": [
    "del df['emp_title']"
   ]
  },
  {
   "cell_type": "code",
   "execution_count": 28,
   "id": "63184815",
   "metadata": {},
   "outputs": [
    {
     "data": {
      "text/plain": [
       "array(['10+ years', '< 1 year', '1 year', '3 years', '8 years', '9 years',\n",
       "       '4 years', '5 years', '6 years', '2 years', '7 years', nan],\n",
       "      dtype=object)"
      ]
     },
     "execution_count": 28,
     "metadata": {},
     "output_type": "execute_result"
    }
   ],
   "source": [
    "df['emp_length'].unique()"
   ]
  },
  {
   "cell_type": "code",
   "execution_count": 29,
   "id": "7bb3f905",
   "metadata": {},
   "outputs": [
    {
     "data": {
      "text/plain": [
       "['1', '0']"
      ]
     },
     "execution_count": 29,
     "metadata": {},
     "output_type": "execute_result"
    }
   ],
   "source": [
    "re.findall('\\d','10+ year') ## re => regular expression : find pattern in text"
   ]
  },
  {
   "cell_type": "code",
   "execution_count": 30,
   "id": "95980cfa",
   "metadata": {},
   "outputs": [
    {
     "data": {
      "text/plain": [
       "'10'"
      ]
     },
     "execution_count": 30,
     "metadata": {},
     "output_type": "execute_result"
    }
   ],
   "source": [
    "re.findall('\\d+','10+ year')[0]"
   ]
  },
  {
   "cell_type": "code",
   "execution_count": 31,
   "id": "8d0d6bc4",
   "metadata": {},
   "outputs": [
    {
     "data": {
      "text/plain": [
       "10.0"
      ]
     },
     "execution_count": 31,
     "metadata": {},
     "output_type": "execute_result"
    }
   ],
   "source": [
    "float(re.findall('\\d+','10+ year')[0])"
   ]
  },
  {
   "cell_type": "code",
   "execution_count": 32,
   "id": "a17f62e4",
   "metadata": {},
   "outputs": [],
   "source": [
    "def clean(x):\n",
    "    x=str(x)\n",
    "    if x == 'nan': ## if nan then return np.nan\n",
    "        x=np.nan\n",
    "    elif '<' in x: ## if less than symbol return 0\n",
    "        x=0\n",
    "    else:\n",
    "        x=float(re.findall('\\d+',x)[0])# else statement the number and convert to float\n",
    "    return x"
   ]
  },
  {
   "cell_type": "code",
   "execution_count": 33,
   "id": "d069dd83",
   "metadata": {},
   "outputs": [],
   "source": [
    "df['emp_length']=df['emp_length'].apply(clean)"
   ]
  },
  {
   "cell_type": "code",
   "execution_count": 34,
   "id": "333508fa",
   "metadata": {},
   "outputs": [
    {
     "data": {
      "text/html": [
       "<div>\n",
       "<style scoped>\n",
       "    .dataframe tbody tr th:only-of-type {\n",
       "        vertical-align: middle;\n",
       "    }\n",
       "\n",
       "    .dataframe tbody tr th {\n",
       "        vertical-align: top;\n",
       "    }\n",
       "\n",
       "    .dataframe thead th {\n",
       "        text-align: right;\n",
       "    }\n",
       "</style>\n",
       "<table border=\"1\" class=\"dataframe\">\n",
       "  <thead>\n",
       "    <tr style=\"text-align: right;\">\n",
       "      <th></th>\n",
       "      <th>emp_length</th>\n",
       "    </tr>\n",
       "  </thead>\n",
       "  <tbody>\n",
       "    <tr>\n",
       "      <th>0</th>\n",
       "      <td>10.0</td>\n",
       "    </tr>\n",
       "    <tr>\n",
       "      <th>1</th>\n",
       "      <td>0.0</td>\n",
       "    </tr>\n",
       "    <tr>\n",
       "      <th>2</th>\n",
       "      <td>10.0</td>\n",
       "    </tr>\n",
       "    <tr>\n",
       "      <th>3</th>\n",
       "      <td>10.0</td>\n",
       "    </tr>\n",
       "    <tr>\n",
       "      <th>4</th>\n",
       "      <td>1.0</td>\n",
       "    </tr>\n",
       "  </tbody>\n",
       "</table>\n",
       "</div>"
      ],
      "text/plain": [
       "   emp_length\n",
       "0        10.0\n",
       "1         0.0\n",
       "2        10.0\n",
       "3        10.0\n",
       "4         1.0"
      ]
     },
     "execution_count": 34,
     "metadata": {},
     "output_type": "execute_result"
    }
   ],
   "source": [
    "df[['emp_length']].head()"
   ]
  },
  {
   "cell_type": "code",
   "execution_count": 35,
   "id": "b7bb7493",
   "metadata": {},
   "outputs": [],
   "source": [
    "\n",
    "# replacing missing value by mean of emp length"
   ]
  },
  {
   "cell_type": "code",
   "execution_count": 36,
   "id": "598fbc33",
   "metadata": {},
   "outputs": [
    {
     "data": {
      "text/plain": [
       "array([ 0.,  1.,  2., nan])"
      ]
     },
     "execution_count": 36,
     "metadata": {},
     "output_type": "execute_result"
    }
   ],
   "source": [
    "df['pub_rec_bankruptcies'].unique()"
   ]
  },
  {
   "cell_type": "code",
   "execution_count": 37,
   "id": "bf830f6b",
   "metadata": {},
   "outputs": [],
   "source": [
    "df['pub_rec_bankruptcies']=df['pub_rec_bankruptcies'].fillna(0)"
   ]
  },
  {
   "cell_type": "code",
   "execution_count": 38,
   "id": "2dbb8ddd",
   "metadata": {},
   "outputs": [
    {
     "data": {
      "text/plain": [
       "array(['Jan-15', 'Apr-13', 'Jun-14', 'May-16', 'Apr-12', 'Nov-12',\n",
       "       'Jun-13', 'Sep-13', 'Jul-12', 'Oct-13', 'May-13', 'Feb-15',\n",
       "       'Aug-15', 'Oct-12', 'Sep-12', nan, 'Dec-12', 'Dec-14', 'Aug-13',\n",
       "       'Nov-13', 'Jan-14', 'Apr-14', 'Aug-14', 'Oct-14', 'Aug-12',\n",
       "       'Jul-14', 'Jul-13', 'Jan-16', 'Feb-16', 'Apr-15', 'Feb-14',\n",
       "       'Sep-14', 'Jun-12', 'Feb-13', 'Mar-13', 'May-14', 'Mar-15',\n",
       "       'Jan-13', 'Dec-13', 'Feb-12', 'Mar-14', 'Sep-15', 'Nov-15',\n",
       "       'Mar-16', 'Jan-12', 'Oct-15', 'Nov-14', 'Mar-12', 'May-12',\n",
       "       'Apr-16', 'Dec-15', 'Jun-15', 'May-15', 'Jul-15', 'Dec-11',\n",
       "       'Nov-11', 'Oct-11', 'Sep-11', 'Aug-11', 'Jul-11', 'Jun-11',\n",
       "       'May-11', 'Apr-11', 'Mar-11', 'Feb-11', 'Jan-11', 'Dec-10',\n",
       "       'Nov-10', 'Oct-10', 'Sep-10', 'Aug-10', 'Jul-10', 'Jun-10',\n",
       "       'May-10', 'Apr-10', 'Mar-10', 'Feb-10', 'Jan-10', 'Dec-09',\n",
       "       'Nov-09', 'Oct-09', 'Sep-09', 'Aug-09', 'Jul-09', 'Jun-09',\n",
       "       'May-09', 'Apr-09', 'Mar-09', 'Feb-09', 'Jan-09', 'Dec-08',\n",
       "       'Oct-08', 'Aug-08', 'Jul-08', 'Sep-08', 'Jun-08', 'May-08',\n",
       "       'Nov-08', 'Apr-08', 'Mar-08', 'Feb-08', 'Jan-08'], dtype=object)"
      ]
     },
     "execution_count": 38,
     "metadata": {},
     "output_type": "execute_result"
    }
   ],
   "source": [
    "df['last_pymnt_d'].unique()"
   ]
  },
  {
   "cell_type": "code",
   "execution_count": 39,
   "id": "c3dabd61",
   "metadata": {},
   "outputs": [
    {
     "name": "stdout",
     "output_type": "stream",
     "text": [
      "\n",
      "Jan\n",
      "Feb\n",
      "Mar\n",
      "Apr\n",
      "May\n",
      "Jun\n",
      "Jul\n",
      "Aug\n",
      "Sep\n",
      "Oct\n",
      "Nov\n",
      "Dec\n"
     ]
    }
   ],
   "source": [
    "for i in calendar.month_abbr:\n",
    "    print(i)"
   ]
  },
  {
   "cell_type": "code",
   "execution_count": 40,
   "id": "d1d7c4d7",
   "metadata": {},
   "outputs": [
    {
     "name": "stdout",
     "output_type": "stream",
     "text": [
      "0 \n",
      "1 Jan\n",
      "2 Feb\n",
      "3 Mar\n",
      "4 Apr\n",
      "5 May\n",
      "6 Jun\n",
      "7 Jul\n",
      "8 Aug\n",
      "9 Sep\n",
      "10 Oct\n",
      "11 Nov\n",
      "12 Dec\n"
     ]
    }
   ],
   "source": [
    "for i,j in enumerate(calendar.month_abbr):\n",
    "    print(i,j)"
   ]
  },
  {
   "cell_type": "code",
   "execution_count": 41,
   "id": "b2033978",
   "metadata": {},
   "outputs": [
    {
     "data": {
      "text/plain": [
       "{'': 0,\n",
       " 'Jan': 1,\n",
       " 'Feb': 2,\n",
       " 'Mar': 3,\n",
       " 'Apr': 4,\n",
       " 'May': 5,\n",
       " 'Jun': 6,\n",
       " 'Jul': 7,\n",
       " 'Aug': 8,\n",
       " 'Sep': 9,\n",
       " 'Oct': 10,\n",
       " 'Nov': 11,\n",
       " 'Dec': 12}"
      ]
     },
     "execution_count": 41,
     "metadata": {},
     "output_type": "execute_result"
    }
   ],
   "source": [
    "month2num=dict([(j,i) for i,j in enumerate(calendar.month_abbr)])\n",
    "month2num"
   ]
  },
  {
   "cell_type": "code",
   "execution_count": 42,
   "id": "239cfc71",
   "metadata": {},
   "outputs": [
    {
     "data": {
      "text/plain": [
       "1"
      ]
     },
     "execution_count": 42,
     "metadata": {},
     "output_type": "execute_result"
    }
   ],
   "source": [
    "month2num['Jan']"
   ]
  },
  {
   "cell_type": "code",
   "execution_count": 43,
   "id": "298014cb",
   "metadata": {},
   "outputs": [
    {
     "data": {
      "text/plain": [
       "['Jan', '08']"
      ]
     },
     "execution_count": 43,
     "metadata": {},
     "output_type": "execute_result"
    }
   ],
   "source": [
    "x='Jan-08'\n",
    "x=x.split('-')\n",
    "x"
   ]
  },
  {
   "cell_type": "code",
   "execution_count": 44,
   "id": "637ebe6b",
   "metadata": {},
   "outputs": [
    {
     "data": {
      "text/plain": [
       "'Jan'"
      ]
     },
     "execution_count": 44,
     "metadata": {},
     "output_type": "execute_result"
    }
   ],
   "source": [
    "x[0]"
   ]
  },
  {
   "cell_type": "code",
   "execution_count": 45,
   "id": "87bba10e",
   "metadata": {},
   "outputs": [
    {
     "data": {
      "text/plain": [
       "1"
      ]
     },
     "execution_count": 45,
     "metadata": {},
     "output_type": "execute_result"
    }
   ],
   "source": [
    "month_number=month2num[x[0]]\n",
    "month_number"
   ]
  },
  {
   "cell_type": "code",
   "execution_count": 46,
   "id": "6468553c",
   "metadata": {},
   "outputs": [
    {
     "data": {
      "text/plain": [
       "'08'"
      ]
     },
     "execution_count": 46,
     "metadata": {},
     "output_type": "execute_result"
    }
   ],
   "source": [
    "x[1]"
   ]
  },
  {
   "cell_type": "code",
   "execution_count": 47,
   "id": "82e76a65",
   "metadata": {},
   "outputs": [
    {
     "data": {
      "text/plain": [
       "2008"
      ]
     },
     "execution_count": 47,
     "metadata": {},
     "output_type": "execute_result"
    }
   ],
   "source": [
    "year=2000+int(x[1])\n",
    "year"
   ]
  },
  {
   "cell_type": "code",
   "execution_count": 48,
   "id": "fe7ceb29",
   "metadata": {},
   "outputs": [
    {
     "data": {
      "text/plain": [
       "datetime.datetime(2008, 1, 1, 0, 0)"
      ]
     },
     "execution_count": 48,
     "metadata": {},
     "output_type": "execute_result"
    }
   ],
   "source": [
    "dt.datetime(year,month_number,1) #dt.datetime(year,month)"
   ]
  },
  {
   "cell_type": "code",
   "execution_count": 49,
   "id": "11ebb55d",
   "metadata": {},
   "outputs": [],
   "source": [
    "def convertdate(x):\n",
    "    try:\n",
    "        x=x.split('-')#------will return list of strings\n",
    "        year=2000+int(x[1])\n",
    "        month_number=month2num[x[0]] \n",
    "        x=dt.datetime(year,month_number,1)\n",
    "    except:\n",
    "        x=np.nan\n",
    "    return x"
   ]
  },
  {
   "cell_type": "code",
   "execution_count": 50,
   "id": "96e2ba43",
   "metadata": {},
   "outputs": [
    {
     "data": {
      "text/plain": [
       "datetime.datetime(2015, 1, 1, 0, 0)"
      ]
     },
     "execution_count": 50,
     "metadata": {},
     "output_type": "execute_result"
    }
   ],
   "source": [
    "convertdate('Jan-15')"
   ]
  },
  {
   "cell_type": "code",
   "execution_count": 51,
   "id": "b523229a",
   "metadata": {},
   "outputs": [],
   "source": [
    "df['last_pymnt_d']=df['last_pymnt_d'].apply(convertdate)"
   ]
  },
  {
   "cell_type": "code",
   "execution_count": 52,
   "id": "6af7dedc",
   "metadata": {},
   "outputs": [
    {
     "data": {
      "text/html": [
       "<div>\n",
       "<style scoped>\n",
       "    .dataframe tbody tr th:only-of-type {\n",
       "        vertical-align: middle;\n",
       "    }\n",
       "\n",
       "    .dataframe tbody tr th {\n",
       "        vertical-align: top;\n",
       "    }\n",
       "\n",
       "    .dataframe thead th {\n",
       "        text-align: right;\n",
       "    }\n",
       "</style>\n",
       "<table border=\"1\" class=\"dataframe\">\n",
       "  <thead>\n",
       "    <tr style=\"text-align: right;\">\n",
       "      <th></th>\n",
       "      <th>last_pymnt_d</th>\n",
       "    </tr>\n",
       "  </thead>\n",
       "  <tbody>\n",
       "    <tr>\n",
       "      <th>0</th>\n",
       "      <td>2015-01-01</td>\n",
       "    </tr>\n",
       "    <tr>\n",
       "      <th>1</th>\n",
       "      <td>2013-04-01</td>\n",
       "    </tr>\n",
       "    <tr>\n",
       "      <th>2</th>\n",
       "      <td>2014-06-01</td>\n",
       "    </tr>\n",
       "    <tr>\n",
       "      <th>3</th>\n",
       "      <td>2015-01-01</td>\n",
       "    </tr>\n",
       "    <tr>\n",
       "      <th>4</th>\n",
       "      <td>2016-05-01</td>\n",
       "    </tr>\n",
       "  </tbody>\n",
       "</table>\n",
       "</div>"
      ],
      "text/plain": [
       "  last_pymnt_d\n",
       "0   2015-01-01\n",
       "1   2013-04-01\n",
       "2   2014-06-01\n",
       "3   2015-01-01\n",
       "4   2016-05-01"
      ]
     },
     "execution_count": 52,
     "metadata": {},
     "output_type": "execute_result"
    }
   ],
   "source": [
    "df[['last_pymnt_d']].head()"
   ]
  },
  {
   "cell_type": "code",
   "execution_count": 53,
   "id": "041536e1",
   "metadata": {},
   "outputs": [],
   "source": [
    "# if we drop the remaining Na's what loss of data we will have"
   ]
  },
  {
   "cell_type": "code",
   "execution_count": 54,
   "id": "f17f0cac",
   "metadata": {},
   "outputs": [
    {
     "data": {
      "text/plain": [
       "0.4683133167157627"
      ]
     },
     "execution_count": 54,
     "metadata": {},
     "output_type": "execute_result"
    }
   ],
   "source": [
    "(1-len(df.dropna())/len(df))*100\n",
    "# 0.4% loss is very loss in information so we will drop all the na rows"
   ]
  },
  {
   "cell_type": "code",
   "execution_count": 55,
   "id": "0d99ba11",
   "metadata": {},
   "outputs": [],
   "source": [
    "df=df.dropna()"
   ]
  },
  {
   "cell_type": "code",
   "execution_count": 56,
   "id": "6edec369",
   "metadata": {},
   "outputs": [
    {
     "data": {
      "text/plain": [
       "Series([], dtype: float64)"
      ]
     },
     "execution_count": 56,
     "metadata": {},
     "output_type": "execute_result"
    }
   ],
   "source": [
    "checkmissing(df,threshold=0)# empty list shows no missing values in the data"
   ]
  },
  {
   "cell_type": "code",
   "execution_count": 57,
   "id": "7a5cfcc4",
   "metadata": {},
   "outputs": [
    {
     "data": {
      "text/plain": [
       "(39531, 54)"
      ]
     },
     "execution_count": 57,
     "metadata": {},
     "output_type": "execute_result"
    }
   ],
   "source": [
    "df.shape"
   ]
  },
  {
   "cell_type": "code",
   "execution_count": 58,
   "id": "e14d8fcd",
   "metadata": {},
   "outputs": [],
   "source": [
    "# Ml models requires only number they don't understand text\n",
    "# So we will check all object columns to understand which column to convert\n",
    "# to numerical and which to dummy one hot encoded column"
   ]
  },
  {
   "cell_type": "code",
   "execution_count": 59,
   "id": "c48dd159",
   "metadata": {
    "scrolled": true
   },
   "outputs": [
    {
     "data": {
      "text/html": [
       "<div>\n",
       "<style scoped>\n",
       "    .dataframe tbody tr th:only-of-type {\n",
       "        vertical-align: middle;\n",
       "    }\n",
       "\n",
       "    .dataframe tbody tr th {\n",
       "        vertical-align: top;\n",
       "    }\n",
       "\n",
       "    .dataframe thead th {\n",
       "        text-align: right;\n",
       "    }\n",
       "</style>\n",
       "<table border=\"1\" class=\"dataframe\">\n",
       "  <thead>\n",
       "    <tr style=\"text-align: right;\">\n",
       "      <th></th>\n",
       "      <th>term</th>\n",
       "      <th>int_rate</th>\n",
       "      <th>grade</th>\n",
       "      <th>sub_grade</th>\n",
       "      <th>home_ownership</th>\n",
       "      <th>verification_status</th>\n",
       "      <th>issue_d</th>\n",
       "      <th>loan_status</th>\n",
       "      <th>pymnt_plan</th>\n",
       "      <th>url</th>\n",
       "      <th>purpose</th>\n",
       "      <th>title</th>\n",
       "      <th>zip_code</th>\n",
       "      <th>addr_state</th>\n",
       "      <th>earliest_cr_line</th>\n",
       "      <th>revol_util</th>\n",
       "      <th>initial_list_status</th>\n",
       "      <th>last_credit_pull_d</th>\n",
       "      <th>application_type</th>\n",
       "    </tr>\n",
       "  </thead>\n",
       "  <tbody>\n",
       "    <tr>\n",
       "      <th>0</th>\n",
       "      <td>36 months</td>\n",
       "      <td>10.65%</td>\n",
       "      <td>B</td>\n",
       "      <td>B2</td>\n",
       "      <td>RENT</td>\n",
       "      <td>Verified</td>\n",
       "      <td>Dec-11</td>\n",
       "      <td>Fully Paid</td>\n",
       "      <td>n</td>\n",
       "      <td>https://lendingclub.com/browse/loanDetail.acti...</td>\n",
       "      <td>credit_card</td>\n",
       "      <td>Computer</td>\n",
       "      <td>860xx</td>\n",
       "      <td>AZ</td>\n",
       "      <td>Jan-85</td>\n",
       "      <td>83.70%</td>\n",
       "      <td>f</td>\n",
       "      <td>May-16</td>\n",
       "      <td>INDIVIDUAL</td>\n",
       "    </tr>\n",
       "    <tr>\n",
       "      <th>1</th>\n",
       "      <td>60 months</td>\n",
       "      <td>15.27%</td>\n",
       "      <td>C</td>\n",
       "      <td>C4</td>\n",
       "      <td>RENT</td>\n",
       "      <td>Source Verified</td>\n",
       "      <td>Dec-11</td>\n",
       "      <td>Charged Off</td>\n",
       "      <td>n</td>\n",
       "      <td>https://lendingclub.com/browse/loanDetail.acti...</td>\n",
       "      <td>car</td>\n",
       "      <td>bike</td>\n",
       "      <td>309xx</td>\n",
       "      <td>GA</td>\n",
       "      <td>Apr-99</td>\n",
       "      <td>9.40%</td>\n",
       "      <td>f</td>\n",
       "      <td>Sep-13</td>\n",
       "      <td>INDIVIDUAL</td>\n",
       "    </tr>\n",
       "    <tr>\n",
       "      <th>2</th>\n",
       "      <td>36 months</td>\n",
       "      <td>15.96%</td>\n",
       "      <td>C</td>\n",
       "      <td>C5</td>\n",
       "      <td>RENT</td>\n",
       "      <td>Not Verified</td>\n",
       "      <td>Dec-11</td>\n",
       "      <td>Fully Paid</td>\n",
       "      <td>n</td>\n",
       "      <td>https://lendingclub.com/browse/loanDetail.acti...</td>\n",
       "      <td>small_business</td>\n",
       "      <td>real estate business</td>\n",
       "      <td>606xx</td>\n",
       "      <td>IL</td>\n",
       "      <td>Nov-01</td>\n",
       "      <td>98.50%</td>\n",
       "      <td>f</td>\n",
       "      <td>May-16</td>\n",
       "      <td>INDIVIDUAL</td>\n",
       "    </tr>\n",
       "    <tr>\n",
       "      <th>3</th>\n",
       "      <td>36 months</td>\n",
       "      <td>13.49%</td>\n",
       "      <td>C</td>\n",
       "      <td>C1</td>\n",
       "      <td>RENT</td>\n",
       "      <td>Source Verified</td>\n",
       "      <td>Dec-11</td>\n",
       "      <td>Fully Paid</td>\n",
       "      <td>n</td>\n",
       "      <td>https://lendingclub.com/browse/loanDetail.acti...</td>\n",
       "      <td>other</td>\n",
       "      <td>personel</td>\n",
       "      <td>917xx</td>\n",
       "      <td>CA</td>\n",
       "      <td>Feb-96</td>\n",
       "      <td>21%</td>\n",
       "      <td>f</td>\n",
       "      <td>Apr-16</td>\n",
       "      <td>INDIVIDUAL</td>\n",
       "    </tr>\n",
       "    <tr>\n",
       "      <th>4</th>\n",
       "      <td>60 months</td>\n",
       "      <td>12.69%</td>\n",
       "      <td>B</td>\n",
       "      <td>B5</td>\n",
       "      <td>RENT</td>\n",
       "      <td>Source Verified</td>\n",
       "      <td>Dec-11</td>\n",
       "      <td>Current</td>\n",
       "      <td>n</td>\n",
       "      <td>https://lendingclub.com/browse/loanDetail.acti...</td>\n",
       "      <td>other</td>\n",
       "      <td>Personal</td>\n",
       "      <td>972xx</td>\n",
       "      <td>OR</td>\n",
       "      <td>Jan-96</td>\n",
       "      <td>53.90%</td>\n",
       "      <td>f</td>\n",
       "      <td>May-16</td>\n",
       "      <td>INDIVIDUAL</td>\n",
       "    </tr>\n",
       "    <tr>\n",
       "      <th>...</th>\n",
       "      <td>...</td>\n",
       "      <td>...</td>\n",
       "      <td>...</td>\n",
       "      <td>...</td>\n",
       "      <td>...</td>\n",
       "      <td>...</td>\n",
       "      <td>...</td>\n",
       "      <td>...</td>\n",
       "      <td>...</td>\n",
       "      <td>...</td>\n",
       "      <td>...</td>\n",
       "      <td>...</td>\n",
       "      <td>...</td>\n",
       "      <td>...</td>\n",
       "      <td>...</td>\n",
       "      <td>...</td>\n",
       "      <td>...</td>\n",
       "      <td>...</td>\n",
       "      <td>...</td>\n",
       "    </tr>\n",
       "    <tr>\n",
       "      <th>39661</th>\n",
       "      <td>36 months</td>\n",
       "      <td>7.75%</td>\n",
       "      <td>A</td>\n",
       "      <td>A3</td>\n",
       "      <td>OWN</td>\n",
       "      <td>Not Verified</td>\n",
       "      <td>Aug-07</td>\n",
       "      <td>Fully Paid</td>\n",
       "      <td>n</td>\n",
       "      <td>https://lendingclub.com/browse/loanDetail.acti...</td>\n",
       "      <td>vacation</td>\n",
       "      <td>Vacation</td>\n",
       "      <td>981xx</td>\n",
       "      <td>WA</td>\n",
       "      <td>Sep-84</td>\n",
       "      <td>0.70%</td>\n",
       "      <td>f</td>\n",
       "      <td>Aug-07</td>\n",
       "      <td>INDIVIDUAL</td>\n",
       "    </tr>\n",
       "    <tr>\n",
       "      <th>39662</th>\n",
       "      <td>36 months</td>\n",
       "      <td>7.75%</td>\n",
       "      <td>A</td>\n",
       "      <td>A3</td>\n",
       "      <td>OWN</td>\n",
       "      <td>Not Verified</td>\n",
       "      <td>Aug-07</td>\n",
       "      <td>Fully Paid</td>\n",
       "      <td>n</td>\n",
       "      <td>https://lendingclub.com/browse/loanDetail.acti...</td>\n",
       "      <td>home_improvement</td>\n",
       "      <td>landscape improvement</td>\n",
       "      <td>981xx</td>\n",
       "      <td>WA</td>\n",
       "      <td>Sep-84</td>\n",
       "      <td>1%</td>\n",
       "      <td>f</td>\n",
       "      <td>Aug-07</td>\n",
       "      <td>INDIVIDUAL</td>\n",
       "    </tr>\n",
       "    <tr>\n",
       "      <th>39663</th>\n",
       "      <td>36 months</td>\n",
       "      <td>10.91%</td>\n",
       "      <td>C</td>\n",
       "      <td>C3</td>\n",
       "      <td>RENT</td>\n",
       "      <td>Not Verified</td>\n",
       "      <td>Aug-07</td>\n",
       "      <td>Fully Paid</td>\n",
       "      <td>n</td>\n",
       "      <td>https://lendingclub.com/browse/loanDetail.acti...</td>\n",
       "      <td>car</td>\n",
       "      <td>Not so new car</td>\n",
       "      <td>232xx</td>\n",
       "      <td>VA</td>\n",
       "      <td>Aug-01</td>\n",
       "      <td>79.60%</td>\n",
       "      <td>f</td>\n",
       "      <td>Jun-11</td>\n",
       "      <td>INDIVIDUAL</td>\n",
       "    </tr>\n",
       "    <tr>\n",
       "      <th>39664</th>\n",
       "      <td>36 months</td>\n",
       "      <td>8.70%</td>\n",
       "      <td>B</td>\n",
       "      <td>B1</td>\n",
       "      <td>RENT</td>\n",
       "      <td>Not Verified</td>\n",
       "      <td>Aug-07</td>\n",
       "      <td>Fully Paid</td>\n",
       "      <td>n</td>\n",
       "      <td>https://lendingclub.com/browse/loanDetail.acti...</td>\n",
       "      <td>credit_card</td>\n",
       "      <td>Zach's Pre-Blis Loan</td>\n",
       "      <td>100xx</td>\n",
       "      <td>NY</td>\n",
       "      <td>Aug-00</td>\n",
       "      <td>19.80%</td>\n",
       "      <td>f</td>\n",
       "      <td>Aug-10</td>\n",
       "      <td>INDIVIDUAL</td>\n",
       "    </tr>\n",
       "    <tr>\n",
       "      <th>39665</th>\n",
       "      <td>36 months</td>\n",
       "      <td>7.43%</td>\n",
       "      <td>A</td>\n",
       "      <td>A2</td>\n",
       "      <td>RENT</td>\n",
       "      <td>Not Verified</td>\n",
       "      <td>Aug-07</td>\n",
       "      <td>Fully Paid</td>\n",
       "      <td>n</td>\n",
       "      <td>https://lendingclub.com/browse/loanDetail.acti...</td>\n",
       "      <td>educational</td>\n",
       "      <td>Engineer seeks Environmental Training</td>\n",
       "      <td>080xx</td>\n",
       "      <td>NJ</td>\n",
       "      <td>Nov-02</td>\n",
       "      <td>11%</td>\n",
       "      <td>f</td>\n",
       "      <td>Apr-15</td>\n",
       "      <td>INDIVIDUAL</td>\n",
       "    </tr>\n",
       "  </tbody>\n",
       "</table>\n",
       "<p>39531 rows × 19 columns</p>\n",
       "</div>"
      ],
      "text/plain": [
       "             term int_rate grade sub_grade home_ownership verification_status  \\\n",
       "0       36 months   10.65%     B        B2           RENT            Verified   \n",
       "1       60 months   15.27%     C        C4           RENT     Source Verified   \n",
       "2       36 months   15.96%     C        C5           RENT        Not Verified   \n",
       "3       36 months   13.49%     C        C1           RENT     Source Verified   \n",
       "4       60 months   12.69%     B        B5           RENT     Source Verified   \n",
       "...           ...      ...   ...       ...            ...                 ...   \n",
       "39661   36 months    7.75%     A        A3            OWN        Not Verified   \n",
       "39662   36 months    7.75%     A        A3            OWN        Not Verified   \n",
       "39663   36 months   10.91%     C        C3           RENT        Not Verified   \n",
       "39664   36 months    8.70%     B        B1           RENT        Not Verified   \n",
       "39665   36 months    7.43%     A        A2           RENT        Not Verified   \n",
       "\n",
       "      issue_d  loan_status pymnt_plan  \\\n",
       "0      Dec-11   Fully Paid          n   \n",
       "1      Dec-11  Charged Off          n   \n",
       "2      Dec-11   Fully Paid          n   \n",
       "3      Dec-11   Fully Paid          n   \n",
       "4      Dec-11      Current          n   \n",
       "...       ...          ...        ...   \n",
       "39661  Aug-07   Fully Paid          n   \n",
       "39662  Aug-07   Fully Paid          n   \n",
       "39663  Aug-07   Fully Paid          n   \n",
       "39664  Aug-07   Fully Paid          n   \n",
       "39665  Aug-07   Fully Paid          n   \n",
       "\n",
       "                                                     url           purpose  \\\n",
       "0      https://lendingclub.com/browse/loanDetail.acti...       credit_card   \n",
       "1      https://lendingclub.com/browse/loanDetail.acti...               car   \n",
       "2      https://lendingclub.com/browse/loanDetail.acti...    small_business   \n",
       "3      https://lendingclub.com/browse/loanDetail.acti...             other   \n",
       "4      https://lendingclub.com/browse/loanDetail.acti...             other   \n",
       "...                                                  ...               ...   \n",
       "39661  https://lendingclub.com/browse/loanDetail.acti...          vacation   \n",
       "39662  https://lendingclub.com/browse/loanDetail.acti...  home_improvement   \n",
       "39663  https://lendingclub.com/browse/loanDetail.acti...               car   \n",
       "39664  https://lendingclub.com/browse/loanDetail.acti...       credit_card   \n",
       "39665  https://lendingclub.com/browse/loanDetail.acti...       educational   \n",
       "\n",
       "                                       title zip_code addr_state  \\\n",
       "0                                   Computer    860xx         AZ   \n",
       "1                                       bike    309xx         GA   \n",
       "2                       real estate business    606xx         IL   \n",
       "3                                   personel    917xx         CA   \n",
       "4                                   Personal    972xx         OR   \n",
       "...                                      ...      ...        ...   \n",
       "39661                               Vacation    981xx         WA   \n",
       "39662                  landscape improvement    981xx         WA   \n",
       "39663                         Not so new car    232xx         VA   \n",
       "39664                   Zach's Pre-Blis Loan    100xx         NY   \n",
       "39665  Engineer seeks Environmental Training    080xx         NJ   \n",
       "\n",
       "      earliest_cr_line revol_util initial_list_status last_credit_pull_d  \\\n",
       "0               Jan-85     83.70%                   f             May-16   \n",
       "1               Apr-99      9.40%                   f             Sep-13   \n",
       "2               Nov-01     98.50%                   f             May-16   \n",
       "3               Feb-96        21%                   f             Apr-16   \n",
       "4               Jan-96     53.90%                   f             May-16   \n",
       "...                ...        ...                 ...                ...   \n",
       "39661           Sep-84      0.70%                   f             Aug-07   \n",
       "39662           Sep-84         1%                   f             Aug-07   \n",
       "39663           Aug-01     79.60%                   f             Jun-11   \n",
       "39664           Aug-00     19.80%                   f             Aug-10   \n",
       "39665           Nov-02        11%                   f             Apr-15   \n",
       "\n",
       "      application_type  \n",
       "0           INDIVIDUAL  \n",
       "1           INDIVIDUAL  \n",
       "2           INDIVIDUAL  \n",
       "3           INDIVIDUAL  \n",
       "4           INDIVIDUAL  \n",
       "...                ...  \n",
       "39661       INDIVIDUAL  \n",
       "39662       INDIVIDUAL  \n",
       "39663       INDIVIDUAL  \n",
       "39664       INDIVIDUAL  \n",
       "39665       INDIVIDUAL  \n",
       "\n",
       "[39531 rows x 19 columns]"
      ]
     },
     "execution_count": 59,
     "metadata": {},
     "output_type": "execute_result"
    }
   ],
   "source": [
    "df.select_dtypes('O') # O stands for object"
   ]
  },
  {
   "cell_type": "code",
   "execution_count": 60,
   "id": "ea212f9a",
   "metadata": {},
   "outputs": [
    {
     "data": {
      "text/plain": [
       "Index(['term', 'int_rate', 'grade', 'sub_grade', 'home_ownership',\n",
       "       'verification_status', 'issue_d', 'loan_status', 'pymnt_plan', 'url',\n",
       "       'purpose', 'title', 'zip_code', 'addr_state', 'earliest_cr_line',\n",
       "       'revol_util', 'initial_list_status', 'last_credit_pull_d',\n",
       "       'application_type'],\n",
       "      dtype='object')"
      ]
     },
     "execution_count": 60,
     "metadata": {},
     "output_type": "execute_result"
    }
   ],
   "source": [
    "df.select_dtypes('O').columns # All the columns for object datatype columns"
   ]
  },
  {
   "cell_type": "code",
   "execution_count": 61,
   "id": "67f0d24c",
   "metadata": {},
   "outputs": [
    {
     "name": "stdout",
     "output_type": "stream",
     "text": [
      "term:2\n",
      "int_rate:371\n",
      "grade:7\n",
      "sub_grade:35\n",
      "home_ownership:5\n",
      "verification_status:3\n",
      "issue_d:53\n",
      "loan_status:3\n",
      "pymnt_plan:1\n",
      "url:39531\n",
      "purpose:14\n",
      "title:19509\n",
      "zip_code:821\n",
      "addr_state:50\n",
      "earliest_cr_line:526\n",
      "revol_util:1089\n",
      "initial_list_status:1\n",
      "last_credit_pull_d:103\n",
      "application_type:1\n"
     ]
    }
   ],
   "source": [
    "for i in df.select_dtypes('O').columns:\n",
    "    print(f'{i}:{df[i].nunique()}')"
   ]
  },
  {
   "cell_type": "code",
   "execution_count": 62,
   "id": "10345710",
   "metadata": {},
   "outputs": [],
   "source": [
    "# Dropping columns with only 1 and many\n",
    "df.drop(['application_type','pymnt_plan','initial_list_status','url','title'],axis=1,inplace=True)"
   ]
  },
  {
   "cell_type": "code",
   "execution_count": 63,
   "id": "19fbf2ba",
   "metadata": {},
   "outputs": [
    {
     "data": {
      "text/plain": [
       "(39531, 49)"
      ]
     },
     "execution_count": 63,
     "metadata": {},
     "output_type": "execute_result"
    }
   ],
   "source": [
    "df.shape"
   ]
  },
  {
   "cell_type": "code",
   "execution_count": 64,
   "id": "f20bb14e",
   "metadata": {},
   "outputs": [
    {
     "name": "stdout",
     "output_type": "stream",
     "text": [
      "term:2\n",
      "int_rate:371\n",
      "grade:7\n",
      "sub_grade:35\n",
      "home_ownership:5\n",
      "verification_status:3\n",
      "issue_d:53\n",
      "loan_status:3\n",
      "purpose:14\n",
      "zip_code:821\n",
      "addr_state:50\n",
      "earliest_cr_line:526\n",
      "revol_util:1089\n",
      "last_credit_pull_d:103\n"
     ]
    }
   ],
   "source": [
    "for i in df.select_dtypes('O').columns:\n",
    "    print(f'{i}:{df[i].nunique()}')"
   ]
  },
  {
   "cell_type": "code",
   "execution_count": 65,
   "id": "ed9956a1",
   "metadata": {},
   "outputs": [
    {
     "data": {
      "text/plain": [
       "array([' 36 months', ' 60 months'], dtype=object)"
      ]
     },
     "execution_count": 65,
     "metadata": {},
     "output_type": "execute_result"
    }
   ],
   "source": [
    "df['term'].unique()"
   ]
  },
  {
   "cell_type": "code",
   "execution_count": 66,
   "id": "0fcbb410",
   "metadata": {},
   "outputs": [
    {
     "data": {
      "text/html": [
       "<div>\n",
       "<style scoped>\n",
       "    .dataframe tbody tr th:only-of-type {\n",
       "        vertical-align: middle;\n",
       "    }\n",
       "\n",
       "    .dataframe tbody tr th {\n",
       "        vertical-align: top;\n",
       "    }\n",
       "\n",
       "    .dataframe thead th {\n",
       "        text-align: right;\n",
       "    }\n",
       "</style>\n",
       "<table border=\"1\" class=\"dataframe\">\n",
       "  <thead>\n",
       "    <tr style=\"text-align: right;\">\n",
       "      <th></th>\n",
       "      <th>36 months</th>\n",
       "      <th>60 months</th>\n",
       "    </tr>\n",
       "  </thead>\n",
       "  <tbody>\n",
       "    <tr>\n",
       "      <th>0</th>\n",
       "      <td>1</td>\n",
       "      <td>0</td>\n",
       "    </tr>\n",
       "    <tr>\n",
       "      <th>1</th>\n",
       "      <td>0</td>\n",
       "      <td>1</td>\n",
       "    </tr>\n",
       "    <tr>\n",
       "      <th>2</th>\n",
       "      <td>1</td>\n",
       "      <td>0</td>\n",
       "    </tr>\n",
       "    <tr>\n",
       "      <th>3</th>\n",
       "      <td>1</td>\n",
       "      <td>0</td>\n",
       "    </tr>\n",
       "    <tr>\n",
       "      <th>4</th>\n",
       "      <td>0</td>\n",
       "      <td>1</td>\n",
       "    </tr>\n",
       "    <tr>\n",
       "      <th>...</th>\n",
       "      <td>...</td>\n",
       "      <td>...</td>\n",
       "    </tr>\n",
       "    <tr>\n",
       "      <th>39661</th>\n",
       "      <td>1</td>\n",
       "      <td>0</td>\n",
       "    </tr>\n",
       "    <tr>\n",
       "      <th>39662</th>\n",
       "      <td>1</td>\n",
       "      <td>0</td>\n",
       "    </tr>\n",
       "    <tr>\n",
       "      <th>39663</th>\n",
       "      <td>1</td>\n",
       "      <td>0</td>\n",
       "    </tr>\n",
       "    <tr>\n",
       "      <th>39664</th>\n",
       "      <td>1</td>\n",
       "      <td>0</td>\n",
       "    </tr>\n",
       "    <tr>\n",
       "      <th>39665</th>\n",
       "      <td>1</td>\n",
       "      <td>0</td>\n",
       "    </tr>\n",
       "  </tbody>\n",
       "</table>\n",
       "<p>39531 rows × 2 columns</p>\n",
       "</div>"
      ],
      "text/plain": [
       "        36 months   60 months\n",
       "0               1           0\n",
       "1               0           1\n",
       "2               1           0\n",
       "3               1           0\n",
       "4               0           1\n",
       "...           ...         ...\n",
       "39661           1           0\n",
       "39662           1           0\n",
       "39663           1           0\n",
       "39664           1           0\n",
       "39665           1           0\n",
       "\n",
       "[39531 rows x 2 columns]"
      ]
     },
     "execution_count": 66,
     "metadata": {},
     "output_type": "execute_result"
    }
   ],
   "source": [
    "# Convert the term to dummies in final process during ML\n",
    "#( Also known as one hot encoding => in which in a one row there is only 1 othe are 0)\n",
    "pd.get_dummies(df['term'])"
   ]
  },
  {
   "cell_type": "code",
   "execution_count": 67,
   "id": "5bd2fc26",
   "metadata": {},
   "outputs": [
    {
     "data": {
      "text/html": [
       "<div>\n",
       "<style scoped>\n",
       "    .dataframe tbody tr th:only-of-type {\n",
       "        vertical-align: middle;\n",
       "    }\n",
       "\n",
       "    .dataframe tbody tr th {\n",
       "        vertical-align: top;\n",
       "    }\n",
       "\n",
       "    .dataframe thead th {\n",
       "        text-align: right;\n",
       "    }\n",
       "</style>\n",
       "<table border=\"1\" class=\"dataframe\">\n",
       "  <thead>\n",
       "    <tr style=\"text-align: right;\">\n",
       "      <th></th>\n",
       "      <th>60 months</th>\n",
       "    </tr>\n",
       "  </thead>\n",
       "  <tbody>\n",
       "    <tr>\n",
       "      <th>0</th>\n",
       "      <td>0</td>\n",
       "    </tr>\n",
       "    <tr>\n",
       "      <th>1</th>\n",
       "      <td>1</td>\n",
       "    </tr>\n",
       "    <tr>\n",
       "      <th>2</th>\n",
       "      <td>0</td>\n",
       "    </tr>\n",
       "    <tr>\n",
       "      <th>3</th>\n",
       "      <td>0</td>\n",
       "    </tr>\n",
       "    <tr>\n",
       "      <th>4</th>\n",
       "      <td>1</td>\n",
       "    </tr>\n",
       "    <tr>\n",
       "      <th>...</th>\n",
       "      <td>...</td>\n",
       "    </tr>\n",
       "    <tr>\n",
       "      <th>39661</th>\n",
       "      <td>0</td>\n",
       "    </tr>\n",
       "    <tr>\n",
       "      <th>39662</th>\n",
       "      <td>0</td>\n",
       "    </tr>\n",
       "    <tr>\n",
       "      <th>39663</th>\n",
       "      <td>0</td>\n",
       "    </tr>\n",
       "    <tr>\n",
       "      <th>39664</th>\n",
       "      <td>0</td>\n",
       "    </tr>\n",
       "    <tr>\n",
       "      <th>39665</th>\n",
       "      <td>0</td>\n",
       "    </tr>\n",
       "  </tbody>\n",
       "</table>\n",
       "<p>39531 rows × 1 columns</p>\n",
       "</div>"
      ],
      "text/plain": [
       "        60 months\n",
       "0               0\n",
       "1               1\n",
       "2               0\n",
       "3               0\n",
       "4               1\n",
       "...           ...\n",
       "39661           0\n",
       "39662           0\n",
       "39663           0\n",
       "39664           0\n",
       "39665           0\n",
       "\n",
       "[39531 rows x 1 columns]"
      ]
     },
     "execution_count": 67,
     "metadata": {},
     "output_type": "execute_result"
    }
   ],
   "source": [
    "# as n categories in a column can be represented by n-1 dummy columns\n",
    "# we will drop the first dummy column normally\n",
    "pd.get_dummies(df['term'],drop_first=True)"
   ]
  },
  {
   "cell_type": "code",
   "execution_count": 68,
   "id": "d42cb07c",
   "metadata": {},
   "outputs": [
    {
     "data": {
      "text/html": [
       "<div>\n",
       "<style scoped>\n",
       "    .dataframe tbody tr th:only-of-type {\n",
       "        vertical-align: middle;\n",
       "    }\n",
       "\n",
       "    .dataframe tbody tr th {\n",
       "        vertical-align: top;\n",
       "    }\n",
       "\n",
       "    .dataframe thead th {\n",
       "        text-align: right;\n",
       "    }\n",
       "</style>\n",
       "<table border=\"1\" class=\"dataframe\">\n",
       "  <thead>\n",
       "    <tr style=\"text-align: right;\">\n",
       "      <th></th>\n",
       "      <th>60 months</th>\n",
       "    </tr>\n",
       "  </thead>\n",
       "  <tbody>\n",
       "    <tr>\n",
       "      <th>0</th>\n",
       "      <td>0</td>\n",
       "    </tr>\n",
       "    <tr>\n",
       "      <th>1</th>\n",
       "      <td>1</td>\n",
       "    </tr>\n",
       "    <tr>\n",
       "      <th>2</th>\n",
       "      <td>0</td>\n",
       "    </tr>\n",
       "    <tr>\n",
       "      <th>3</th>\n",
       "      <td>0</td>\n",
       "    </tr>\n",
       "    <tr>\n",
       "      <th>4</th>\n",
       "      <td>1</td>\n",
       "    </tr>\n",
       "  </tbody>\n",
       "</table>\n",
       "</div>"
      ],
      "text/plain": [
       "    60 months\n",
       "0           0\n",
       "1           1\n",
       "2           0\n",
       "3           0\n",
       "4           1"
      ]
     },
     "execution_count": 68,
     "metadata": {},
     "output_type": "execute_result"
    }
   ],
   "source": [
    "# Adding the dummy column to the actual data\n",
    "dummy_term=pd.get_dummies(df['term'],drop_first=True)\n",
    "dummy_term.head()"
   ]
  },
  {
   "cell_type": "code",
   "execution_count": 69,
   "id": "7079b229",
   "metadata": {},
   "outputs": [
    {
     "data": {
      "text/html": [
       "<div>\n",
       "<style scoped>\n",
       "    .dataframe tbody tr th:only-of-type {\n",
       "        vertical-align: middle;\n",
       "    }\n",
       "\n",
       "    .dataframe tbody tr th {\n",
       "        vertical-align: top;\n",
       "    }\n",
       "\n",
       "    .dataframe thead th {\n",
       "        text-align: right;\n",
       "    }\n",
       "</style>\n",
       "<table border=\"1\" class=\"dataframe\">\n",
       "  <thead>\n",
       "    <tr style=\"text-align: right;\">\n",
       "      <th></th>\n",
       "      <th>id</th>\n",
       "      <th>member_id</th>\n",
       "      <th>loan_amnt</th>\n",
       "      <th>funded_amnt</th>\n",
       "      <th>funded_amnt_inv</th>\n",
       "      <th>term</th>\n",
       "      <th>int_rate</th>\n",
       "      <th>installment</th>\n",
       "      <th>grade</th>\n",
       "      <th>sub_grade</th>\n",
       "      <th>...</th>\n",
       "      <th>last_pymnt_amnt</th>\n",
       "      <th>last_credit_pull_d</th>\n",
       "      <th>collections_12_mths_ex_med</th>\n",
       "      <th>policy_code</th>\n",
       "      <th>acc_now_delinq</th>\n",
       "      <th>chargeoff_within_12_mths</th>\n",
       "      <th>delinq_amnt</th>\n",
       "      <th>pub_rec_bankruptcies</th>\n",
       "      <th>tax_liens</th>\n",
       "      <th>60 months</th>\n",
       "    </tr>\n",
       "  </thead>\n",
       "  <tbody>\n",
       "    <tr>\n",
       "      <th>0</th>\n",
       "      <td>1077501</td>\n",
       "      <td>1296599</td>\n",
       "      <td>5000</td>\n",
       "      <td>5000</td>\n",
       "      <td>4975.0</td>\n",
       "      <td>36 months</td>\n",
       "      <td>10.65%</td>\n",
       "      <td>162.87</td>\n",
       "      <td>B</td>\n",
       "      <td>B2</td>\n",
       "      <td>...</td>\n",
       "      <td>171.62</td>\n",
       "      <td>May-16</td>\n",
       "      <td>0.0</td>\n",
       "      <td>1</td>\n",
       "      <td>0</td>\n",
       "      <td>0.0</td>\n",
       "      <td>0</td>\n",
       "      <td>0.0</td>\n",
       "      <td>0.0</td>\n",
       "      <td>0</td>\n",
       "    </tr>\n",
       "    <tr>\n",
       "      <th>1</th>\n",
       "      <td>1077430</td>\n",
       "      <td>1314167</td>\n",
       "      <td>2500</td>\n",
       "      <td>2500</td>\n",
       "      <td>2500.0</td>\n",
       "      <td>60 months</td>\n",
       "      <td>15.27%</td>\n",
       "      <td>59.83</td>\n",
       "      <td>C</td>\n",
       "      <td>C4</td>\n",
       "      <td>...</td>\n",
       "      <td>119.66</td>\n",
       "      <td>Sep-13</td>\n",
       "      <td>0.0</td>\n",
       "      <td>1</td>\n",
       "      <td>0</td>\n",
       "      <td>0.0</td>\n",
       "      <td>0</td>\n",
       "      <td>0.0</td>\n",
       "      <td>0.0</td>\n",
       "      <td>1</td>\n",
       "    </tr>\n",
       "    <tr>\n",
       "      <th>2</th>\n",
       "      <td>1077175</td>\n",
       "      <td>1313524</td>\n",
       "      <td>2400</td>\n",
       "      <td>2400</td>\n",
       "      <td>2400.0</td>\n",
       "      <td>36 months</td>\n",
       "      <td>15.96%</td>\n",
       "      <td>84.33</td>\n",
       "      <td>C</td>\n",
       "      <td>C5</td>\n",
       "      <td>...</td>\n",
       "      <td>649.91</td>\n",
       "      <td>May-16</td>\n",
       "      <td>0.0</td>\n",
       "      <td>1</td>\n",
       "      <td>0</td>\n",
       "      <td>0.0</td>\n",
       "      <td>0</td>\n",
       "      <td>0.0</td>\n",
       "      <td>0.0</td>\n",
       "      <td>0</td>\n",
       "    </tr>\n",
       "    <tr>\n",
       "      <th>3</th>\n",
       "      <td>1076863</td>\n",
       "      <td>1277178</td>\n",
       "      <td>10000</td>\n",
       "      <td>10000</td>\n",
       "      <td>10000.0</td>\n",
       "      <td>36 months</td>\n",
       "      <td>13.49%</td>\n",
       "      <td>339.31</td>\n",
       "      <td>C</td>\n",
       "      <td>C1</td>\n",
       "      <td>...</td>\n",
       "      <td>357.48</td>\n",
       "      <td>Apr-16</td>\n",
       "      <td>0.0</td>\n",
       "      <td>1</td>\n",
       "      <td>0</td>\n",
       "      <td>0.0</td>\n",
       "      <td>0</td>\n",
       "      <td>0.0</td>\n",
       "      <td>0.0</td>\n",
       "      <td>0</td>\n",
       "    </tr>\n",
       "    <tr>\n",
       "      <th>4</th>\n",
       "      <td>1075358</td>\n",
       "      <td>1311748</td>\n",
       "      <td>3000</td>\n",
       "      <td>3000</td>\n",
       "      <td>3000.0</td>\n",
       "      <td>60 months</td>\n",
       "      <td>12.69%</td>\n",
       "      <td>67.79</td>\n",
       "      <td>B</td>\n",
       "      <td>B5</td>\n",
       "      <td>...</td>\n",
       "      <td>67.79</td>\n",
       "      <td>May-16</td>\n",
       "      <td>0.0</td>\n",
       "      <td>1</td>\n",
       "      <td>0</td>\n",
       "      <td>0.0</td>\n",
       "      <td>0</td>\n",
       "      <td>0.0</td>\n",
       "      <td>0.0</td>\n",
       "      <td>1</td>\n",
       "    </tr>\n",
       "  </tbody>\n",
       "</table>\n",
       "<p>5 rows × 50 columns</p>\n",
       "</div>"
      ],
      "text/plain": [
       "        id  member_id  loan_amnt  funded_amnt  funded_amnt_inv        term  \\\n",
       "0  1077501    1296599       5000         5000           4975.0   36 months   \n",
       "1  1077430    1314167       2500         2500           2500.0   60 months   \n",
       "2  1077175    1313524       2400         2400           2400.0   36 months   \n",
       "3  1076863    1277178      10000        10000          10000.0   36 months   \n",
       "4  1075358    1311748       3000         3000           3000.0   60 months   \n",
       "\n",
       "  int_rate  installment grade sub_grade  ...  last_pymnt_amnt  \\\n",
       "0   10.65%       162.87     B        B2  ...           171.62   \n",
       "1   15.27%        59.83     C        C4  ...           119.66   \n",
       "2   15.96%        84.33     C        C5  ...           649.91   \n",
       "3   13.49%       339.31     C        C1  ...           357.48   \n",
       "4   12.69%        67.79     B        B5  ...            67.79   \n",
       "\n",
       "  last_credit_pull_d  collections_12_mths_ex_med policy_code acc_now_delinq  \\\n",
       "0             May-16                         0.0           1              0   \n",
       "1             Sep-13                         0.0           1              0   \n",
       "2             May-16                         0.0           1              0   \n",
       "3             Apr-16                         0.0           1              0   \n",
       "4             May-16                         0.0           1              0   \n",
       "\n",
       "  chargeoff_within_12_mths delinq_amnt pub_rec_bankruptcies tax_liens  \\\n",
       "0                      0.0           0                  0.0       0.0   \n",
       "1                      0.0           0                  0.0       0.0   \n",
       "2                      0.0           0                  0.0       0.0   \n",
       "3                      0.0           0                  0.0       0.0   \n",
       "4                      0.0           0                  0.0       0.0   \n",
       "\n",
       "    60 months  \n",
       "0           0  \n",
       "1           1  \n",
       "2           0  \n",
       "3           0  \n",
       "4           1  \n",
       "\n",
       "[5 rows x 50 columns]"
      ]
     },
     "execution_count": 69,
     "metadata": {},
     "output_type": "execute_result"
    }
   ],
   "source": [
    "df=pd.concat([df,dummy_term],axis=1)\n",
    "df.head()"
   ]
  },
  {
   "cell_type": "code",
   "execution_count": 70,
   "id": "2d5f2125",
   "metadata": {},
   "outputs": [
    {
     "data": {
      "text/plain": [
       "array(['Verified', 'Source Verified', 'Not Verified'], dtype=object)"
      ]
     },
     "execution_count": 70,
     "metadata": {},
     "output_type": "execute_result"
    }
   ],
   "source": [
    "df['verification_status'].unique()"
   ]
  },
  {
   "cell_type": "code",
   "execution_count": 71,
   "id": "22dc9599",
   "metadata": {},
   "outputs": [
    {
     "data": {
      "text/html": [
       "<div>\n",
       "<style scoped>\n",
       "    .dataframe tbody tr th:only-of-type {\n",
       "        vertical-align: middle;\n",
       "    }\n",
       "\n",
       "    .dataframe tbody tr th {\n",
       "        vertical-align: top;\n",
       "    }\n",
       "\n",
       "    .dataframe thead th {\n",
       "        text-align: right;\n",
       "    }\n",
       "</style>\n",
       "<table border=\"1\" class=\"dataframe\">\n",
       "  <thead>\n",
       "    <tr style=\"text-align: right;\">\n",
       "      <th></th>\n",
       "      <th>Not Verified</th>\n",
       "      <th>Source Verified</th>\n",
       "      <th>Verified</th>\n",
       "    </tr>\n",
       "  </thead>\n",
       "  <tbody>\n",
       "    <tr>\n",
       "      <th>0</th>\n",
       "      <td>0</td>\n",
       "      <td>0</td>\n",
       "      <td>1</td>\n",
       "    </tr>\n",
       "    <tr>\n",
       "      <th>1</th>\n",
       "      <td>0</td>\n",
       "      <td>1</td>\n",
       "      <td>0</td>\n",
       "    </tr>\n",
       "    <tr>\n",
       "      <th>2</th>\n",
       "      <td>1</td>\n",
       "      <td>0</td>\n",
       "      <td>0</td>\n",
       "    </tr>\n",
       "    <tr>\n",
       "      <th>3</th>\n",
       "      <td>0</td>\n",
       "      <td>1</td>\n",
       "      <td>0</td>\n",
       "    </tr>\n",
       "    <tr>\n",
       "      <th>4</th>\n",
       "      <td>0</td>\n",
       "      <td>1</td>\n",
       "      <td>0</td>\n",
       "    </tr>\n",
       "    <tr>\n",
       "      <th>...</th>\n",
       "      <td>...</td>\n",
       "      <td>...</td>\n",
       "      <td>...</td>\n",
       "    </tr>\n",
       "    <tr>\n",
       "      <th>39661</th>\n",
       "      <td>1</td>\n",
       "      <td>0</td>\n",
       "      <td>0</td>\n",
       "    </tr>\n",
       "    <tr>\n",
       "      <th>39662</th>\n",
       "      <td>1</td>\n",
       "      <td>0</td>\n",
       "      <td>0</td>\n",
       "    </tr>\n",
       "    <tr>\n",
       "      <th>39663</th>\n",
       "      <td>1</td>\n",
       "      <td>0</td>\n",
       "      <td>0</td>\n",
       "    </tr>\n",
       "    <tr>\n",
       "      <th>39664</th>\n",
       "      <td>1</td>\n",
       "      <td>0</td>\n",
       "      <td>0</td>\n",
       "    </tr>\n",
       "    <tr>\n",
       "      <th>39665</th>\n",
       "      <td>1</td>\n",
       "      <td>0</td>\n",
       "      <td>0</td>\n",
       "    </tr>\n",
       "  </tbody>\n",
       "</table>\n",
       "<p>39531 rows × 3 columns</p>\n",
       "</div>"
      ],
      "text/plain": [
       "       Not Verified  Source Verified  Verified\n",
       "0                 0                0         1\n",
       "1                 0                1         0\n",
       "2                 1                0         0\n",
       "3                 0                1         0\n",
       "4                 0                1         0\n",
       "...             ...              ...       ...\n",
       "39661             1                0         0\n",
       "39662             1                0         0\n",
       "39663             1                0         0\n",
       "39664             1                0         0\n",
       "39665             1                0         0\n",
       "\n",
       "[39531 rows x 3 columns]"
      ]
     },
     "execution_count": 71,
     "metadata": {},
     "output_type": "execute_result"
    }
   ],
   "source": [
    "pd.get_dummies(df['verification_status'])"
   ]
  },
  {
   "cell_type": "code",
   "execution_count": 72,
   "id": "e2ffe68d",
   "metadata": {},
   "outputs": [
    {
     "data": {
      "text/html": [
       "<div>\n",
       "<style scoped>\n",
       "    .dataframe tbody tr th:only-of-type {\n",
       "        vertical-align: middle;\n",
       "    }\n",
       "\n",
       "    .dataframe tbody tr th {\n",
       "        vertical-align: top;\n",
       "    }\n",
       "\n",
       "    .dataframe thead th {\n",
       "        text-align: right;\n",
       "    }\n",
       "</style>\n",
       "<table border=\"1\" class=\"dataframe\">\n",
       "  <thead>\n",
       "    <tr style=\"text-align: right;\">\n",
       "      <th></th>\n",
       "      <th>Source Verified</th>\n",
       "      <th>Verified</th>\n",
       "    </tr>\n",
       "  </thead>\n",
       "  <tbody>\n",
       "    <tr>\n",
       "      <th>0</th>\n",
       "      <td>0</td>\n",
       "      <td>1</td>\n",
       "    </tr>\n",
       "    <tr>\n",
       "      <th>1</th>\n",
       "      <td>1</td>\n",
       "      <td>0</td>\n",
       "    </tr>\n",
       "    <tr>\n",
       "      <th>2</th>\n",
       "      <td>0</td>\n",
       "      <td>0</td>\n",
       "    </tr>\n",
       "    <tr>\n",
       "      <th>3</th>\n",
       "      <td>1</td>\n",
       "      <td>0</td>\n",
       "    </tr>\n",
       "    <tr>\n",
       "      <th>4</th>\n",
       "      <td>1</td>\n",
       "      <td>0</td>\n",
       "    </tr>\n",
       "  </tbody>\n",
       "</table>\n",
       "</div>"
      ],
      "text/plain": [
       "   Source Verified  Verified\n",
       "0                0         1\n",
       "1                1         0\n",
       "2                0         0\n",
       "3                1         0\n",
       "4                1         0"
      ]
     },
     "execution_count": 72,
     "metadata": {},
     "output_type": "execute_result"
    }
   ],
   "source": [
    "dummy_status=pd.get_dummies(df['verification_status'],drop_first=True)\n",
    "dummy_status.head()"
   ]
  },
  {
   "cell_type": "code",
   "execution_count": 73,
   "id": "b5e7634f",
   "metadata": {},
   "outputs": [
    {
     "data": {
      "text/html": [
       "<div>\n",
       "<style scoped>\n",
       "    .dataframe tbody tr th:only-of-type {\n",
       "        vertical-align: middle;\n",
       "    }\n",
       "\n",
       "    .dataframe tbody tr th {\n",
       "        vertical-align: top;\n",
       "    }\n",
       "\n",
       "    .dataframe thead th {\n",
       "        text-align: right;\n",
       "    }\n",
       "</style>\n",
       "<table border=\"1\" class=\"dataframe\">\n",
       "  <thead>\n",
       "    <tr style=\"text-align: right;\">\n",
       "      <th></th>\n",
       "      <th>id</th>\n",
       "      <th>member_id</th>\n",
       "      <th>loan_amnt</th>\n",
       "      <th>funded_amnt</th>\n",
       "      <th>funded_amnt_inv</th>\n",
       "      <th>term</th>\n",
       "      <th>int_rate</th>\n",
       "      <th>installment</th>\n",
       "      <th>grade</th>\n",
       "      <th>sub_grade</th>\n",
       "      <th>...</th>\n",
       "      <th>collections_12_mths_ex_med</th>\n",
       "      <th>policy_code</th>\n",
       "      <th>acc_now_delinq</th>\n",
       "      <th>chargeoff_within_12_mths</th>\n",
       "      <th>delinq_amnt</th>\n",
       "      <th>pub_rec_bankruptcies</th>\n",
       "      <th>tax_liens</th>\n",
       "      <th>60 months</th>\n",
       "      <th>Source Verified</th>\n",
       "      <th>Verified</th>\n",
       "    </tr>\n",
       "  </thead>\n",
       "  <tbody>\n",
       "    <tr>\n",
       "      <th>0</th>\n",
       "      <td>1077501</td>\n",
       "      <td>1296599</td>\n",
       "      <td>5000</td>\n",
       "      <td>5000</td>\n",
       "      <td>4975.0</td>\n",
       "      <td>36 months</td>\n",
       "      <td>10.65%</td>\n",
       "      <td>162.87</td>\n",
       "      <td>B</td>\n",
       "      <td>B2</td>\n",
       "      <td>...</td>\n",
       "      <td>0.0</td>\n",
       "      <td>1</td>\n",
       "      <td>0</td>\n",
       "      <td>0.0</td>\n",
       "      <td>0</td>\n",
       "      <td>0.0</td>\n",
       "      <td>0.0</td>\n",
       "      <td>0</td>\n",
       "      <td>0</td>\n",
       "      <td>1</td>\n",
       "    </tr>\n",
       "    <tr>\n",
       "      <th>1</th>\n",
       "      <td>1077430</td>\n",
       "      <td>1314167</td>\n",
       "      <td>2500</td>\n",
       "      <td>2500</td>\n",
       "      <td>2500.0</td>\n",
       "      <td>60 months</td>\n",
       "      <td>15.27%</td>\n",
       "      <td>59.83</td>\n",
       "      <td>C</td>\n",
       "      <td>C4</td>\n",
       "      <td>...</td>\n",
       "      <td>0.0</td>\n",
       "      <td>1</td>\n",
       "      <td>0</td>\n",
       "      <td>0.0</td>\n",
       "      <td>0</td>\n",
       "      <td>0.0</td>\n",
       "      <td>0.0</td>\n",
       "      <td>1</td>\n",
       "      <td>1</td>\n",
       "      <td>0</td>\n",
       "    </tr>\n",
       "    <tr>\n",
       "      <th>2</th>\n",
       "      <td>1077175</td>\n",
       "      <td>1313524</td>\n",
       "      <td>2400</td>\n",
       "      <td>2400</td>\n",
       "      <td>2400.0</td>\n",
       "      <td>36 months</td>\n",
       "      <td>15.96%</td>\n",
       "      <td>84.33</td>\n",
       "      <td>C</td>\n",
       "      <td>C5</td>\n",
       "      <td>...</td>\n",
       "      <td>0.0</td>\n",
       "      <td>1</td>\n",
       "      <td>0</td>\n",
       "      <td>0.0</td>\n",
       "      <td>0</td>\n",
       "      <td>0.0</td>\n",
       "      <td>0.0</td>\n",
       "      <td>0</td>\n",
       "      <td>0</td>\n",
       "      <td>0</td>\n",
       "    </tr>\n",
       "    <tr>\n",
       "      <th>3</th>\n",
       "      <td>1076863</td>\n",
       "      <td>1277178</td>\n",
       "      <td>10000</td>\n",
       "      <td>10000</td>\n",
       "      <td>10000.0</td>\n",
       "      <td>36 months</td>\n",
       "      <td>13.49%</td>\n",
       "      <td>339.31</td>\n",
       "      <td>C</td>\n",
       "      <td>C1</td>\n",
       "      <td>...</td>\n",
       "      <td>0.0</td>\n",
       "      <td>1</td>\n",
       "      <td>0</td>\n",
       "      <td>0.0</td>\n",
       "      <td>0</td>\n",
       "      <td>0.0</td>\n",
       "      <td>0.0</td>\n",
       "      <td>0</td>\n",
       "      <td>1</td>\n",
       "      <td>0</td>\n",
       "    </tr>\n",
       "    <tr>\n",
       "      <th>4</th>\n",
       "      <td>1075358</td>\n",
       "      <td>1311748</td>\n",
       "      <td>3000</td>\n",
       "      <td>3000</td>\n",
       "      <td>3000.0</td>\n",
       "      <td>60 months</td>\n",
       "      <td>12.69%</td>\n",
       "      <td>67.79</td>\n",
       "      <td>B</td>\n",
       "      <td>B5</td>\n",
       "      <td>...</td>\n",
       "      <td>0.0</td>\n",
       "      <td>1</td>\n",
       "      <td>0</td>\n",
       "      <td>0.0</td>\n",
       "      <td>0</td>\n",
       "      <td>0.0</td>\n",
       "      <td>0.0</td>\n",
       "      <td>1</td>\n",
       "      <td>1</td>\n",
       "      <td>0</td>\n",
       "    </tr>\n",
       "  </tbody>\n",
       "</table>\n",
       "<p>5 rows × 52 columns</p>\n",
       "</div>"
      ],
      "text/plain": [
       "        id  member_id  loan_amnt  funded_amnt  funded_amnt_inv        term  \\\n",
       "0  1077501    1296599       5000         5000           4975.0   36 months   \n",
       "1  1077430    1314167       2500         2500           2500.0   60 months   \n",
       "2  1077175    1313524       2400         2400           2400.0   36 months   \n",
       "3  1076863    1277178      10000        10000          10000.0   36 months   \n",
       "4  1075358    1311748       3000         3000           3000.0   60 months   \n",
       "\n",
       "  int_rate  installment grade sub_grade  ...  collections_12_mths_ex_med  \\\n",
       "0   10.65%       162.87     B        B2  ...                         0.0   \n",
       "1   15.27%        59.83     C        C4  ...                         0.0   \n",
       "2   15.96%        84.33     C        C5  ...                         0.0   \n",
       "3   13.49%       339.31     C        C1  ...                         0.0   \n",
       "4   12.69%        67.79     B        B5  ...                         0.0   \n",
       "\n",
       "  policy_code  acc_now_delinq chargeoff_within_12_mths delinq_amnt  \\\n",
       "0           1               0                      0.0           0   \n",
       "1           1               0                      0.0           0   \n",
       "2           1               0                      0.0           0   \n",
       "3           1               0                      0.0           0   \n",
       "4           1               0                      0.0           0   \n",
       "\n",
       "  pub_rec_bankruptcies tax_liens  60 months Source Verified  Verified  \n",
       "0                  0.0       0.0          0               0         1  \n",
       "1                  0.0       0.0          1               1         0  \n",
       "2                  0.0       0.0          0               0         0  \n",
       "3                  0.0       0.0          0               1         0  \n",
       "4                  0.0       0.0          1               1         0  \n",
       "\n",
       "[5 rows x 52 columns]"
      ]
     },
     "execution_count": 73,
     "metadata": {},
     "output_type": "execute_result"
    }
   ],
   "source": [
    "df=pd.concat([df,dummy_status],axis=1)\n",
    "df.head()"
   ]
  },
  {
   "cell_type": "code",
   "execution_count": 74,
   "id": "708c4132",
   "metadata": {},
   "outputs": [],
   "source": [
    "# We will not append all the dummy column now as we need to do it after EDA\n",
    "# While doing modelling"
   ]
  },
  {
   "cell_type": "code",
   "execution_count": 75,
   "id": "ea3f9a18",
   "metadata": {},
   "outputs": [
    {
     "data": {
      "text/plain": [
       "array(['10.65%', '15.27%', '15.96%', '13.49%', '12.69%', '7.90%',\n",
       "       '18.64%', '21.28%', '14.65%', '9.91%', '16.29%', '6.03%', '11.71%',\n",
       "       '12.42%', '16.77%', '7.51%', '8.90%', '18.25%', '6.62%', '19.91%',\n",
       "       '17.27%', '14.27%', '17.58%', '21.67%', '19.42%', '22.06%',\n",
       "       '20.89%', '20.30%', '23.91%', '19.03%', '23.52%', '23.13%',\n",
       "       '22.74%', '22.35%', '24.11%', '6.00%', '22.11%', '7.49%', '11.99%',\n",
       "       '5.99%', '10.99%', '9.99%', '18.79%', '11.49%', '8.49%', '15.99%',\n",
       "       '16.49%', '6.99%', '12.99%', '15.23%', '14.79%', '5.42%', '10.59%',\n",
       "       '17.49%', '15.62%', '21.36%', '19.29%', '13.99%', '18.39%',\n",
       "       '16.89%', '17.99%', '20.62%', '20.99%', '22.85%', '19.69%',\n",
       "       '20.25%', '23.22%', '21.74%', '22.48%', '23.59%', '12.62%',\n",
       "       '18.07%', '11.63%', '7.91%', '7.42%', '11.14%', '20.20%', '12.12%',\n",
       "       '19.39%', '16.11%', '17.54%', '22.64%', '13.84%', '16.59%',\n",
       "       '17.19%', '12.87%', '20.69%', '9.67%', '21.82%', '19.79%',\n",
       "       '18.49%', '22.94%', '24.59%', '24.40%', '21.48%', '14.82%',\n",
       "       '14.17%', '7.29%', '17.88%', '20.11%', '16.02%', '17.51%',\n",
       "       '13.43%', '14.91%', '13.06%', '15.28%', '15.65%', '17.14%',\n",
       "       '11.11%', '10.37%', '16.40%', '7.66%', '10.00%', '18.62%',\n",
       "       '10.74%', '5.79%', '6.92%', '9.63%', '14.54%', '12.68%', '19.36%',\n",
       "       '13.80%', '18.99%', '21.59%', '20.85%', '21.22%', '19.74%',\n",
       "       '20.48%', '6.91%', '12.23%', '12.61%', '10.36%', '6.17%', '6.54%',\n",
       "       '9.25%', '16.69%', '15.95%', '8.88%', '13.35%', '9.62%', '16.32%',\n",
       "       '12.98%', '14.83%', '13.72%', '14.09%', '14.46%', '20.03%',\n",
       "       '17.80%', '15.20%', '15.57%', '18.54%', '19.66%', '17.06%',\n",
       "       '18.17%', '17.43%', '20.40%', '20.77%', '18.91%', '21.14%',\n",
       "       '17.44%', '13.23%', '7.88%', '11.12%', '13.61%', '10.38%',\n",
       "       '17.56%', '17.93%', '15.58%', '13.98%', '14.84%', '15.21%',\n",
       "       '6.76%', '6.39%', '11.86%', '7.14%', '14.35%', '16.82%', '10.75%',\n",
       "       '14.72%', '16.45%', '18.67%', '20.53%', '19.41%', '20.16%',\n",
       "       '21.27%', '18.30%', '19.04%', '20.90%', '21.64%', '12.73%',\n",
       "       '10.25%', '13.11%', '10.62%', '13.48%', '14.59%', '16.07%',\n",
       "       '15.70%', '9.88%', '11.36%', '15.33%', '13.85%', '14.96%',\n",
       "       '14.22%', '7.74%', '13.22%', '13.57%', '8.59%', '17.04%', '14.61%',\n",
       "       '8.94%', '12.18%', '11.83%', '11.48%', '16.35%', '13.92%',\n",
       "       '15.31%', '14.26%', '19.13%', '12.53%', '16.70%', '16.00%',\n",
       "       '17.39%', '18.09%', '7.40%', '18.43%', '17.74%', '7.05%', '20.52%',\n",
       "       '20.86%', '19.47%', '18.78%', '21.21%', '19.82%', '20.17%',\n",
       "       '13.16%', '8.00%', '13.47%', '12.21%', '16.63%', '9.32%', '12.84%',\n",
       "       '11.26%', '15.68%', '15.37%', '10.95%', '11.89%', '14.11%',\n",
       "       '13.79%', '7.68%', '11.58%', '7.37%', '16.95%', '15.05%', '18.53%',\n",
       "       '14.74%', '14.42%', '18.21%', '17.26%', '18.84%', '17.90%',\n",
       "       '19.16%', '13.67%', '9.38%', '12.72%', '13.36%', '11.46%',\n",
       "       '10.51%', '9.07%', '13.04%', '11.78%', '12.41%', '10.83%',\n",
       "       '12.09%', '17.46%', '14.30%', '17.15%', '15.25%', '10.20%',\n",
       "       '15.88%', '14.93%', '16.20%', '18.72%', '14.62%', '8.32%',\n",
       "       '14.12%', '10.96%', '10.33%', '10.01%', '12.86%', '11.28%',\n",
       "       '11.59%', '8.63%', '12.54%', '12.22%', '11.91%', '15.38%',\n",
       "       '16.96%', '13.17%', '9.70%', '16.33%', '14.75%', '15.07%',\n",
       "       '16.01%', '10.71%', '10.64%', '9.76%', '11.34%', '10.39%',\n",
       "       '13.87%', '11.03%', '11.66%', '13.24%', '10.08%', '9.45%',\n",
       "       '13.55%', '12.29%', '11.97%', '12.92%', '15.45%', '14.50%',\n",
       "       '14.18%', '15.13%', '16.08%', '15.76%', '17.03%', '17.34%',\n",
       "       '16.71%', '9.83%', '13.62%', '10.46%', '9.51%', '9.20%', '13.30%',\n",
       "       '10.78%', '7.75%', '8.38%', '12.36%', '12.67%', '11.72%', '13.93%',\n",
       "       '8.07%', '7.43%', '12.04%', '14.25%', '14.88%', '11.41%', '11.09%',\n",
       "       '10.14%', '16.15%', '15.83%', '7.12%', '18.36%', '9.64%', '9.96%',\n",
       "       '11.22%', '9.01%', '9.33%', '11.54%', '12.17%', '12.80%', '14.38%',\n",
       "       '13.75%', '14.70%', '12.49%', '14.07%', '10.91%', '13.12%',\n",
       "       '10.28%', '8.70%', '14.67%', '15.01%'], dtype=object)"
      ]
     },
     "execution_count": 75,
     "metadata": {},
     "output_type": "execute_result"
    }
   ],
   "source": [
    "df['int_rate'].unique()# Number is stored as string along with % sign"
   ]
  },
  {
   "cell_type": "code",
   "execution_count": 76,
   "id": "491ad90e",
   "metadata": {},
   "outputs": [
    {
     "data": {
      "text/plain": [
       "['10', '5']"
      ]
     },
     "execution_count": 76,
     "metadata": {},
     "output_type": "execute_result"
    }
   ],
   "source": [
    "re.findall('\\d+','10.5%')"
   ]
  },
  {
   "cell_type": "code",
   "execution_count": 77,
   "id": "b73bf33f",
   "metadata": {},
   "outputs": [
    {
     "data": {
      "text/plain": [
       "['1', '0', '.', '5']"
      ]
     },
     "execution_count": 77,
     "metadata": {},
     "output_type": "execute_result"
    }
   ],
   "source": [
    "re.findall('[0-9.]','10.5') # find individual character we added . as it contains decimal"
   ]
  },
  {
   "cell_type": "code",
   "execution_count": 78,
   "id": "09ab0621",
   "metadata": {},
   "outputs": [
    {
     "data": {
      "text/plain": [
       "['10.5']"
      ]
     },
     "execution_count": 78,
     "metadata": {},
     "output_type": "execute_result"
    }
   ],
   "source": [
    "re.findall('[0-9.]+','10.5%') # +sign to include the group"
   ]
  },
  {
   "cell_type": "code",
   "execution_count": 79,
   "id": "435b1c23",
   "metadata": {},
   "outputs": [],
   "source": [
    "df['int_rate']=df['int_rate'].apply(lambda x : float(re.findall('[0-9.]+',x)[0]))"
   ]
  },
  {
   "cell_type": "code",
   "execution_count": 80,
   "id": "ee3d70b5",
   "metadata": {},
   "outputs": [
    {
     "data": {
      "text/html": [
       "<div>\n",
       "<style scoped>\n",
       "    .dataframe tbody tr th:only-of-type {\n",
       "        vertical-align: middle;\n",
       "    }\n",
       "\n",
       "    .dataframe tbody tr th {\n",
       "        vertical-align: top;\n",
       "    }\n",
       "\n",
       "    .dataframe thead th {\n",
       "        text-align: right;\n",
       "    }\n",
       "</style>\n",
       "<table border=\"1\" class=\"dataframe\">\n",
       "  <thead>\n",
       "    <tr style=\"text-align: right;\">\n",
       "      <th></th>\n",
       "      <th>int_rate</th>\n",
       "    </tr>\n",
       "  </thead>\n",
       "  <tbody>\n",
       "    <tr>\n",
       "      <th>0</th>\n",
       "      <td>10.65</td>\n",
       "    </tr>\n",
       "    <tr>\n",
       "      <th>1</th>\n",
       "      <td>15.27</td>\n",
       "    </tr>\n",
       "    <tr>\n",
       "      <th>2</th>\n",
       "      <td>15.96</td>\n",
       "    </tr>\n",
       "    <tr>\n",
       "      <th>3</th>\n",
       "      <td>13.49</td>\n",
       "    </tr>\n",
       "    <tr>\n",
       "      <th>4</th>\n",
       "      <td>12.69</td>\n",
       "    </tr>\n",
       "  </tbody>\n",
       "</table>\n",
       "</div>"
      ],
      "text/plain": [
       "   int_rate\n",
       "0     10.65\n",
       "1     15.27\n",
       "2     15.96\n",
       "3     13.49\n",
       "4     12.69"
      ]
     },
     "execution_count": 80,
     "metadata": {},
     "output_type": "execute_result"
    }
   ],
   "source": [
    "df[['int_rate']].head()"
   ]
  },
  {
   "cell_type": "code",
   "execution_count": 81,
   "id": "64d09106",
   "metadata": {},
   "outputs": [
    {
     "data": {
      "text/plain": [
       "array(['B', 'C', 'A', 'E', 'F', 'D', 'G'], dtype=object)"
      ]
     },
     "execution_count": 81,
     "metadata": {},
     "output_type": "execute_result"
    }
   ],
   "source": [
    "df['grade'].unique()#we can convert it to dummies"
   ]
  },
  {
   "cell_type": "code",
   "execution_count": 82,
   "id": "32f5c464",
   "metadata": {},
   "outputs": [
    {
     "data": {
      "text/plain": [
       "array(['B2', 'C4', 'C5', 'C1', 'B5', 'A4', 'E1', 'F2', 'C3', 'B1', 'D1',\n",
       "       'A1', 'B3', 'B4', 'D2', 'A3', 'A5', 'D5', 'A2', 'E4', 'D3', 'C2',\n",
       "       'D4', 'F3', 'E3', 'F4', 'F1', 'E5', 'G4', 'E2', 'G3', 'G2', 'G1',\n",
       "       'F5', 'G5'], dtype=object)"
      ]
     },
     "execution_count": 82,
     "metadata": {},
     "output_type": "execute_result"
    }
   ],
   "source": [
    "df['sub_grade'].unique() # we can convert it to dummies"
   ]
  },
  {
   "cell_type": "code",
   "execution_count": 83,
   "id": "6f9cec9b",
   "metadata": {},
   "outputs": [
    {
     "data": {
      "text/plain": [
       "2"
      ]
     },
     "execution_count": 83,
     "metadata": {},
     "output_type": "execute_result"
    }
   ],
   "source": [
    "int('B2'[-1])"
   ]
  },
  {
   "cell_type": "code",
   "execution_count": 84,
   "id": "4488a88c",
   "metadata": {},
   "outputs": [],
   "source": [
    "df['sub_grade']=df['sub_grade'].apply(lambda x:int(x[-1]))"
   ]
  },
  {
   "cell_type": "code",
   "execution_count": 85,
   "id": "ddff3877",
   "metadata": {},
   "outputs": [
    {
     "data": {
      "text/html": [
       "<div>\n",
       "<style scoped>\n",
       "    .dataframe tbody tr th:only-of-type {\n",
       "        vertical-align: middle;\n",
       "    }\n",
       "\n",
       "    .dataframe tbody tr th {\n",
       "        vertical-align: top;\n",
       "    }\n",
       "\n",
       "    .dataframe thead th {\n",
       "        text-align: right;\n",
       "    }\n",
       "</style>\n",
       "<table border=\"1\" class=\"dataframe\">\n",
       "  <thead>\n",
       "    <tr style=\"text-align: right;\">\n",
       "      <th></th>\n",
       "      <th>id</th>\n",
       "      <th>member_id</th>\n",
       "      <th>loan_amnt</th>\n",
       "      <th>funded_amnt</th>\n",
       "      <th>funded_amnt_inv</th>\n",
       "      <th>term</th>\n",
       "      <th>int_rate</th>\n",
       "      <th>installment</th>\n",
       "      <th>grade</th>\n",
       "      <th>sub_grade</th>\n",
       "      <th>...</th>\n",
       "      <th>collections_12_mths_ex_med</th>\n",
       "      <th>policy_code</th>\n",
       "      <th>acc_now_delinq</th>\n",
       "      <th>chargeoff_within_12_mths</th>\n",
       "      <th>delinq_amnt</th>\n",
       "      <th>pub_rec_bankruptcies</th>\n",
       "      <th>tax_liens</th>\n",
       "      <th>60 months</th>\n",
       "      <th>Source Verified</th>\n",
       "      <th>Verified</th>\n",
       "    </tr>\n",
       "  </thead>\n",
       "  <tbody>\n",
       "    <tr>\n",
       "      <th>0</th>\n",
       "      <td>1077501</td>\n",
       "      <td>1296599</td>\n",
       "      <td>5000</td>\n",
       "      <td>5000</td>\n",
       "      <td>4975.0</td>\n",
       "      <td>36 months</td>\n",
       "      <td>10.65</td>\n",
       "      <td>162.87</td>\n",
       "      <td>B</td>\n",
       "      <td>2</td>\n",
       "      <td>...</td>\n",
       "      <td>0.0</td>\n",
       "      <td>1</td>\n",
       "      <td>0</td>\n",
       "      <td>0.0</td>\n",
       "      <td>0</td>\n",
       "      <td>0.0</td>\n",
       "      <td>0.0</td>\n",
       "      <td>0</td>\n",
       "      <td>0</td>\n",
       "      <td>1</td>\n",
       "    </tr>\n",
       "    <tr>\n",
       "      <th>1</th>\n",
       "      <td>1077430</td>\n",
       "      <td>1314167</td>\n",
       "      <td>2500</td>\n",
       "      <td>2500</td>\n",
       "      <td>2500.0</td>\n",
       "      <td>60 months</td>\n",
       "      <td>15.27</td>\n",
       "      <td>59.83</td>\n",
       "      <td>C</td>\n",
       "      <td>4</td>\n",
       "      <td>...</td>\n",
       "      <td>0.0</td>\n",
       "      <td>1</td>\n",
       "      <td>0</td>\n",
       "      <td>0.0</td>\n",
       "      <td>0</td>\n",
       "      <td>0.0</td>\n",
       "      <td>0.0</td>\n",
       "      <td>1</td>\n",
       "      <td>1</td>\n",
       "      <td>0</td>\n",
       "    </tr>\n",
       "    <tr>\n",
       "      <th>2</th>\n",
       "      <td>1077175</td>\n",
       "      <td>1313524</td>\n",
       "      <td>2400</td>\n",
       "      <td>2400</td>\n",
       "      <td>2400.0</td>\n",
       "      <td>36 months</td>\n",
       "      <td>15.96</td>\n",
       "      <td>84.33</td>\n",
       "      <td>C</td>\n",
       "      <td>5</td>\n",
       "      <td>...</td>\n",
       "      <td>0.0</td>\n",
       "      <td>1</td>\n",
       "      <td>0</td>\n",
       "      <td>0.0</td>\n",
       "      <td>0</td>\n",
       "      <td>0.0</td>\n",
       "      <td>0.0</td>\n",
       "      <td>0</td>\n",
       "      <td>0</td>\n",
       "      <td>0</td>\n",
       "    </tr>\n",
       "    <tr>\n",
       "      <th>3</th>\n",
       "      <td>1076863</td>\n",
       "      <td>1277178</td>\n",
       "      <td>10000</td>\n",
       "      <td>10000</td>\n",
       "      <td>10000.0</td>\n",
       "      <td>36 months</td>\n",
       "      <td>13.49</td>\n",
       "      <td>339.31</td>\n",
       "      <td>C</td>\n",
       "      <td>1</td>\n",
       "      <td>...</td>\n",
       "      <td>0.0</td>\n",
       "      <td>1</td>\n",
       "      <td>0</td>\n",
       "      <td>0.0</td>\n",
       "      <td>0</td>\n",
       "      <td>0.0</td>\n",
       "      <td>0.0</td>\n",
       "      <td>0</td>\n",
       "      <td>1</td>\n",
       "      <td>0</td>\n",
       "    </tr>\n",
       "    <tr>\n",
       "      <th>4</th>\n",
       "      <td>1075358</td>\n",
       "      <td>1311748</td>\n",
       "      <td>3000</td>\n",
       "      <td>3000</td>\n",
       "      <td>3000.0</td>\n",
       "      <td>60 months</td>\n",
       "      <td>12.69</td>\n",
       "      <td>67.79</td>\n",
       "      <td>B</td>\n",
       "      <td>5</td>\n",
       "      <td>...</td>\n",
       "      <td>0.0</td>\n",
       "      <td>1</td>\n",
       "      <td>0</td>\n",
       "      <td>0.0</td>\n",
       "      <td>0</td>\n",
       "      <td>0.0</td>\n",
       "      <td>0.0</td>\n",
       "      <td>1</td>\n",
       "      <td>1</td>\n",
       "      <td>0</td>\n",
       "    </tr>\n",
       "  </tbody>\n",
       "</table>\n",
       "<p>5 rows × 52 columns</p>\n",
       "</div>"
      ],
      "text/plain": [
       "        id  member_id  loan_amnt  funded_amnt  funded_amnt_inv        term  \\\n",
       "0  1077501    1296599       5000         5000           4975.0   36 months   \n",
       "1  1077430    1314167       2500         2500           2500.0   60 months   \n",
       "2  1077175    1313524       2400         2400           2400.0   36 months   \n",
       "3  1076863    1277178      10000        10000          10000.0   36 months   \n",
       "4  1075358    1311748       3000         3000           3000.0   60 months   \n",
       "\n",
       "   int_rate  installment grade  sub_grade  ...  collections_12_mths_ex_med  \\\n",
       "0     10.65       162.87     B          2  ...                         0.0   \n",
       "1     15.27        59.83     C          4  ...                         0.0   \n",
       "2     15.96        84.33     C          5  ...                         0.0   \n",
       "3     13.49       339.31     C          1  ...                         0.0   \n",
       "4     12.69        67.79     B          5  ...                         0.0   \n",
       "\n",
       "  policy_code  acc_now_delinq chargeoff_within_12_mths delinq_amnt  \\\n",
       "0           1               0                      0.0           0   \n",
       "1           1               0                      0.0           0   \n",
       "2           1               0                      0.0           0   \n",
       "3           1               0                      0.0           0   \n",
       "4           1               0                      0.0           0   \n",
       "\n",
       "  pub_rec_bankruptcies tax_liens  60 months Source Verified  Verified  \n",
       "0                  0.0       0.0          0               0         1  \n",
       "1                  0.0       0.0          1               1         0  \n",
       "2                  0.0       0.0          0               0         0  \n",
       "3                  0.0       0.0          0               1         0  \n",
       "4                  0.0       0.0          1               1         0  \n",
       "\n",
       "[5 rows x 52 columns]"
      ]
     },
     "execution_count": 85,
     "metadata": {},
     "output_type": "execute_result"
    }
   ],
   "source": [
    "df.head()"
   ]
  },
  {
   "cell_type": "code",
   "execution_count": 86,
   "id": "6c661205",
   "metadata": {},
   "outputs": [],
   "source": [
    "# Non ordinal categorical columns must be convert to dummies\n",
    "# ordinal categorical columns must be converted to numbers"
   ]
  },
  {
   "cell_type": "code",
   "execution_count": 87,
   "id": "48e1f296",
   "metadata": {},
   "outputs": [
    {
     "data": {
      "text/plain": [
       "array(['RENT', 'OWN', 'MORTGAGE', 'OTHER', 'NONE'], dtype=object)"
      ]
     },
     "execution_count": 87,
     "metadata": {},
     "output_type": "execute_result"
    }
   ],
   "source": [
    "df['home_ownership'].unique() # can be converted to dummies"
   ]
  },
  {
   "cell_type": "code",
   "execution_count": 88,
   "id": "7c90c8f4",
   "metadata": {},
   "outputs": [
    {
     "data": {
      "text/plain": [
       "array(['Verified', 'Source Verified', 'Not Verified'], dtype=object)"
      ]
     },
     "execution_count": 88,
     "metadata": {},
     "output_type": "execute_result"
    }
   ],
   "source": [
    "df['verification_status'].unique() # can be converted into dummies"
   ]
  },
  {
   "cell_type": "code",
   "execution_count": 89,
   "id": "d3b3406b",
   "metadata": {},
   "outputs": [
    {
     "data": {
      "text/plain": [
       "array(['Fully Paid', 'Charged Off', 'Current'], dtype=object)"
      ]
     },
     "execution_count": 89,
     "metadata": {},
     "output_type": "execute_result"
    }
   ],
   "source": [
    "df['loan_status'].unique()"
   ]
  },
  {
   "cell_type": "code",
   "execution_count": 90,
   "id": "6b893b8c",
   "metadata": {},
   "outputs": [
    {
     "data": {
      "text/plain": [
       "array(['credit_card', 'car', 'small_business', 'other', 'wedding',\n",
       "       'debt_consolidation', 'home_improvement', 'major_purchase',\n",
       "       'medical', 'moving', 'vacation', 'house', 'renewable_energy',\n",
       "       'educational'], dtype=object)"
      ]
     },
     "execution_count": 90,
     "metadata": {},
     "output_type": "execute_result"
    }
   ],
   "source": [
    "df['purpose'].unique()"
   ]
  },
  {
   "cell_type": "code",
   "execution_count": 91,
   "id": "2c5f9359",
   "metadata": {},
   "outputs": [
    {
     "data": {
      "text/plain": [
       "array(['Jan-85', 'Apr-99', 'Nov-01', 'Feb-96', 'Jan-96', 'Nov-04',\n",
       "       'Jul-05', 'Jan-07', 'Apr-04', 'Sep-04', 'Jan-98', 'Oct-89',\n",
       "       'Jul-03', 'May-91', 'Sep-07', 'Oct-98', 'Aug-93', 'Oct-03',\n",
       "       'Jan-01', 'Nov-97', 'Feb-83', 'Jul-85', 'Apr-03', 'Jun-01',\n",
       "       'Feb-02', 'Aug-84', 'Nov-06', 'Dec-87', 'Nov-81', 'Feb-97',\n",
       "       'Apr-05', 'Oct-07', 'Dec-00', 'Apr-07', 'Dec-01', 'Jan-03',\n",
       "       'Mar-94', 'Sep-98', 'Jun-04', 'Nov-95', 'Jul-99', 'Jun-95',\n",
       "       'Sep-92', 'Jan-02', 'Apr-92', 'Oct-06', 'May-00', 'Dec-98',\n",
       "       'Dec-04', 'Oct-00', 'May-02', 'May-06', 'Jul-02', 'Jul-06',\n",
       "       'May-97', 'Oct-05', 'Apr-95', 'Oct-02', 'Jan-00', 'Apr-00',\n",
       "       'Dec-94', 'Sep-05', 'Dec-84', 'Dec-99', 'Nov-03', 'Jun-89',\n",
       "       'Jun-03', 'Oct-96', 'May-03', 'Jun-02', 'Jun-07', 'Dec-96',\n",
       "       'Feb-84', 'Sep-02', 'Jan-86', 'May-98', 'Jan-97', 'Jun-05',\n",
       "       'Feb-90', 'Mar-04', 'Jul-95', 'Aug-94', 'Jun-92', 'Mar-97',\n",
       "       'Apr-06', 'Apr-90', 'Aug-99', 'Sep-00', 'Feb-01', 'Dec-88',\n",
       "       'Feb-99', 'Dec-91', 'Aug-00', 'Oct-04', 'Aug-04', 'Feb-05',\n",
       "       'Nov-05', 'Nov-00', 'May-07', 'Jan-91', 'Jun-00', 'Aug-06',\n",
       "       'Dec-02', 'Jun-93', 'Jun-06', 'Feb-04', 'Dec-90', 'Mar-00',\n",
       "       'Feb-95', 'Jul-01', 'Apr-02', 'Sep-06', 'May-99', 'Aug-98',\n",
       "       'Dec-05', 'May-04', 'Oct-01', 'Jun-83', 'Mar-86', 'Apr-80',\n",
       "       'Jul-04', 'Jul-08', 'May-96', 'Jan-04', 'Nov-02', 'Aug-02',\n",
       "       'Aug-01', 'Mar-91', 'Sep-89', 'Sep-94', 'Sep-03', 'Sep-99',\n",
       "       'Aug-05', 'Dec-86', 'Nov-98', 'Feb-06', 'May-94', 'Nov-07',\n",
       "       'Feb-93', 'Nov-91', 'May-05', 'Dec-73', 'May-01', 'Mar-90',\n",
       "       'Mar-96', 'Oct-79', 'Jun-81', 'Mar-01', 'Apr-01', 'Jun-99',\n",
       "       'Nov-93', 'Jan-06', 'Dec-97', 'Nov-94', 'Jul-97', 'Oct-91',\n",
       "       'Jun-94', 'Mar-06', 'Sep-96', 'Apr-91', 'Jul-93', 'Jan-95',\n",
       "       'Sep-87', 'Mar-03', 'Oct-99', 'Jul-96', 'Dec-03', 'Aug-88',\n",
       "       'Jan-92', 'Mar-98', 'Feb-07', 'Aug-82', 'Mar-95', 'Dec-92',\n",
       "       'Jul-98', 'Jul-89', 'May-90', 'Jul-94', 'Sep-01', 'Mar-84',\n",
       "       'Aug-03', 'Nov-99', 'Mar-07', 'Mar-08', 'Apr-94', 'Jan-05',\n",
       "       'Jul-86', 'Aug-90', 'May-92', 'Jul-00', 'Mar-88', 'May-83',\n",
       "       'Apr-93', 'Jul-78', 'Feb-00', 'Dec-81', 'Mar-92', 'Jan-81',\n",
       "       'Sep-90', 'Jun-98', 'May-93', 'Nov-96', 'Mar-02', 'Jan-88',\n",
       "       'Aug-97', 'Aug-87', 'Aug-08', 'Oct-94', 'Oct-86', 'Feb-94',\n",
       "       'Jun-96', 'Feb-98', 'Nov-08', 'Apr-98', 'Jul-79', 'Jan-93',\n",
       "       'May-87', 'Jul-71', 'Aug-07', 'Jun-97', 'Mar-80', 'Dec-06',\n",
       "       'Jul-07', 'Oct-95', 'Jul-91', 'Jul-92', 'Dec-72', 'Dec-93',\n",
       "       'Jan-99', 'Feb-03', 'Apr-97', 'Dec-95', 'Apr-96', 'Jul-90',\n",
       "       'Mar-70', 'Nov-84', 'Apr-84', 'Jul-84', 'Aug-95', 'Mar-99',\n",
       "       'Sep-88', 'Mar-89', 'Mar-87', 'Oct-97', 'Dec-80', 'Jan-94',\n",
       "       'Sep-95', 'Mar-05', 'Jan-89', 'Feb-92', 'Jan-90', 'Nov-90',\n",
       "       'Mar-69', 'Jun-75', 'Mar-85', 'Dec-07', 'Oct-93', 'Dec-89',\n",
       "       'Sep-80', 'Jun-88', 'May-78', 'Apr-73', 'Aug-89', 'Oct-90',\n",
       "       'Sep-91', 'Feb-82', 'Feb-87', 'Nov-85', 'Jan-84', 'Jul-88',\n",
       "       'May-08', 'Oct-85', 'Mar-83', 'Aug-91', 'Sep-86', 'Jun-90',\n",
       "       'Feb-86', 'Sep-97', 'Jun-84', 'Sep-81', 'Apr-86', 'Aug-79',\n",
       "       'Aug-80', 'Nov-92', 'Sep-93', 'Jun-87', 'Sep-82', 'Aug-92',\n",
       "       'Aug-85', 'Jul-83', 'Jun-91', 'Dec-83', 'Jan-87', 'Nov-78',\n",
       "       'Oct-84', 'Aug-96', 'Nov-89', 'Sep-76', 'Nov-86', 'Oct-87',\n",
       "       'Sep-08', 'May-77', 'May-86', 'Mar-81', 'Jan-83', 'Nov-76',\n",
       "       'Sep-79', 'Oct-83', 'Sep-62', 'Jun-85', 'May-82', 'Feb-88',\n",
       "       'Oct-92', 'Aug-83', 'Jun-73', 'Apr-85', 'Oct-88', 'Oct-81',\n",
       "       'Sep-68', 'Jul-74', 'Nov-87', 'May-95', 'Feb-91', 'Nov-88',\n",
       "       'Mar-93', 'Jun-08', 'Jul-80', 'Dec-82', 'Mar-75', 'Feb-80',\n",
       "       'Apr-88', 'Dec-79', 'Sep-85', 'Sep-71', 'Mar-78', 'Feb-08',\n",
       "       'Aug-78', 'Nov-70', 'Jun-79', 'Jun-80', 'Apr-89', 'Sep-83',\n",
       "       'Feb-89', 'Nov-83', 'Jun-86', 'Oct-82', 'Aug-86', 'Oct-80',\n",
       "       'May-88', 'Dec-85', 'Jan-82', 'Sep-77', 'Dec-76', 'Apr-82',\n",
       "       'May-84', 'Apr-08', 'Feb-79', 'Jan-08', 'Sep-64', 'Jul-87',\n",
       "       'Jan-78', 'May-89', 'Oct-77', 'Dec-75', 'Feb-85', 'Oct-08',\n",
       "       'Nov-82', 'May-75', 'May-85', 'Feb-71', 'Jun-77', 'Apr-81',\n",
       "       'May-79', 'Jan-72', 'Sep-67', 'Apr-78', 'Feb-65', 'Apr-83',\n",
       "       'Nov-75', 'Jun-67', 'Mar-74', 'Jul-72', 'Aug-67', 'Apr-71',\n",
       "       'Sep-84', 'May-81', 'Dec-70', 'Oct-73', 'Jan-71', 'Dec-63',\n",
       "       'Apr-74', 'Jan-80', 'Aug-69', 'Apr-75', 'Jul-77', 'Mar-77',\n",
       "       'Nov-69', 'Jan-76', 'Mar-82', 'Apr-87', 'Dec-69', 'May-74',\n",
       "       'Aug-74', 'Jun-72', 'Mar-63', 'Nov-79', 'Aug-75', 'Sep-74',\n",
       "       'Aug-81', 'May-73', 'Sep-73', 'Mar-73', 'Dec-77', 'Oct-76',\n",
       "       'Jan-74', 'Jan-70', 'Aug-68', 'Feb-76', 'Jan-75', 'Oct-72',\n",
       "       'Dec-74', 'Feb-73', 'Nov-65', 'Mar-72', 'Jun-82', 'Jun-74',\n",
       "       'May-65', 'Jun-71', 'Oct-70', 'Apr-76', 'Oct-71', 'Apr-77',\n",
       "       'Sep-78', 'Oct-78', 'Oct-54', 'Feb-81', 'Jan-77', 'Aug-77',\n",
       "       'Dec-78', 'Aug-76', 'Jun-68', 'Jun-78', 'Jun-69', 'May-80',\n",
       "       'Jan-79', 'Oct-65', 'Nov-74', 'Apr-66', 'Jun-76', 'Feb-72',\n",
       "       'May-76', 'Mar-68', 'Mar-76', 'Jul-70', 'Mar-79', 'Jul-76',\n",
       "       'Jul-82', 'Sep-65', 'Apr-67', 'Oct-63', 'Feb-70', 'Jul-73',\n",
       "       'Feb-78', 'Nov-71', 'Aug-72', 'Jul-75', 'Sep-70', 'Jul-81',\n",
       "       'Oct-64', 'Sep-72', 'May-70', 'May-63', 'Feb-69', 'Nov-80',\n",
       "       'Jul-67', 'Apr-70', 'Nov-77', 'Nov-66', 'May-71', 'Apr-79',\n",
       "       'May-72', 'Feb-68', 'Jul-64', 'Nov-67', 'Apr-64', 'Feb-75',\n",
       "       'Jun-59', 'Sep-56', 'Jun-66', 'Jan-46', 'Mar-66', 'Jan-63',\n",
       "       'Dec-50', 'Jul-69', 'Jan-68', 'Nov-73', 'Jun-70', 'Feb-77',\n",
       "       'Feb-74', 'Jan-73', 'Feb-66', 'Dec-61', 'Aug-73', 'Aug-70',\n",
       "       'Sep-69', 'Sep-75', 'Dec-68', 'Nov-54', 'Oct-69', 'Dec-65',\n",
       "       'Apr-72', 'Nov-72', 'Sep-63', 'Apr-69', 'Nov-62', 'Oct-67',\n",
       "       'May-67', 'Nov-61', 'Feb-67', 'Nov-68', 'Oct-75', 'Mar-71',\n",
       "       'Aug-71', 'Dec-66', 'Oct-68', 'Oct-74'], dtype=object)"
      ]
     },
     "execution_count": 91,
     "metadata": {},
     "output_type": "execute_result"
    }
   ],
   "source": [
    "df['earliest_cr_line'].unique()"
   ]
  },
  {
   "cell_type": "code",
   "execution_count": 92,
   "id": "88f0ae3f",
   "metadata": {},
   "outputs": [],
   "source": [
    "del df['earliest_cr_line']\n",
    "# this column is not useful to us as we will not require when the person first took loan"
   ]
  },
  {
   "cell_type": "code",
   "execution_count": 93,
   "id": "206bc894",
   "metadata": {},
   "outputs": [
    {
     "data": {
      "text/plain": [
       "0    83.70%\n",
       "1     9.40%\n",
       "2    98.50%\n",
       "3       21%\n",
       "4    53.90%\n",
       "Name: revol_util, dtype: object"
      ]
     },
     "execution_count": 93,
     "metadata": {},
     "output_type": "execute_result"
    }
   ],
   "source": [
    "df['revol_util'].head()"
   ]
  },
  {
   "cell_type": "code",
   "execution_count": 94,
   "id": "8168c6b5",
   "metadata": {},
   "outputs": [],
   "source": [
    "df['revol_util']=df['revol_util'].apply(lambda x:float(re.findall('[0-9]+',x)[0]))"
   ]
  },
  {
   "cell_type": "code",
   "execution_count": 95,
   "id": "147e1b1f",
   "metadata": {},
   "outputs": [
    {
     "data": {
      "text/plain": [
       "array(['860xx', '309xx', '606xx', '917xx', '972xx', '852xx', '280xx',\n",
       "       '900xx', '958xx', '774xx', '853xx', '913xx', '245xx', '951xx',\n",
       "       '641xx', '921xx', '067xx', '890xx', '770xx', '335xx', '799xx',\n",
       "       '605xx', '150xx', '326xx', '564xx', '141xx', '080xx', '330xx',\n",
       "       '974xx', '934xx', '405xx', '946xx', '445xx', '850xx', '604xx',\n",
       "       '292xx', '088xx', '180xx', '029xx', '700xx', '010xx', '441xx',\n",
       "       '104xx', '061xx', '616xx', '947xx', '914xx', '765xx', '980xx',\n",
       "       '017xx', '752xx', '787xx', '077xx', '540xx', '225xx', '440xx',\n",
       "       '437xx', '559xx', '912xx', '325xx', '300xx', '923xx', '352xx',\n",
       "       '013xx', '146xx', '074xx', '786xx', '937xx', '331xx', '115xx',\n",
       "       '191xx', '114xx', '908xx', '902xx', '992xx', '750xx', '950xx',\n",
       "       '329xx', '226xx', '614xx', '802xx', '672xx', '083xx', '100xx',\n",
       "       '926xx', '931xx', '712xx', '060xx', '707xx', '342xx', '895xx',\n",
       "       '430xx', '919xx', '996xx', '891xx', '935xx', '801xx', '928xx',\n",
       "       '233xx', '927xx', '970xx', '211xx', '303xx', '070xx', '194xx',\n",
       "       '263xx', '403xx', '301xx', '553xx', '993xx', '312xx', '432xx',\n",
       "       '602xx', '216xx', '151xx', '971xx', '305xx', '334xx', '050xx',\n",
       "       '129xx', '925xx', '483xx', '760xx', '961xx', '200xx', '085xx',\n",
       "       '981xx', '103xx', '601xx', '117xx', '063xx', '920xx', '543xx',\n",
       "       '775xx', '570xx', '038xx', '221xx', '985xx', '113xx', '275xx',\n",
       "       '236xx', '148xx', '028xx', '450xx', '532xx', '729xx', '321xx',\n",
       "       '959xx', '941xx', '955xx', '217xx', '880xx', '660xx', '062xx',\n",
       "       '193xx', '761xx', '857xx', '306xx', '271xx', '142xx', '956xx',\n",
       "       '983xx', '945xx', '109xx', '112xx', '187xx', '630xx', '435xx',\n",
       "       '488xx', '287xx', '705xx', '592xx', '318xx', '549xx', '212xx',\n",
       "       '347xx', '274xx', '265xx', '785xx', '027xx', '089xx', '813xx',\n",
       "       '069xx', '260xx', '201xx', '349xx', '322xx', '075xx', '124xx',\n",
       "       '940xx', '967xx', '111xx', '773xx', '997xx', '076xx', '538xx',\n",
       "       '021xx', '304xx', '234xx', '308xx', '809xx', '071xx', '363xx',\n",
       "       '296xx', '240xx', '830xx', '011xx', '622xx', '207xx', '140xx',\n",
       "       '336xx', '619xx', '208xx', '618xx', '014xx', '644xx', '283xx',\n",
       "       '276xx', '631xx', '243xx', '960xx', '181xx', '922xx', '224xx',\n",
       "       '975xx', '105xx', '986xx', '218xx', '652xx', '782xx', '410xx',\n",
       "       '480xx', '328xx', '719xx', '982xx', '065xx', '081xx', '954xx',\n",
       "       '346xx', '442xx', '025xx', '122xx', '173xx', '282xx', '120xx',\n",
       "       '082xx', '766xx', '229xx', '840xx', '744xx', '933xx', '451xx',\n",
       "       '907xx', '728xx', '159xx', '333xx', '293xx', '701xx', '984xx',\n",
       "       '811xx', '597xx', '957xx', '165xx', '720xx', '119xx', '359xx',\n",
       "       '195xx', '084xx', '969xx', '924xx', '531xx', '716xx', '337xx',\n",
       "       '841xx', '323xx', '740xx', '179xx', '805xx', '285xx', '551xx',\n",
       "       '658xx', '944xx', '232xx', '905xx', '600xx', '327xx', '711xx',\n",
       "       '906xx', '444xx', '856xx', '777xx', '072xx', '554xx', '145xx',\n",
       "       '537xx', '152xx', '847xx', '295xx', '829xx', '320xx', '131xx',\n",
       "       '939xx', '572xx', '281xx', '064xx', '550xx', '078xx', '452xx',\n",
       "       '778xx', '313xx', '851xx', '784xx', '804xx', '571xx', '210xx',\n",
       "       '988xx', '400xx', '995xx', '023xx', '158xx', '657xx', '016xx',\n",
       "       '019xx', '290xx', '190xx', '366xx', '066xx', '991xx', '968xx',\n",
       "       '721xx', '439xx', '640xx', '546xx', '024xx', '751xx', '431xx',\n",
       "       '741xx', '904xx', '156xx', '316xx', '299xx', '087xx', '739xx',\n",
       "       '949xx', '261xx', '073xx', '222xx', '244xx', '617xx', '018xx',\n",
       "       '286xx', '759xx', '952xx', '930xx', '911xx', '220xx', '731xx',\n",
       "       '730xx', '262xx', '338xx', '160xx', '031xx', '054xx', '223xx',\n",
       "       '272xx', '882xx', '557xx', '797xx', '725xx', '130xx', '030xx',\n",
       "       '206xx', '324xx', '170xx', '291xx', '161xx', '647xx', '916xx',\n",
       "       '665xx', '209xx', '915xx', '110xx', '086xx', '484xx', '844xx',\n",
       "       '020xx', '354xx', '448xx', '978xx', '757xx', '953xx', '577xx',\n",
       "       '315xx', '664xx', '186xx', '182xx', '574xx', '800xx', '197xx',\n",
       "       '137xx', '314xx', '755xx', '973xx', '603xx', '481xx', '780xx',\n",
       "       '894xx', '341xx', '361xx', '178xx', '068xx', '565xx', '611xx',\n",
       "       '288xx', '443xx', '662xx', '874xx', '560xx', '535xx', '499xx',\n",
       "       '162xx', '756xx', '168xx', '827xx', '541xx', '615xx', '989xx',\n",
       "       '037xx', '863xx', '339xx', '367xx', '273xx', '052xx', '623xx',\n",
       "       '416xx', '648xx', '918xx', '436xx', '898xx', '674xx', '496xx',\n",
       "       '294xx', '762xx', '128xx', '903xx', '932xx', '650xx', '246xx',\n",
       "       '633xx', '666xx', '228xx', '015xx', '302xx', '573xx', '118xx',\n",
       "       '998xx', '767xx', '490xx', '350xx', '591xx', '254xx', '566xx',\n",
       "       '596xx', '637xx', '032xx', '763xx', '494xx', '402xx', '545xx',\n",
       "       '184xx', '239xx', '977xx', '297xx', '284xx', '144xx', '748xx',\n",
       "       '310xx', '147xx', '153xx', '544xx', '948xx', '576xx', '976xx',\n",
       "       '107xx', '846xx', '344xx', '351xx', '754xx', '910xx', '656xx',\n",
       "       '357xx', '791xx', '493xx', '855xx', '278xx', '125xx', '175xx',\n",
       "       '530xx', '171xx', '703xx', '620xx', '438xx', '626xx', '307xx',\n",
       "       '636xx', '319xx', '116xx', '645xx', '708xx', '816xx', '625xx',\n",
       "       '133xx', '612xx', '238xx', '166xx', '231xx', '241xx', '826xx',\n",
       "       '783xx', '793xx', '646xx', '188xx', '108xx', '653xx', '871xx',\n",
       "       '057xx', '796xx', '990xx', '219xx', '724xx', '456xx', '214xx',\n",
       "       '237xx', '737xx', '121xx', '199xx', '548xx', '453xx', '704xx',\n",
       "       '368xx', '828xx', '598xx', '136xx', '610xx', '433xx', '722xx',\n",
       "       '743xx', '810xx', '706xx', '235xx', '139xx', '613xx', '454xx',\n",
       "       '317xx', '746xx', '446xx', '486xx', '033xx', '279xx', '407xx',\n",
       "       '803xx', '794xx', '457xx', '189xx', '196xx', '539xx', '424xx',\n",
       "       '492xx', '482xx', '667xx', '845xx', '608xx', '401xx', '362xx',\n",
       "       '627xx', '717xx', '356xx', '607xx', '963xx', '198xx', '936xx',\n",
       "       '713xx', '227xx', '883xx', '563xx', '893xx', '079xx', '806xx',\n",
       "       '360xx', '172xx', '422xx', '768xx', '034xx', '735xx', '870xx',\n",
       "       '012xx', '594xx', '215xx', '628xx', '749xx', '101xx', '814xx',\n",
       "       '255xx', '745xx', '495xx', '132xx', '183xx', '864xx', '106xx',\n",
       "       '663xx', '943xx', '094xx', '177xx', '365xx', '897xx', '776xx',\n",
       "       '843xx', '458xx', '421xx', '253xx', '795xx', '727xx', '528xx',\n",
       "       '270xx', '808xx', '277xx', '447xx', '358xx', '815xx', '250xx',\n",
       "       '230xx', '790xx', '884xx', '242xx', '534xx', '404xx', '397xx',\n",
       "       '434xx', '671xx', '655xx', '675xx', '053xx', '859xx', '126xx',\n",
       "       '102xx', '256xx', '673xx', '489xx', '258xx', '423xx', '497xx',\n",
       "       '788xx', '127xx', '176xx', '380xx', '058xx', '635xx', '498xx',\n",
       "       '820xx', '599xx', '822xx', '638xx', '723xx', '449xx', '420xx',\n",
       "       '157xx', '726xx', '185xx', '527xx', '298xx', '769xx', '257xx',\n",
       "       '881xx', '575xx', '624xx', '134xx', '877xx', '781xx', '718xx',\n",
       "       '670xx', '138xx', '026xx', '678xx', '398xx', '411xx', '149xx',\n",
       "       '247xx', '875xx', '838xx', '651xx', '364xx', '203xx', '427xx',\n",
       "       '629xx', '355xx', '174xx', '547xx', '567xx', '558xx', '135xx',\n",
       "       '035xx', '999xx', '634xx', '455xx', '143xx', '154xx', '562xx',\n",
       "       '779xx', '561xx', '734xx', '789xx', '812xx', '268xx', '051xx',\n",
       "       '865xx', '406xx', '661xx', '758xx', '676xx', '491xx', '267xx',\n",
       "       '609xx', '595xx', '259xx', '163xx', '264xx', '409xx', '376xx',\n",
       "       '471xx', '375xx', '747xx', '123xx', '714xx', '590xx', '639xx',\n",
       "       '412xx', '425xx', '022xx', '369xx', '164xx', '825xx', '266xx',\n",
       "       '096xx', '487xx', '251xx', '593xx', '169xx', '413xx', '155xx',\n",
       "       '764xx', '710xx', '408xx', '668xx', '056xx', '669xx', '167xx',\n",
       "       '542xx', '679xx', '462xx', '792xx', '824xx', '249xx', '798xx',\n",
       "       '370xx', '485xx', '654xx', '289xx', '807xx', '252xx', '556xx',\n",
       "       '353xx', '677xx', '090xx', '371xx', '831xx', '736xx', '007xx',\n",
       "       '332xx', '468xx', '461xx', '093xx', '248xx', '463xx', '391xx',\n",
       "       '381xx', '415xx', '378xx', '414xx', '396xx', '836xx', '044xx',\n",
       "       '392xx', '772xx', '374xx', '823xx', '395xx', '394xx', '965xx',\n",
       "       '390xx', '388xx', '386xx', '040xx', '385xx', '379xx', '681xx',\n",
       "       '837xx', '373xx', '753xx', '834xx', '383xx', '384xx', '372xx',\n",
       "       '833xx', '522xx', '523xx', '474xx', '465xx', '689xx', '473xx',\n",
       "       '041xx', '685xx'], dtype=object)"
      ]
     },
     "execution_count": 95,
     "metadata": {},
     "output_type": "execute_result"
    }
   ],
   "source": [
    "df['zip_code'].unique()"
   ]
  },
  {
   "cell_type": "code",
   "execution_count": 96,
   "id": "e7de9a45",
   "metadata": {},
   "outputs": [],
   "source": [
    "del df['last_credit_pull_d']"
   ]
  },
  {
   "cell_type": "code",
   "execution_count": 97,
   "id": "eb1825fd",
   "metadata": {},
   "outputs": [],
   "source": [
    "df.drop(['id','member_id'],axis=1,inplace=True)\n",
    "# primary key is not used in machine learning"
   ]
  },
  {
   "cell_type": "code",
   "execution_count": 98,
   "id": "25c8d9bd",
   "metadata": {},
   "outputs": [
    {
     "data": {
      "text/plain": [
       "(39531, 48)"
      ]
     },
     "execution_count": 98,
     "metadata": {},
     "output_type": "execute_result"
    }
   ],
   "source": [
    "df.shape"
   ]
  },
  {
   "cell_type": "code",
   "execution_count": 99,
   "id": "d2b4fce1",
   "metadata": {},
   "outputs": [
    {
     "data": {
      "text/plain": [
       "loan_amnt                              int64\n",
       "funded_amnt                            int64\n",
       "funded_amnt_inv                      float64\n",
       "term                                  object\n",
       "int_rate                             float64\n",
       "installment                          float64\n",
       "grade                                 object\n",
       "sub_grade                              int64\n",
       "emp_length                           float64\n",
       "home_ownership                        object\n",
       "annual_inc                           float64\n",
       "verification_status                   object\n",
       "issue_d                               object\n",
       "loan_status                           object\n",
       "purpose                               object\n",
       "zip_code                              object\n",
       "addr_state                            object\n",
       "dti                                  float64\n",
       "delinq_2yrs                            int64\n",
       "inq_last_6mths                         int64\n",
       "mths_since_last_delinq               float64\n",
       "mths_since_last_record               float64\n",
       "open_acc                               int64\n",
       "pub_rec                                int64\n",
       "revol_bal                              int64\n",
       "revol_util                           float64\n",
       "total_acc                              int64\n",
       "out_prncp                            float64\n",
       "out_prncp_inv                        float64\n",
       "total_pymnt                          float64\n",
       "total_pymnt_inv                      float64\n",
       "total_rec_prncp                      float64\n",
       "total_rec_int                        float64\n",
       "total_rec_late_fee                   float64\n",
       "recoveries                           float64\n",
       "collection_recovery_fee              float64\n",
       "last_pymnt_d                  datetime64[ns]\n",
       "last_pymnt_amnt                      float64\n",
       "collections_12_mths_ex_med           float64\n",
       "policy_code                            int64\n",
       "acc_now_delinq                         int64\n",
       "chargeoff_within_12_mths             float64\n",
       "delinq_amnt                            int64\n",
       "pub_rec_bankruptcies                 float64\n",
       "tax_liens                            float64\n",
       " 60 months                             uint8\n",
       "Source Verified                        uint8\n",
       "Verified                               uint8\n",
       "dtype: object"
      ]
     },
     "execution_count": 99,
     "metadata": {},
     "output_type": "execute_result"
    }
   ],
   "source": [
    "df.dtypes"
   ]
  },
  {
   "cell_type": "markdown",
   "id": "cd51dc09",
   "metadata": {},
   "source": [
    "# Performing EDA"
   ]
  },
  {
   "cell_type": "markdown",
   "id": "e8961b3c",
   "metadata": {},
   "source": [
    "purpose of EDA is to understand the data better through visualization or summeries objective : to find results for loan defaults"
   ]
  },
  {
   "cell_type": "code",
   "execution_count": 100,
   "id": "afeb7435",
   "metadata": {},
   "outputs": [
    {
     "data": {
      "text/html": [
       "<div>\n",
       "<style scoped>\n",
       "    .dataframe tbody tr th:only-of-type {\n",
       "        vertical-align: middle;\n",
       "    }\n",
       "\n",
       "    .dataframe tbody tr th {\n",
       "        vertical-align: top;\n",
       "    }\n",
       "\n",
       "    .dataframe thead th {\n",
       "        text-align: right;\n",
       "    }\n",
       "</style>\n",
       "<table border=\"1\" class=\"dataframe\">\n",
       "  <thead>\n",
       "    <tr style=\"text-align: right;\">\n",
       "      <th></th>\n",
       "      <th>loan_amnt</th>\n",
       "      <th>funded_amnt</th>\n",
       "      <th>funded_amnt_inv</th>\n",
       "      <th>term</th>\n",
       "      <th>int_rate</th>\n",
       "      <th>installment</th>\n",
       "      <th>grade</th>\n",
       "      <th>sub_grade</th>\n",
       "      <th>emp_length</th>\n",
       "      <th>home_ownership</th>\n",
       "      <th>...</th>\n",
       "      <th>collections_12_mths_ex_med</th>\n",
       "      <th>policy_code</th>\n",
       "      <th>acc_now_delinq</th>\n",
       "      <th>chargeoff_within_12_mths</th>\n",
       "      <th>delinq_amnt</th>\n",
       "      <th>pub_rec_bankruptcies</th>\n",
       "      <th>tax_liens</th>\n",
       "      <th>60 months</th>\n",
       "      <th>Source Verified</th>\n",
       "      <th>Verified</th>\n",
       "    </tr>\n",
       "  </thead>\n",
       "  <tbody>\n",
       "    <tr>\n",
       "      <th>0</th>\n",
       "      <td>5000</td>\n",
       "      <td>5000</td>\n",
       "      <td>4975.0</td>\n",
       "      <td>36 months</td>\n",
       "      <td>10.65</td>\n",
       "      <td>162.87</td>\n",
       "      <td>B</td>\n",
       "      <td>2</td>\n",
       "      <td>10.0</td>\n",
       "      <td>RENT</td>\n",
       "      <td>...</td>\n",
       "      <td>0.0</td>\n",
       "      <td>1</td>\n",
       "      <td>0</td>\n",
       "      <td>0.0</td>\n",
       "      <td>0</td>\n",
       "      <td>0.0</td>\n",
       "      <td>0.0</td>\n",
       "      <td>0</td>\n",
       "      <td>0</td>\n",
       "      <td>1</td>\n",
       "    </tr>\n",
       "    <tr>\n",
       "      <th>1</th>\n",
       "      <td>2500</td>\n",
       "      <td>2500</td>\n",
       "      <td>2500.0</td>\n",
       "      <td>60 months</td>\n",
       "      <td>15.27</td>\n",
       "      <td>59.83</td>\n",
       "      <td>C</td>\n",
       "      <td>4</td>\n",
       "      <td>0.0</td>\n",
       "      <td>RENT</td>\n",
       "      <td>...</td>\n",
       "      <td>0.0</td>\n",
       "      <td>1</td>\n",
       "      <td>0</td>\n",
       "      <td>0.0</td>\n",
       "      <td>0</td>\n",
       "      <td>0.0</td>\n",
       "      <td>0.0</td>\n",
       "      <td>1</td>\n",
       "      <td>1</td>\n",
       "      <td>0</td>\n",
       "    </tr>\n",
       "  </tbody>\n",
       "</table>\n",
       "<p>2 rows × 48 columns</p>\n",
       "</div>"
      ],
      "text/plain": [
       "   loan_amnt  funded_amnt  funded_amnt_inv        term  int_rate  installment  \\\n",
       "0       5000         5000           4975.0   36 months     10.65       162.87   \n",
       "1       2500         2500           2500.0   60 months     15.27        59.83   \n",
       "\n",
       "  grade  sub_grade  emp_length home_ownership  ...  \\\n",
       "0     B          2        10.0           RENT  ...   \n",
       "1     C          4         0.0           RENT  ...   \n",
       "\n",
       "   collections_12_mths_ex_med policy_code acc_now_delinq  \\\n",
       "0                         0.0           1              0   \n",
       "1                         0.0           1              0   \n",
       "\n",
       "  chargeoff_within_12_mths delinq_amnt pub_rec_bankruptcies tax_liens  \\\n",
       "0                      0.0           0                  0.0       0.0   \n",
       "1                      0.0           0                  0.0       0.0   \n",
       "\n",
       "    60 months  Source Verified  Verified  \n",
       "0           0                0         1  \n",
       "1           1                1         0  \n",
       "\n",
       "[2 rows x 48 columns]"
      ]
     },
     "execution_count": 100,
     "metadata": {},
     "output_type": "execute_result"
    }
   ],
   "source": [
    "df.head(2)"
   ]
  },
  {
   "cell_type": "code",
   "execution_count": 101,
   "id": "c70eaf21",
   "metadata": {},
   "outputs": [
    {
     "name": "stderr",
     "output_type": "stream",
     "text": [
      "C:\\Users\\aarza\\anaconda\\lib\\site-packages\\seaborn\\_decorators.py:36: FutureWarning: Pass the following variable as a keyword arg: x. From version 0.12, the only valid positional argument will be `data`, and passing other arguments without an explicit keyword will result in an error or misinterpretation.\n",
      "  warnings.warn(\n"
     ]
    },
    {
     "data": {
      "image/png": "[encoded data removed]",
      "text/plain": [
       "<Figure size 640x480 with 1 Axes>"
      ]
     },
     "metadata": {},
     "output_type": "display_data"
    }
   ],
   "source": [
    "## understanding loan distribution\n",
    "plt.figure()\n",
    "sns.countplot(df['loan_status'])\n",
    "plt.show()"
   ]
  },
  {
   "cell_type": "code",
   "execution_count": 102,
   "id": "d63ec4c5",
   "metadata": {},
   "outputs": [],
   "source": [
    "# filtering out current loan status because that are ongoing loans\n",
    "# to identify behaviour of loan that are getting defaulted we need fully paid and charged off\n",
    "ds=df[df['loan_status'] != 'Current']"
   ]
  },
  {
   "cell_type": "code",
   "execution_count": 103,
   "id": "c7a89471",
   "metadata": {},
   "outputs": [
    {
     "data": {
      "text/plain": [
       "loan_status\n",
       "Charged Off     5535\n",
       "Fully Paid     32856\n",
       "Name: loan_amnt, dtype: int64"
      ]
     },
     "execution_count": 103,
     "metadata": {},
     "output_type": "execute_result"
    }
   ],
   "source": [
    "# finding % of default and non default\n",
    "ds.groupby('loan_status').loan_amnt.count()# Absolute count of each category"
   ]
  },
  {
   "cell_type": "code",
   "execution_count": 104,
   "id": "bf9d7836",
   "metadata": {},
   "outputs": [
    {
     "data": {
      "text/plain": [
       "loan_status\n",
       "Charged Off    14.417442\n",
       "Fully Paid     85.582558\n",
       "Name: loan_amnt, dtype: float64"
      ]
     },
     "execution_count": 104,
     "metadata": {},
     "output_type": "execute_result"
    }
   ],
   "source": [
    "temp = ds.groupby('loan_status').loan_amnt.count()/len(ds)*100 # percentage of each category\n",
    "temp"
   ]
  },
  {
   "cell_type": "code",
   "execution_count": 105,
   "id": "a91bcfe9",
   "metadata": {},
   "outputs": [
    {
     "data": {
      "image/png": "[encoded data removed]",
      "text/plain": [
       "<Figure size 640x480 with 1 Axes>"
      ]
     },
     "metadata": {},
     "output_type": "display_data"
    }
   ],
   "source": [
    "plt.figure()\n",
    "sns.barplot(x=temp.index,y=temp)\n",
    "plt.ylim(0,100)\n",
    "plt.show()"
   ]
  },
  {
   "cell_type": "markdown",
   "id": "62bbaa50",
   "metadata": {},
   "source": [
    "the data has 85% fully paid and approx 15% charged off in the dataset"
   ]
  },
  {
   "cell_type": "markdown",
   "id": "fac8d155",
   "metadata": {},
   "source": [
    "^"
   ]
  },
  {
   "cell_type": "markdown",
   "id": "2979ef96",
   "metadata": {},
   "source": [
    "#### Effect of term on charged off category"
   ]
  },
  {
   "cell_type": "code",
   "execution_count": 106,
   "id": "5beeec99",
   "metadata": {},
   "outputs": [],
   "source": [
    "# term means how much period loan has been taken"
   ]
  },
  {
   "cell_type": "code",
   "execution_count": 107,
   "id": "fc50461f",
   "metadata": {},
   "outputs": [
    {
     "data": {
      "text/plain": [
       "<AxesSubplot:xlabel='term', ylabel='loan_amnt'>"
      ]
     },
     "execution_count": 107,
     "metadata": {},
     "output_type": "execute_result"
    },
    {
     "data": {
      "image/png": "[encoded data removed]",
      "text/plain": [
       "<Figure size 640x480 with 1 Axes>"
      ]
     },
     "metadata": {},
     "output_type": "display_data"
    }
   ],
   "source": [
    "sns.boxplot(x='term',y='loan_amnt',data=ds)"
   ]
  },
  {
   "cell_type": "code",
   "execution_count": 108,
   "id": "35cb88e0",
   "metadata": {},
   "outputs": [
    {
     "data": {
      "text/plain": [
       "<AxesSubplot:xlabel='term', ylabel='loan_amnt'>"
      ]
     },
     "execution_count": 108,
     "metadata": {},
     "output_type": "execute_result"
    },
    {
     "data": {
      "image/png": "[encoded data removed]",
      "text/plain": [
       "<Figure size 640x480 with 1 Axes>"
      ]
     },
     "metadata": {},
     "output_type": "display_data"
    }
   ],
   "source": [
    "sns.boxplot(x='term',y='loan_amnt',data=ds,hue='loan_status')# hue help to differentiat"
   ]
  },
  {
   "cell_type": "markdown",
   "id": "2b284921",
   "metadata": {},
   "source": [
    "##### no clear distinction btw fully paid and charged off based on loan amount and term"
   ]
  },
  {
   "cell_type": "markdown",
   "id": "e0f8a270",
   "metadata": {},
   "source": [
    "# Understanding the impact of grade on loan status"
   ]
  },
  {
   "cell_type": "code",
   "execution_count": 109,
   "id": "b6076ee9",
   "metadata": {},
   "outputs": [
    {
     "data": {
      "text/plain": [
       "grade  loan_status\n",
       "A      Charged Off      596\n",
       "       Fully Paid      9420\n",
       "B      Charged Off     1408\n",
       "       Fully Paid     10233\n",
       "C      Charged Off     1316\n",
       "       Fully Paid      6466\n",
       "D      Charged Off     1101\n",
       "       Fully Paid      3948\n",
       "E      Charged Off      702\n",
       "       Fully Paid      1939\n",
       "F      Charged Off      315\n",
       "       Fully Paid       652\n",
       "G      Charged Off       97\n",
       "       Fully Paid       198\n",
       "Name: loan_amnt, dtype: int64"
      ]
     },
     "execution_count": 109,
     "metadata": {},
     "output_type": "execute_result"
    }
   ],
   "source": [
    "temp=ds.groupby(['grade','loan_status']).loan_amnt.count()\n",
    "temp"
   ]
  },
  {
   "cell_type": "code",
   "execution_count": 110,
   "id": "e79c2e6f",
   "metadata": {},
   "outputs": [
    {
     "data": {
      "text/html": [
       "<div>\n",
       "<style scoped>\n",
       "    .dataframe tbody tr th:only-of-type {\n",
       "        vertical-align: middle;\n",
       "    }\n",
       "\n",
       "    .dataframe tbody tr th {\n",
       "        vertical-align: top;\n",
       "    }\n",
       "\n",
       "    .dataframe thead th {\n",
       "        text-align: right;\n",
       "    }\n",
       "</style>\n",
       "<table border=\"1\" class=\"dataframe\">\n",
       "  <thead>\n",
       "    <tr style=\"text-align: right;\">\n",
       "      <th></th>\n",
       "      <th>grade</th>\n",
       "      <th>loan_status</th>\n",
       "      <th>loan_amnt</th>\n",
       "    </tr>\n",
       "  </thead>\n",
       "  <tbody>\n",
       "    <tr>\n",
       "      <th>0</th>\n",
       "      <td>A</td>\n",
       "      <td>Charged Off</td>\n",
       "      <td>596</td>\n",
       "    </tr>\n",
       "    <tr>\n",
       "      <th>1</th>\n",
       "      <td>A</td>\n",
       "      <td>Fully Paid</td>\n",
       "      <td>9420</td>\n",
       "    </tr>\n",
       "    <tr>\n",
       "      <th>2</th>\n",
       "      <td>B</td>\n",
       "      <td>Charged Off</td>\n",
       "      <td>1408</td>\n",
       "    </tr>\n",
       "    <tr>\n",
       "      <th>3</th>\n",
       "      <td>B</td>\n",
       "      <td>Fully Paid</td>\n",
       "      <td>10233</td>\n",
       "    </tr>\n",
       "    <tr>\n",
       "      <th>4</th>\n",
       "      <td>C</td>\n",
       "      <td>Charged Off</td>\n",
       "      <td>1316</td>\n",
       "    </tr>\n",
       "    <tr>\n",
       "      <th>5</th>\n",
       "      <td>C</td>\n",
       "      <td>Fully Paid</td>\n",
       "      <td>6466</td>\n",
       "    </tr>\n",
       "    <tr>\n",
       "      <th>6</th>\n",
       "      <td>D</td>\n",
       "      <td>Charged Off</td>\n",
       "      <td>1101</td>\n",
       "    </tr>\n",
       "    <tr>\n",
       "      <th>7</th>\n",
       "      <td>D</td>\n",
       "      <td>Fully Paid</td>\n",
       "      <td>3948</td>\n",
       "    </tr>\n",
       "    <tr>\n",
       "      <th>8</th>\n",
       "      <td>E</td>\n",
       "      <td>Charged Off</td>\n",
       "      <td>702</td>\n",
       "    </tr>\n",
       "    <tr>\n",
       "      <th>9</th>\n",
       "      <td>E</td>\n",
       "      <td>Fully Paid</td>\n",
       "      <td>1939</td>\n",
       "    </tr>\n",
       "    <tr>\n",
       "      <th>10</th>\n",
       "      <td>F</td>\n",
       "      <td>Charged Off</td>\n",
       "      <td>315</td>\n",
       "    </tr>\n",
       "    <tr>\n",
       "      <th>11</th>\n",
       "      <td>F</td>\n",
       "      <td>Fully Paid</td>\n",
       "      <td>652</td>\n",
       "    </tr>\n",
       "    <tr>\n",
       "      <th>12</th>\n",
       "      <td>G</td>\n",
       "      <td>Charged Off</td>\n",
       "      <td>97</td>\n",
       "    </tr>\n",
       "    <tr>\n",
       "      <th>13</th>\n",
       "      <td>G</td>\n",
       "      <td>Fully Paid</td>\n",
       "      <td>198</td>\n",
       "    </tr>\n",
       "  </tbody>\n",
       "</table>\n",
       "</div>"
      ],
      "text/plain": [
       "   grade  loan_status  loan_amnt\n",
       "0      A  Charged Off        596\n",
       "1      A   Fully Paid       9420\n",
       "2      B  Charged Off       1408\n",
       "3      B   Fully Paid      10233\n",
       "4      C  Charged Off       1316\n",
       "5      C   Fully Paid       6466\n",
       "6      D  Charged Off       1101\n",
       "7      D   Fully Paid       3948\n",
       "8      E  Charged Off        702\n",
       "9      E   Fully Paid       1939\n",
       "10     F  Charged Off        315\n",
       "11     F   Fully Paid        652\n",
       "12     G  Charged Off         97\n",
       "13     G   Fully Paid        198"
      ]
     },
     "execution_count": 110,
     "metadata": {},
     "output_type": "execute_result"
    }
   ],
   "source": [
    "temp=temp.reset_index(drop=False)\n",
    "temp"
   ]
  },
  {
   "cell_type": "code",
   "execution_count": 111,
   "id": "4f1c96b0",
   "metadata": {},
   "outputs": [
    {
     "data": {
      "text/plain": [
       "<AxesSubplot:xlabel='grade', ylabel='loan_amnt'>"
      ]
     },
     "execution_count": 111,
     "metadata": {},
     "output_type": "execute_result"
    },
    {
     "data": {
      "image/png": "[encoded data removed]",
      "text/plain": [
       "<Figure size 640x480 with 1 Axes>"
      ]
     },
     "metadata": {},
     "output_type": "display_data"
    }
   ],
   "source": [
    "sns.barplot(x='grade',y='loan_amnt',data=temp)"
   ]
  },
  {
   "cell_type": "code",
   "execution_count": 112,
   "id": "829d64ed",
   "metadata": {},
   "outputs": [
    {
     "data": {
      "text/plain": [
       "<AxesSubplot:xlabel='grade', ylabel='loan_amnt'>"
      ]
     },
     "execution_count": 112,
     "metadata": {},
     "output_type": "execute_result"
    },
    {
     "data": {
      "image/png": "[encoded data removed]",
      "text/plain": [
       "<Figure size 640x480 with 1 Axes>"
      ]
     },
     "metadata": {},
     "output_type": "display_data"
    }
   ],
   "source": [
    "sns.barplot(x='grade',y='loan_amnt',data=temp,hue='loan_status')"
   ]
  },
  {
   "cell_type": "markdown",
   "id": "5801cf84",
   "metadata": {},
   "source": [
    "Loan grade B and C have the highest charged off"
   ]
  },
  {
   "cell_type": "markdown",
   "id": "596c353a",
   "metadata": {},
   "source": [
    "# Understanding impact of home ownership on charged off"
   ]
  },
  {
   "cell_type": "code",
   "execution_count": 120,
   "id": "98df9a37",
   "metadata": {},
   "outputs": [
    {
     "data": {
      "text/plain": [
       "home_ownership  loan_status\n",
       "RENT            Fully Paid     15596\n",
       "MORTGAGE        Fully Paid     14661\n",
       "RENT            Charged Off     2778\n",
       "OWN             Fully Paid      2520\n",
       "MORTGAGE        Charged Off     2303\n",
       "OWN             Charged Off      436\n",
       "OTHER           Fully Paid        78\n",
       "                Charged Off       18\n",
       "NONE            Fully Paid         1\n",
       "Name: loan_amnt, dtype: int64"
      ]
     },
     "execution_count": 120,
     "metadata": {},
     "output_type": "execute_result"
    }
   ],
   "source": [
    "temp=ds.groupby(['home_ownership','loan_status']).loan_amnt.count().sort_values(ascending=False)\n",
    "temp"
   ]
  },
  {
   "cell_type": "code",
   "execution_count": 121,
   "id": "fb0c82ec",
   "metadata": {},
   "outputs": [
    {
     "data": {
      "text/html": [
       "<div>\n",
       "<style scoped>\n",
       "    .dataframe tbody tr th:only-of-type {\n",
       "        vertical-align: middle;\n",
       "    }\n",
       "\n",
       "    .dataframe tbody tr th {\n",
       "        vertical-align: top;\n",
       "    }\n",
       "\n",
       "    .dataframe thead th {\n",
       "        text-align: right;\n",
       "    }\n",
       "</style>\n",
       "<table border=\"1\" class=\"dataframe\">\n",
       "  <thead>\n",
       "    <tr style=\"text-align: right;\">\n",
       "      <th></th>\n",
       "      <th>home_ownership</th>\n",
       "      <th>loan_status</th>\n",
       "      <th>loan_amnt</th>\n",
       "    </tr>\n",
       "  </thead>\n",
       "  <tbody>\n",
       "    <tr>\n",
       "      <th>0</th>\n",
       "      <td>RENT</td>\n",
       "      <td>Fully Paid</td>\n",
       "      <td>15596</td>\n",
       "    </tr>\n",
       "    <tr>\n",
       "      <th>1</th>\n",
       "      <td>MORTGAGE</td>\n",
       "      <td>Fully Paid</td>\n",
       "      <td>14661</td>\n",
       "    </tr>\n",
       "    <tr>\n",
       "      <th>2</th>\n",
       "      <td>RENT</td>\n",
       "      <td>Charged Off</td>\n",
       "      <td>2778</td>\n",
       "    </tr>\n",
       "    <tr>\n",
       "      <th>3</th>\n",
       "      <td>OWN</td>\n",
       "      <td>Fully Paid</td>\n",
       "      <td>2520</td>\n",
       "    </tr>\n",
       "    <tr>\n",
       "      <th>4</th>\n",
       "      <td>MORTGAGE</td>\n",
       "      <td>Charged Off</td>\n",
       "      <td>2303</td>\n",
       "    </tr>\n",
       "    <tr>\n",
       "      <th>5</th>\n",
       "      <td>OWN</td>\n",
       "      <td>Charged Off</td>\n",
       "      <td>436</td>\n",
       "    </tr>\n",
       "    <tr>\n",
       "      <th>6</th>\n",
       "      <td>OTHER</td>\n",
       "      <td>Fully Paid</td>\n",
       "      <td>78</td>\n",
       "    </tr>\n",
       "    <tr>\n",
       "      <th>7</th>\n",
       "      <td>OTHER</td>\n",
       "      <td>Charged Off</td>\n",
       "      <td>18</td>\n",
       "    </tr>\n",
       "    <tr>\n",
       "      <th>8</th>\n",
       "      <td>NONE</td>\n",
       "      <td>Fully Paid</td>\n",
       "      <td>1</td>\n",
       "    </tr>\n",
       "  </tbody>\n",
       "</table>\n",
       "</div>"
      ],
      "text/plain": [
       "  home_ownership  loan_status  loan_amnt\n",
       "0           RENT   Fully Paid      15596\n",
       "1       MORTGAGE   Fully Paid      14661\n",
       "2           RENT  Charged Off       2778\n",
       "3            OWN   Fully Paid       2520\n",
       "4       MORTGAGE  Charged Off       2303\n",
       "5            OWN  Charged Off        436\n",
       "6          OTHER   Fully Paid         78\n",
       "7          OTHER  Charged Off         18\n",
       "8           NONE   Fully Paid          1"
      ]
     },
     "execution_count": 121,
     "metadata": {},
     "output_type": "execute_result"
    }
   ],
   "source": [
    "temp=temp.reset_index(drop=False)\n",
    "temp"
   ]
  },
  {
   "cell_type": "code",
   "execution_count": 122,
   "id": "f3a43a49",
   "metadata": {},
   "outputs": [
    {
     "data": {
      "text/plain": [
       "<AxesSubplot:xlabel='home_ownership', ylabel='loan_amnt'>"
      ]
     },
     "execution_count": 122,
     "metadata": {},
     "output_type": "execute_result"
    },
    {
     "data": {
      "image/png": "[encoded data removed]",
      "text/plain": [
       "<Figure size 640x480 with 1 Axes>"
      ]
     },
     "metadata": {},
     "output_type": "display_data"
    }
   ],
   "source": [
    "sns.barplot(x='home_ownership',y='loan_amnt',data=temp,hue='loan_status')"
   ]
  },
  {
   "cell_type": "markdown",
   "id": "0c11332e",
   "metadata": {},
   "source": [
    "Hence the Mortgage and rent have highest % of loan amount"
   ]
  },
  {
   "cell_type": "markdown",
   "id": "84a99d0b",
   "metadata": {},
   "source": [
    "# understanding the effect of purpose"
   ]
  },
  {
   "cell_type": "code",
   "execution_count": 126,
   "id": "264550d3",
   "metadata": {},
   "outputs": [
    {
     "data": {
      "text/plain": [
       "array(['credit_card', 'car', 'small_business', 'other', 'wedding',\n",
       "       'debt_consolidation', 'home_improvement', 'major_purchase',\n",
       "       'medical', 'moving', 'vacation', 'house', 'renewable_energy',\n",
       "       'educational'], dtype=object)"
      ]
     },
     "execution_count": 126,
     "metadata": {},
     "output_type": "execute_result"
    }
   ],
   "source": [
    "df['purpose'].unique()"
   ]
  },
  {
   "cell_type": "code",
   "execution_count": 127,
   "id": "a2bf9896",
   "metadata": {},
   "outputs": [
    {
     "data": {
      "text/plain": [
       "purpose             loan_status\n",
       "debt_consolidation  Fully Paid     15267\n",
       "credit_card         Fully Paid      4471\n",
       "other               Fully Paid      3214\n",
       "debt_consolidation  Charged Off     2732\n",
       "home_improvement    Fully Paid      2519\n",
       "major_purchase      Fully Paid      1922\n",
       "car                 Fully Paid      1337\n",
       "small_business      Fully Paid      1273\n",
       "wedding             Fully Paid       829\n",
       "other               Charged Off      621\n",
       "medical             Fully Paid       574\n",
       "credit_card         Charged Off      537\n",
       "moving              Fully Paid       480\n",
       "small_business      Charged Off      464\n",
       "home_improvement    Charged Off      339\n",
       "vacation            Fully Paid       319\n",
       "house               Fully Paid       307\n",
       "educational         Fully Paid       261\n",
       "major_purchase      Charged Off      216\n",
       "car                 Charged Off      159\n",
       "medical             Charged Off      105\n",
       "moving              Charged Off       92\n",
       "wedding             Charged Off       89\n",
       "renewable_energy    Fully Paid        83\n",
       "house               Charged Off       57\n",
       "vacation            Charged Off       53\n",
       "educational         Charged Off       53\n",
       "renewable_energy    Charged Off       18\n",
       "Name: loan_amnt, dtype: int64"
      ]
     },
     "execution_count": 127,
     "metadata": {},
     "output_type": "execute_result"
    }
   ],
   "source": [
    "temp=ds.groupby(['purpose','loan_status']).loan_amnt.count().sort_values(ascending=False)\n",
    "temp"
   ]
  },
  {
   "cell_type": "code",
   "execution_count": 128,
   "id": "22764d89",
   "metadata": {},
   "outputs": [
    {
     "data": {
      "text/html": [
       "<div>\n",
       "<style scoped>\n",
       "    .dataframe tbody tr th:only-of-type {\n",
       "        vertical-align: middle;\n",
       "    }\n",
       "\n",
       "    .dataframe tbody tr th {\n",
       "        vertical-align: top;\n",
       "    }\n",
       "\n",
       "    .dataframe thead th {\n",
       "        text-align: right;\n",
       "    }\n",
       "</style>\n",
       "<table border=\"1\" class=\"dataframe\">\n",
       "  <thead>\n",
       "    <tr style=\"text-align: right;\">\n",
       "      <th></th>\n",
       "      <th>purpose</th>\n",
       "      <th>loan_status</th>\n",
       "      <th>loan_amnt</th>\n",
       "    </tr>\n",
       "  </thead>\n",
       "  <tbody>\n",
       "    <tr>\n",
       "      <th>0</th>\n",
       "      <td>debt_consolidation</td>\n",
       "      <td>Fully Paid</td>\n",
       "      <td>15267</td>\n",
       "    </tr>\n",
       "    <tr>\n",
       "      <th>1</th>\n",
       "      <td>credit_card</td>\n",
       "      <td>Fully Paid</td>\n",
       "      <td>4471</td>\n",
       "    </tr>\n",
       "    <tr>\n",
       "      <th>2</th>\n",
       "      <td>other</td>\n",
       "      <td>Fully Paid</td>\n",
       "      <td>3214</td>\n",
       "    </tr>\n",
       "    <tr>\n",
       "      <th>3</th>\n",
       "      <td>debt_consolidation</td>\n",
       "      <td>Charged Off</td>\n",
       "      <td>2732</td>\n",
       "    </tr>\n",
       "    <tr>\n",
       "      <th>4</th>\n",
       "      <td>home_improvement</td>\n",
       "      <td>Fully Paid</td>\n",
       "      <td>2519</td>\n",
       "    </tr>\n",
       "    <tr>\n",
       "      <th>5</th>\n",
       "      <td>major_purchase</td>\n",
       "      <td>Fully Paid</td>\n",
       "      <td>1922</td>\n",
       "    </tr>\n",
       "    <tr>\n",
       "      <th>6</th>\n",
       "      <td>car</td>\n",
       "      <td>Fully Paid</td>\n",
       "      <td>1337</td>\n",
       "    </tr>\n",
       "    <tr>\n",
       "      <th>7</th>\n",
       "      <td>small_business</td>\n",
       "      <td>Fully Paid</td>\n",
       "      <td>1273</td>\n",
       "    </tr>\n",
       "    <tr>\n",
       "      <th>8</th>\n",
       "      <td>wedding</td>\n",
       "      <td>Fully Paid</td>\n",
       "      <td>829</td>\n",
       "    </tr>\n",
       "    <tr>\n",
       "      <th>9</th>\n",
       "      <td>other</td>\n",
       "      <td>Charged Off</td>\n",
       "      <td>621</td>\n",
       "    </tr>\n",
       "    <tr>\n",
       "      <th>10</th>\n",
       "      <td>medical</td>\n",
       "      <td>Fully Paid</td>\n",
       "      <td>574</td>\n",
       "    </tr>\n",
       "    <tr>\n",
       "      <th>11</th>\n",
       "      <td>credit_card</td>\n",
       "      <td>Charged Off</td>\n",
       "      <td>537</td>\n",
       "    </tr>\n",
       "    <tr>\n",
       "      <th>12</th>\n",
       "      <td>moving</td>\n",
       "      <td>Fully Paid</td>\n",
       "      <td>480</td>\n",
       "    </tr>\n",
       "    <tr>\n",
       "      <th>13</th>\n",
       "      <td>small_business</td>\n",
       "      <td>Charged Off</td>\n",
       "      <td>464</td>\n",
       "    </tr>\n",
       "    <tr>\n",
       "      <th>14</th>\n",
       "      <td>home_improvement</td>\n",
       "      <td>Charged Off</td>\n",
       "      <td>339</td>\n",
       "    </tr>\n",
       "    <tr>\n",
       "      <th>15</th>\n",
       "      <td>vacation</td>\n",
       "      <td>Fully Paid</td>\n",
       "      <td>319</td>\n",
       "    </tr>\n",
       "    <tr>\n",
       "      <th>16</th>\n",
       "      <td>house</td>\n",
       "      <td>Fully Paid</td>\n",
       "      <td>307</td>\n",
       "    </tr>\n",
       "    <tr>\n",
       "      <th>17</th>\n",
       "      <td>educational</td>\n",
       "      <td>Fully Paid</td>\n",
       "      <td>261</td>\n",
       "    </tr>\n",
       "    <tr>\n",
       "      <th>18</th>\n",
       "      <td>major_purchase</td>\n",
       "      <td>Charged Off</td>\n",
       "      <td>216</td>\n",
       "    </tr>\n",
       "    <tr>\n",
       "      <th>19</th>\n",
       "      <td>car</td>\n",
       "      <td>Charged Off</td>\n",
       "      <td>159</td>\n",
       "    </tr>\n",
       "    <tr>\n",
       "      <th>20</th>\n",
       "      <td>medical</td>\n",
       "      <td>Charged Off</td>\n",
       "      <td>105</td>\n",
       "    </tr>\n",
       "    <tr>\n",
       "      <th>21</th>\n",
       "      <td>moving</td>\n",
       "      <td>Charged Off</td>\n",
       "      <td>92</td>\n",
       "    </tr>\n",
       "    <tr>\n",
       "      <th>22</th>\n",
       "      <td>wedding</td>\n",
       "      <td>Charged Off</td>\n",
       "      <td>89</td>\n",
       "    </tr>\n",
       "    <tr>\n",
       "      <th>23</th>\n",
       "      <td>renewable_energy</td>\n",
       "      <td>Fully Paid</td>\n",
       "      <td>83</td>\n",
       "    </tr>\n",
       "    <tr>\n",
       "      <th>24</th>\n",
       "      <td>house</td>\n",
       "      <td>Charged Off</td>\n",
       "      <td>57</td>\n",
       "    </tr>\n",
       "    <tr>\n",
       "      <th>25</th>\n",
       "      <td>vacation</td>\n",
       "      <td>Charged Off</td>\n",
       "      <td>53</td>\n",
       "    </tr>\n",
       "    <tr>\n",
       "      <th>26</th>\n",
       "      <td>educational</td>\n",
       "      <td>Charged Off</td>\n",
       "      <td>53</td>\n",
       "    </tr>\n",
       "    <tr>\n",
       "      <th>27</th>\n",
       "      <td>renewable_energy</td>\n",
       "      <td>Charged Off</td>\n",
       "      <td>18</td>\n",
       "    </tr>\n",
       "  </tbody>\n",
       "</table>\n",
       "</div>"
      ],
      "text/plain": [
       "               purpose  loan_status  loan_amnt\n",
       "0   debt_consolidation   Fully Paid      15267\n",
       "1          credit_card   Fully Paid       4471\n",
       "2                other   Fully Paid       3214\n",
       "3   debt_consolidation  Charged Off       2732\n",
       "4     home_improvement   Fully Paid       2519\n",
       "5       major_purchase   Fully Paid       1922\n",
       "6                  car   Fully Paid       1337\n",
       "7       small_business   Fully Paid       1273\n",
       "8              wedding   Fully Paid        829\n",
       "9                other  Charged Off        621\n",
       "10             medical   Fully Paid        574\n",
       "11         credit_card  Charged Off        537\n",
       "12              moving   Fully Paid        480\n",
       "13      small_business  Charged Off        464\n",
       "14    home_improvement  Charged Off        339\n",
       "15            vacation   Fully Paid        319\n",
       "16               house   Fully Paid        307\n",
       "17         educational   Fully Paid        261\n",
       "18      major_purchase  Charged Off        216\n",
       "19                 car  Charged Off        159\n",
       "20             medical  Charged Off        105\n",
       "21              moving  Charged Off         92\n",
       "22             wedding  Charged Off         89\n",
       "23    renewable_energy   Fully Paid         83\n",
       "24               house  Charged Off         57\n",
       "25            vacation  Charged Off         53\n",
       "26         educational  Charged Off         53\n",
       "27    renewable_energy  Charged Off         18"
      ]
     },
     "execution_count": 128,
     "metadata": {},
     "output_type": "execute_result"
    }
   ],
   "source": [
    "temp=temp.reset_index(drop=False)\n",
    "temp"
   ]
  },
  {
   "cell_type": "code",
   "execution_count": 137,
   "id": "b89db6da",
   "metadata": {},
   "outputs": [
    {
     "data": {
      "image/png": "[encoded data removed]",
      "text/plain": [
       "<Figure size 640x480 with 1 Axes>"
      ]
     },
     "metadata": {},
     "output_type": "display_data"
    }
   ],
   "source": [
    "sns.color_palette(\"tab10\")\n",
    "sns.barplot(x='purpose',y='loan_amnt',data=temp,hue='loan_status',color='r')\n",
    "plt.xticks(rotation=90)\n",
    "plt.show()"
   ]
  },
  {
   "cell_type": "markdown",
   "id": "453cda28",
   "metadata": {},
   "source": [
    "the highest charged off is under loan_purpose is debt , other and small business"
   ]
  },
  {
   "cell_type": "code",
   "execution_count": null,
   "id": "eea9d8f7",
   "metadata": {},
   "outputs": [],
   "source": []
  }
 ],
 "metadata": {
  "kernelspec": {
   "display_name": "Python 3 (ipykernel)",
   "language": "python",
   "name": "python3"
  },
  "language_info": {
   "codemirror_mode": {
    "name": "ipython",
    "version": 3
   },
   "file_extension": ".py",
   "mimetype": "text/x-python",
   "name": "python",
   "nbconvert_exporter": "python",
   "pygments_lexer": "ipython3",
   "version": "3.9.13"
  }
 },
 "nbformat": 4,
 "nbformat_minor": 5
}
